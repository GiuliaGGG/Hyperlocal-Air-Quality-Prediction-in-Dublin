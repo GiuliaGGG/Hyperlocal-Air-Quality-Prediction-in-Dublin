{
 "cells": [
  {
   "cell_type": "code",
   "execution_count": 1,
   "metadata": {},
   "outputs": [
    {
     "name": "stdout",
     "output_type": "stream",
     "text": [
      "Data fetched successfully!\n",
      "[{'serial_number': '10.1.1.1', 'label': 'Noise 1', 'location': 'Drumcondra Library', 'latitude': '53.369864', 'longitude': '-6.258966', 'last_calibrated': '2018-08-29'}, {'serial_number': '01749', 'label': 'Noise 2', 'location': 'Bull Island', 'latitude': '53.36866', 'longitude': '-6.149316', 'last_calibrated': '2023-03-13'}, {'serial_number': '01508', 'label': 'Noise 3', 'location': 'Ballyfermot Civic Centre', 'latitude': '53.343337', 'longitude': '-6.362923', 'last_calibrated': '2022-02-08'}, {'serial_number': '10118', 'label': 'Noise 4', 'location': 'Ballymun', 'latitude': '53.390401', 'longitude': '-6.264755', 'last_calibrated': '2023-03-01'}, {'serial_number': '01548', 'label': 'Noise 5', 'location': 'DCC Rowing Club', 'latitude': '53.346116', 'longitude': '-6.321013', 'last_calibrated': '2023-02-21'}, {'serial_number': '10115', 'label': 'Noise 6', 'location': 'Walkinstown', 'latitude': '53.319492', 'longitude': '-6.321945', 'last_calibrated': '2023-02-28'}, {'serial_number': '10.1.1.7', 'label': 'Noise 7', 'location': 'Woodstock Gardens', 'latitude': '53.323524', 'longitude': '-6.247734', 'last_calibrated': '2021-01-20'}, {'serial_number': '01870', 'label': 'Noise 8', 'location': 'Navan Road', 'latitude': '53.370758', 'longitude': '-6.325578', 'last_calibrated': '2023-08-22'}, {'serial_number': '01575', 'label': 'Noise 9', 'location': 'Raheny', 'latitude': '53.379996', 'longitude': '-6.172829', 'last_calibrated': '2023-02-21'}, {'serial_number': '01737', 'label': 'Noise 10', 'location': 'Ringsend Sports Centre', 'latitude': '53.340031', 'longitude': '-6.2200231', 'last_calibrated': '2023-03-07'}, {'serial_number': '10.1.1.11', 'label': 'Noise 11', 'location': 'Chancery Park ', 'latitude': '53.346694', 'longitude': '-6.272244', 'last_calibrated': '2021-01-28'}, {'serial_number': '10.1.1.12', 'label': 'Noise 12', 'location': 'Blessington Basin', 'latitude': '53.357153', 'longitude': '-6.270895', 'last_calibrated': '2021-02-01'}, {'serial_number': '01550', 'label': 'Noise 13', 'location': 'Dolphins Barn', 'latitude': '53.331059', 'longitude': '-6.292452', 'last_calibrated': '2023-02-21'}, {'serial_number': '01534', 'label': 'Noise 14', 'location': 'Woodstock Gardens Temp replacement', 'latitude': '53.323204', 'longitude': '-6.247469', 'last_calibrated': '2022-03-24'}, {'serial_number': '01535', 'label': 'Noise 16', 'location': 'Blessington Basin Temp replacement', 'latitude': '53.357153', 'longitude': '-6.270895', 'last_calibrated': '2022-03-24'}, {'serial_number': '01509', 'label': 'Noise 17', 'location': 'Strand Road', 'latitude': '53.3279804', 'longitude': '-6.2088104', 'last_calibrated': '2023-02-21'}, {'serial_number': '01529', 'label': 'Noise 18', 'location': 'Chancery Park Temp Replacement', 'latitude': '53.346665', 'longitude': '-6.272211', 'last_calibrated': '2022-03-21'}, {'serial_number': '01530', 'label': 'Noise 19 Spare', 'location': 'In Office', 'latitude': '', 'longitude': '', 'last_calibrated': '2022-03-22'}, {'serial_number': '01528', 'label': 'Noise 20', 'location': 'Drumcondra Temp Replacement', 'latitude': '53.369847', 'longitude': '-6.258945', 'last_calibrated': '2022-03-21'}, {'serial_number': 'DCC-AQ1', 'label': 'National Air 1', 'location': 'Civic Centre', 'latitude': '53.3442389', 'longitude': '-6.271525', 'last_calibrated': '0000-00-00'}, {'serial_number': 'DCC-AQ2', 'label': 'National Air 2', 'location': 'Marino', 'latitude': '53.3680667', 'longitude': '-6.22785', 'last_calibrated': '0000-00-00'}, {'serial_number': 'DCC-AQ3', 'label': 'National Air 3', 'location': 'Phoenix Park', 'latitude': '53.3644417', 'longitude': '-6.3489667', 'last_calibrated': '0000-00-00'}, {'serial_number': 'DCC-AQ4', 'label': 'National Air 4', 'location': 'Finglas', 'latitude': '53.390281', 'longitude': '-6.305769', 'last_calibrated': '0000-00-00'}, {'serial_number': 'DCC-AQ5', 'label': 'National Air 5', 'location': 'Ballyfermot', 'latitude': '53.340148', 'longitude': '-6.35181', 'last_calibrated': '0000-00-00'}, {'serial_number': 'DCC-AQ6', 'label': 'National Air 6', 'location': 'Davitt Road', 'latitude': '53.3362889', 'longitude': '-6.3090056', 'last_calibrated': '0000-00-00'}, {'serial_number': 'DCC-AQ7', 'label': 'National Air 7', 'location': 'Blanchardstown', 'latitude': '53.3856444', 'longitude': '-6.369925', 'last_calibrated': '0000-00-00'}, {'serial_number': 'DCC-AQ8', 'label': 'National Air 8', 'location': 'Dun Laoghaire', 'latitude': '53.2857556', 'longitude': '-6.1318222', 'last_calibrated': '0000-00-00'}, {'serial_number': 'DCC-AQ9', 'label': 'National Air 9', 'location': 'Old Bawn', 'latitude': '53.2805333', 'longitude': '-6.3560444', 'last_calibrated': '0000-00-00'}, {'serial_number': 'DCC-AQ10', 'label': 'National Air 10', 'location': 'St Johns Road West', 'latitude': '53.345707', 'longitude': '-6.295775', 'last_calibrated': '0000-00-00'}, {'serial_number': 'DM30-00118', 'label': 'DM30-00118', 'location': 'Ballymun Library', 'latitude': '53.390398', 'longitude': '-6.265060', 'last_calibrated': '0000-00-00'}, {'serial_number': 'TNT1088', 'label': 'Former Local Air 6', 'location': 'Formerly Walkinstown Library', 'latitude': '53.318902', 'longitude': '-6.32176', 'last_calibrated': '2019-10-31'}, {'serial_number': 'TNT1138', 'label': 'Local Air 2', 'location': 'Formerly Drumcondra', 'latitude': '53.369894', 'longitude': '-6.259124', 'last_calibrated': '0000-00-00'}, {'serial_number': 'TNT1296', 'label': 'Former Local Air 1', 'location': 'Formerly Ballymun Library', 'latitude': '53.390433', 'longitude': '-6.265270', 'last_calibrated': '2019-10-31'}, {'serial_number': 'TNO2161', 'label': 'Local Air 4', 'location': 'Custom House Quay', 'latitude': '53.347863', 'longitude': '-6.243785', 'last_calibrated': '0000-00-00'}, {'serial_number': 'TNO2162', 'label': 'Local Air 7', 'location': 'Coolock', 'latitude': '53.390542', 'longitude': '-6.202395', 'last_calibrated': '0000-00-00'}, {'serial_number': 'DCC-AQ13', 'label': 'National Air 13', 'location': 'Dublin Port', 'latitude': '53.351671', 'longitude': '-6.203778', 'last_calibrated': '0000-00-00'}, {'serial_number': 'DCC-AQ17', 'label': 'National Air 17', 'location': 'Ringsend', 'latitude': '53.341938', 'longitude': '-6.214116', 'last_calibrated': '0000-00-00'}, {'serial_number': 'DCC-AQ22', 'label': 'National Air 22', 'location': 'Rathmines', 'latitude': '53.322029', 'longitude': '-6.267154', 'last_calibrated': '0000-00-00'}, {'serial_number': 'DCC-AQ52', 'label': 'National Air 52', 'location': \"St. Anne's Park, Raheny\", 'latitude': '53.372904', 'longitude': '-6.179390', 'last_calibrated': None}, {'serial_number': 'DCC-AQ69', 'label': 'National Air 69', 'location': 'Pearse Street', 'latitude': '53.345053', 'longitude': '-6.254344', 'last_calibrated': '0000-00-00'}, {'serial_number': 'TNO4435', 'label': 'Local Air 2', 'location': 'Drumcondra', 'latitude': '53.3699', 'longitude': '-6.2591', 'last_calibrated': '0000-00-00'}, {'serial_number': 'TNO4438', 'label': 'Local Air 11', 'location': 'Cabra Community College', 'latitude': '53.3687022', 'longitude': '-6.2943', 'last_calibrated': '0000-00-00'}, {'serial_number': 'TNO4488', 'label': 'Local Air 9', 'location': 'Sandymount Green, Dublin', 'latitude': '53.33192', 'longitude': '-6.215766', 'last_calibrated': None}, {'serial_number': 'TNO4390', 'label': 'Local Air 10', 'location': 'TU Dublin - Park House', 'latitude': '53.357689', 'longitude': '-6.287134', 'last_calibrated': '0000-00-00'}, {'serial_number': 'TNO4324', 'label': 'Local Air 5', 'location': 'Lord Edward Street', 'latitude': '53.343628', 'longitude': '-6.270197', 'last_calibrated': '0000-00-00'}, {'serial_number': 'TNO4323', 'label': 'Local Air 6', 'location': 'Walkinstown Library', 'latitude': '53.318902', 'longitude': '-6.32176', 'last_calibrated': '0000-00-00'}, {'serial_number': 'TNO4325', 'label': 'Former Local Air 2', 'location': 'Formerly Drumcondra', 'latitude': '53.369894', 'longitude': '-6.259124', 'last_calibrated': '0000-00-00'}, {'serial_number': 'TNO4437', 'label': 'Local Air 1', 'location': 'Ballymun Library', 'latitude': '53.390433', 'longitude': '-6.265270', 'last_calibrated': '0000-00-00'}, {'serial_number': '0110-000157-000000', 'label': 'Local Air 13', 'location': 'Mountjoy Square', 'latitude': '53.356816', 'longitude': '-6.256876', 'last_calibrated': '0000-00-00'}, {'serial_number': '0110-000180-000000', 'label': 'Local Air 14', 'location': 'Kylemore', 'latitude': '53.333691', 'longitude': '-6.350796', 'last_calibrated': '0000-00-00'}, {'serial_number': '0110-000141-000000', 'label': 'Local Air 8', 'location': 'Weaver Park', 'latitude': '53.337909', 'longitude': '-6.281161', 'last_calibrated': '0000-00-00'}, {'serial_number': 'DM30-00530', 'label': 'Local Air 9', 'location': 'Sandymount Green', 'latitude': '53.33192', 'longitude': '-6.215766', 'last_calibrated': None}, {'serial_number': 'DM30-00531', 'label': 'Local Air 12', 'location': 'Donnybrook Fire Station', 'latitude': '53.322562', 'longitude': '-6.2370145', 'last_calibrated': None}, {'serial_number': 'DCC-AQ91', 'label': 'National Air 91', 'location': 'Amiens Street', 'latitude': '53.352372', 'longitude': '-6.249015', 'last_calibrated': None}]\n"
     ]
    }
   ],
   "source": [
    "# get sensor data from https://data.smartdublin.ie/sonitus-api\n",
    "# map that displays the data : https://dublincityairandnoise.ie/\n",
    "# page : https://data.gov.ie/dataset/sonitus/resource/38a117c9-79b5-4e1c-9080-ed862bbe689d\n",
    "\n",
    "\n",
    "\n",
    "import requests\n",
    "\n",
    "# Define the API endpoint\n",
    "url = 'https://data.smartdublin.ie/sonitus-api/api/monitors'\n",
    "\n",
    "# Set the parameters for the POST request\n",
    "params = {\n",
    "    'username': 'dublincityapi',\n",
    "    'password': 'Xpa5vAQ9ki'\n",
    "}\n",
    "\n",
    "# Set headers\n",
    "headers = {\n",
    "    'accept': '*/*'\n",
    "}\n",
    "\n",
    "# Send the POST request\n",
    "response = requests.post(url, headers=headers, params=params)\n",
    "\n",
    "# Check if the request was successful\n",
    "if response.status_code == 200:\n",
    "    print(\"Data fetched successfully!\")\n",
    "    # Print response data\n",
    "    print(response.json())\n",
    "else:\n",
    "    print(\"Failed to fetch data:\")\n",
    "    print(\"Status Code:\", response.status_code)\n",
    "    print(\"Response Body:\", response.text)\n"
   ]
  },
  {
   "cell_type": "code",
   "execution_count": 6,
   "metadata": {},
   "outputs": [
    {
     "name": "stdout",
     "output_type": "stream",
     "text": [
      "Data fetched successfully!\n",
      "[{'datetime': '2021-05-01 01:00:00', 'laeq': 66.7}]\n"
     ]
    }
   ],
   "source": [
    "import requests\n",
    "\n",
    "# Define the API endpoint\n",
    "url = 'https://data.smartdublin.ie/sonitus-api/api/hourly-averages'\n",
    "\n",
    "# Set the parameters for the POST request\n",
    "params = {\n",
    "    'username': 'dublincityapi',\n",
    "    'password': 'Xpa5vAQ9ki',\n",
    "    'monitor': '10.1.1.1',\n",
    "    'start': '1619827200', # may 2021\n",
    "    'end': ' 1619827200' # june 2021, bigger time frame gives {'error': 'Period requested exceeds permitted maximum'}\n",
    "}\n",
    "\n",
    "# Set headers\n",
    "headers = {\n",
    "    'accept': 'application/json'\n",
    "}\n",
    "\n",
    "# Send the POST request\n",
    "response = requests.post(url, headers=headers, params=params)\n",
    "\n",
    "# Check if the request was successful\n",
    "if response.status_code == 200:\n",
    "    print(\"Data fetched successfully!\")\n",
    "    # Print response data\n",
    "    print(response.json())\n",
    "else:\n",
    "    print(\"Failed to fetch data:\")\n",
    "    print(\"Status Code:\", response.status_code)\n",
    "    print(\"Response Body:\", response.text)\n"
   ]
  },
  {
   "cell_type": "code",
   "execution_count": 8,
   "metadata": {},
   "outputs": [
    {
     "name": "stdout",
     "output_type": "stream",
     "text": [
      "Data fetched successfully!\n",
      "{'error': 'API login failed'}\n"
     ]
    }
   ],
   "source": [
    "import requests\n",
    "from requests.auth import HTTPBasicAuth\n",
    "\n",
    "# Define the API endpoint\n",
    "url = 'https://data.smartdublin.ie/sonitus-api/api/hourly-averages'\n",
    "\n",
    "# Set the parameters for the POST request\n",
    "params = {\n",
    "    #'monitor': '10.1.1.1',\n",
    "    'start': '1619827200',\n",
    "    'end': '1661894400'\n",
    "}\n",
    "\n",
    "# Set headers\n",
    "headers = {\n",
    "    'accept': 'application/json'\n",
    "}\n",
    "\n",
    "# Username and password\n",
    "username = 'dublincityapi'\n",
    "# 'username': 'dublincityapi',\n",
    "    #'password': 'Xpa5vAQ9ki',\n",
    "password = 'Xpa5vAQ9ki'\n",
    "\n",
    "# Send the POST request with HTTP Basic Authentication\n",
    "response = requests.post(url, headers=headers, params=params, auth=HTTPBasicAuth(username, password))\n",
    "\n",
    "# Check the response\n",
    "if response.status_code == 200:\n",
    "    print(\"Data fetched successfully!\")\n",
    "    print(response.json())\n",
    "else:\n",
    "    print(\"Failed to fetch data:\")\n",
    "    print(\"Status Code:\", response.status_code)\n",
    "    print(\"Response Body:\", response.text)\n"
   ]
  },
  {
   "cell_type": "code",
   "execution_count": 12,
   "metadata": {},
   "outputs": [
    {
     "name": "stdout",
     "output_type": "stream",
     "text": [
      "Data fetched successfully!\n",
      "[{'datetime': '2021-05-01 01:00:00', 'laeq': 66.7}]\n"
     ]
    }
   ],
   "source": [
    "import requests\n",
    "\n",
    "# Define the API endpoint\n",
    "url = 'https://data.smartdublin.ie/sonitus-api/api/hourly-averages'\n",
    "\n",
    "# Set the parameters for the POST request\n",
    "params = {\n",
    "    'username': 'dublincityapi',\n",
    "    'password': 'Xpa5vAQ9ki',\n",
    "    'monitor': '10.1.1.1',\n",
    "    'start': '1619827200',\n",
    "    'end': '1619827200'\n",
    "}\n",
    "\n",
    "# Set headers\n",
    "headers = {\n",
    "    'accept': 'application/json'\n",
    "}\n",
    "\n",
    "# Send the POST request\n",
    "response = requests.post(url, headers=headers, params=params)\n",
    "\n",
    "# Check the response\n",
    "if response.status_code == 200 and 'error' not in response.json():\n",
    "    print(\"Data fetched successfully!\")\n",
    "    # Print the actual data\n",
    "    data = response.json()\n",
    "    print(data)\n",
    "else:\n",
    "    print(\"Failed to fetch data:\")\n",
    "    print(\"Status Code:\", response.status_code)\n",
    "    print(\"Response Body:\", response.text)\n"
   ]
  },
  {
   "cell_type": "code",
   "execution_count": 13,
   "metadata": {},
   "outputs": [
    {
     "name": "stdout",
     "output_type": "stream",
     "text": [
      "Data fetched successfully!\n",
      "[{'datetime': '2021-05-01 01:00:00', 'laeq': 66.7}]\n"
     ]
    }
   ],
   "source": [
    "import json\n",
    "\n",
    "if response.status_code == 200 and 'error' not in response.json():\n",
    "    print(\"Data fetched successfully!\")\n",
    "    data = response.json()\n",
    "    print(data)\n",
    "    # Write data to a JSON file\n",
    "    with open('data.json', 'w') as f:\n",
    "        json.dump(data, f)\n"
   ]
  }
 ],
 "metadata": {
  "kernelspec": {
   "display_name": "ML",
   "language": "python",
   "name": "python3"
  },
  "language_info": {
   "codemirror_mode": {
    "name": "ipython",
    "version": 3
   },
   "file_extension": ".py",
   "mimetype": "text/x-python",
   "name": "python",
   "nbconvert_exporter": "python",
   "pygments_lexer": "ipython3",
   "version": "3.11.7"
  }
 },
 "nbformat": 4,
 "nbformat_minor": 2
}

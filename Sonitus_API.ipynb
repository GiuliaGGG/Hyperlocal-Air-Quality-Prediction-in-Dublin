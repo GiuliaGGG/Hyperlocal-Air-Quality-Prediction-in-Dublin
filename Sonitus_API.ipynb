{
 "cells": [
  {
   "cell_type": "code",
   "execution_count": 1,
   "metadata": {},
   "outputs": [
    {
     "name": "stdout",
     "output_type": "stream",
     "text": [
      "Data fetched successfully!\n",
      "{'error': 'API login failed'}\n"
     ]
    }
   ],
   "source": [
    "# get sensor data from https://data.smartdublin.ie/sonitus-api\n",
    "# map that displays the data : https://dublincityairandnoise.ie/\n",
    "# page : https://data.gov.ie/dataset/sonitus/resource/38a117c9-79b5-4e1c-9080-ed862bbe689d\n",
    "\n",
    "\n",
    "\n",
    "import requests\n",
    "\n",
    "# Define the API endpoint\n",
    "url = 'https://data.smartdublin.ie/sonitus-api/api/monitors'\n",
    "\n",
    "# Set the parameters for the POST request\n",
    "params = {\n",
    "    'username': 'elena.dreyer@yahoo.de',\n",
    "    'password': '@L2s9.YXXQfryB.'\n",
    "}\n",
    "\n",
    "# Set headers\n",
    "headers = {\n",
    "    'accept': '*/*'\n",
    "}\n",
    "\n",
    "# Send the POST request\n",
    "response = requests.post(url, headers=headers, params=params)\n",
    "\n",
    "# Check if the request was successful\n",
    "if response.status_code == 200:\n",
    "    print(\"Data fetched successfully!\")\n",
    "    # Print response data\n",
    "    print(response.json())\n",
    "else:\n",
    "    print(\"Failed to fetch data:\")\n",
    "    print(\"Status Code:\", response.status_code)\n",
    "    print(\"Response Body:\", response.text)\n"
   ]
  },
  {
   "cell_type": "code",
   "execution_count": 2,
   "metadata": {},
   "outputs": [
    {
     "name": "stdout",
     "output_type": "stream",
     "text": [
      "Data fetched successfully!\n",
      "{'error': 'API login failed'}\n"
     ]
    }
   ],
   "source": [
    "import requests\n",
    "\n",
    "# Define the API endpoint\n",
    "url = 'https://data.smartdublin.ie/sonitus-api/api/hourly-averages'\n",
    "\n",
    "# Set the parameters for the POST request\n",
    "params = {\n",
    "    'username': 'elena.dreyer@yahoo.de',\n",
    "    'password': '@L2s9.YXXQfryB.',\n",
    "    'monitor': '10.1.1.1',\n",
    "    'start': '1619827200',\n",
    "    'end': '1661894400'\n",
    "}\n",
    "\n",
    "# Set headers\n",
    "headers = {\n",
    "    'accept': 'application/json'\n",
    "}\n",
    "\n",
    "# Send the POST request\n",
    "response = requests.post(url, headers=headers, params=params)\n",
    "\n",
    "# Check if the request was successful\n",
    "if response.status_code == 200:\n",
    "    print(\"Data fetched successfully!\")\n",
    "    # Print response data\n",
    "    print(response.json())\n",
    "else:\n",
    "    print(\"Failed to fetch data:\")\n",
    "    print(\"Status Code:\", response.status_code)\n",
    "    print(\"Response Body:\", response.text)\n"
   ]
  },
  {
   "cell_type": "code",
   "execution_count": 4,
   "metadata": {},
   "outputs": [
    {
     "name": "stdout",
     "output_type": "stream",
     "text": [
      "Data fetched successfully!\n",
      "{'error': 'API login failed'}\n"
     ]
    }
   ],
   "source": [
    "import requests\n",
    "from requests.auth import HTTPBasicAuth\n",
    "\n",
    "# Define the API endpoint\n",
    "url = 'https://data.smartdublin.ie/sonitus-api/api/hourly-averages'\n",
    "\n",
    "# Set the parameters for the POST request\n",
    "params = {\n",
    "    #'monitor': '10.1.1.1',\n",
    "    'start': '1619827200',\n",
    "    'end': '1661894400'\n",
    "}\n",
    "\n",
    "# Set headers\n",
    "headers = {\n",
    "    'accept': 'application/json'\n",
    "}\n",
    "\n",
    "# Username and password\n",
    "username = 'elena.dreyer@yahoo.de'\n",
    "password = '@L2s9.YXXQfryB.'\n",
    "\n",
    "# Send the POST request with HTTP Basic Authentication\n",
    "response = requests.post(url, headers=headers, params=params, auth=HTTPBasicAuth(username, password))\n",
    "\n",
    "# Check the response\n",
    "if response.status_code == 200:\n",
    "    print(\"Data fetched successfully!\")\n",
    "    print(response.json())\n",
    "else:\n",
    "    print(\"Failed to fetch data:\")\n",
    "    print(\"Status Code:\", response.status_code)\n",
    "    print(\"Response Body:\", response.text)\n"
   ]
  },
  {
   "cell_type": "code",
   "execution_count": 5,
   "metadata": {},
   "outputs": [
    {
     "name": "stdout",
     "output_type": "stream",
     "text": [
      "Failed to fetch data:\n",
      "Status Code: 200\n",
      "Response Body: {\"error\":\"API login failed\"}\n"
     ]
    }
   ],
   "source": [
    "import requests\n",
    "\n",
    "# Define the API endpoint\n",
    "url = 'https://data.smartdublin.ie/sonitus-api/api/hourly-averages'\n",
    "\n",
    "# Set the parameters for the POST request\n",
    "params = {\n",
    "    'username': 'elena.dreyer@yahoo.de',\n",
    "    'password': '@L2s9.YXXQfryB.',\n",
    "    'monitor': '10.1.1.1',\n",
    "    'start': '1619827200',\n",
    "    'end': '1661894400'\n",
    "}\n",
    "\n",
    "# Set headers\n",
    "headers = {\n",
    "    'accept': 'application/json'\n",
    "}\n",
    "\n",
    "# Send the POST request\n",
    "response = requests.post(url, headers=headers, params=params)\n",
    "\n",
    "# Check the response\n",
    "if response.status_code == 200 and 'error' not in response.json():\n",
    "    print(\"Data fetched successfully!\")\n",
    "    # Print the actual data\n",
    "    data = response.json()\n",
    "    print(data)\n",
    "else:\n",
    "    print(\"Failed to fetch data:\")\n",
    "    print(\"Status Code:\", response.status_code)\n",
    "    print(\"Response Body:\", response.text)\n"
   ]
  }
 ],
 "metadata": {
  "kernelspec": {
   "display_name": "ML",
   "language": "python",
   "name": "python3"
  },
  "language_info": {
   "codemirror_mode": {
    "name": "ipython",
    "version": 3
   },
   "file_extension": ".py",
   "mimetype": "text/x-python",
   "name": "python",
   "nbconvert_exporter": "python",
   "pygments_lexer": "ipython3",
   "version": "3.11.7"
  }
 },
 "nbformat": 4,
 "nbformat_minor": 2
}

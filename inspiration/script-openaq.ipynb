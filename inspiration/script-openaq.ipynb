{
 "cells": [
  {
   "cell_type": "code",
   "execution_count": 1,
   "id": "initial_id",
   "metadata": {
    "collapsed": true,
    "ExecuteTime": {
     "end_time": "2024-02-11T17:32:15.682173Z",
     "start_time": "2024-02-11T17:32:15.115690Z"
    }
   },
   "outputs": [
    {
     "name": "stdout",
     "output_type": "stream",
     "text": [
      "b'{\"meta\":{\"name\":\"openaq-api\",\"license\":\"\",\"website\":\"/\",\"page\":1,\"limit\":100,\"found\":9},\"results\":[{\"id\":302031,\"city\":\"Pljevlja\",\"name\":\"Gradina\",\"entity\":null,\"country\":\"ME\",\"sources\":null,\"isMobile\":false,\"isAnalysis\":null,\"parameters\":[{\"id\":5,\"unit\":\"\\xc2\\xb5g/m\\xc2\\xb3\",\"count\":6210,\"average\":7.345672615620805,\"lastValue\":2.1,\"parameter\":\"no2\",\"displayName\":\"no2 \\xc2\\xb5g/m\\xc2\\xb3\",\"lastUpdated\":\"2024-01-30T16:00:00+00:00\",\"parameterId\":5,\"firstUpdated\":\"2022-03-25T02:00:00+00:00\",\"manufacturers\":null},{\"id\":3,\"unit\":\"\\xc2\\xb5g/m\\xc2\\xb3\",\"count\":7300,\"average\":28.584559310801854,\"lastValue\":58.2,\"parameter\":\"o3\",\"displayName\":\"o3 \\xc2\\xb5g/m\\xc2\\xb3\",\"lastUpdated\":\"2024-02-11T17:00:00+00:00\",\"parameterId\":3,\"firstUpdated\":\"2022-03-25T02:00:00+00:00\",\"manufacturers\":null},{\"id\":6,\"unit\":\"\\xc2\\xb5g/m\\xc2\\xb3\",\"count\":4757,\"average\":18.859239016186674,\"lastValue\":15.2,\"parameter\":\"so2\",\"displayName\":\"so2 \\xc2\\xb5g/m\\xc2\\xb3\",\"lastUpdated\":\"2023-01-11T18:00:00+00:00\",\"parameterId\":6,\"firstUpdated\":\"2022-05-16T15:00:00+00:00\",\"manufacturers\":null}],\"sensorType\":null,\"coordinates\":{\"latitude\":43.278596,\"longitude\":19.281092},\"lastUpdated\":\"2024-02-11T17:00:00+00:00\",\"firstUpdated\":\"2022-03-25T02:00:00+00:00\",\"measurements\":18267,\"bounds\":[19.281092,43.278596,19.281092,43.278596],\"manufacturers\":[{\"modelName\":\"Government Monitor\",\"manufacturerName\":\"Unknown Governmental Organization\"}]},{\"id\":302032,\"city\":\"Pljevlja\",\"name\":\"Obili\\xc4\\x87eva\",\"entity\":null,\"country\":\"ME\",\"sources\":null,\"isMobile\":false,\"isAnalysis\":null,\"parameters\":[{\"id\":4,\"unit\":\"\\xc2\\xb5g/m\\xc2\\xb3\",\"count\":8489,\"average\":319.78601085915045,\"lastValue\":590.0,\"parameter\":\"co\",\"displayName\":\"co \\xc2\\xb5g/m\\xc2\\xb3\",\"lastUpdated\":\"2024-02-11T16:00:00+00:00\",\"parameterId\":4,\"firstUpdated\":\"2022-03-25T02:00:00+00:00\",\"manufacturers\":null},{\"id\":2,\"unit\":\"\\xc2\\xb5g/m\\xc2\\xb3\",\"count\":8660,\"average\":39.45785241248817,\"lastValue\":26.3,\"parameter\":\"pm25\",\"displayName\":\"pm25 \\xc2\\xb5g/m\\xc2\\xb3\",\"lastUpdated\":\"2024-02-11T16:00:00+00:00\",\"parameterId\":2,\"firstUpdated\":\"2022-03-30T16:00:00+00:00\",\"manufacturers\":null},{\"id\":6,\"unit\":\"\\xc2\\xb5g/m\\xc2\\xb3\",\"count\":8002,\"average\":13.151789109766641,\"lastValue\":50.9,\"parameter\":\"so2\",\"displayName\":\"so2 \\xc2\\xb5g/m\\xc2\\xb3\",\"lastUpdated\":\"2024-02-11T16:00:00+00:00\",\"parameterId\":6,\"firstUpdated\":\"2022-03-25T02:00:00+00:00\",\"manufacturers\":null},{\"id\":1,\"unit\":\"\\xc2\\xb5g/m\\xc2\\xb3\",\"count\":8660,\"average\":52.67617470829392,\"lastValue\":26.9,\"parameter\":\"pm10\",\"displayName\":\"pm10 \\xc2\\xb5g/m\\xc2\\xb3\",\"lastUpdated\":\"2024-02-11T16:00:00+00:00\",\"parameterId\":1,\"firstUpdated\":\"2022-03-30T16:00:00+00:00\",\"manufacturers\":null},{\"id\":5,\"unit\":\"\\xc2\\xb5g/m\\xc2\\xb3\",\"count\":8120,\"average\":10.692307692307699,\"lastValue\":32.0,\"parameter\":\"no2\",\"displayName\":\"no2 \\xc2\\xb5g/m\\xc2\\xb3\",\"lastUpdated\":\"2024-02-11T16:00:00+00:00\",\"parameterId\":5,\"firstUpdated\":\"2022-03-25T02:00:00+00:00\",\"manufacturers\":null}],\"sensorType\":null,\"coordinates\":{\"latitude\":43.357173,\"longitude\":19.349157},\"lastUpdated\":\"2024-02-11T16:00:00+00:00\",\"firstUpdated\":\"2022-03-25T02:00:00+00:00\",\"measurements\":41931,\"bounds\":[19.349157,43.357173,19.349157,43.357173],\"manufacturers\":[{\"modelName\":\"Government Monitor\",\"manufacturerName\":\"Unknown Governmental Organization\"}]},{\"id\":302036,\"city\":\"Podgorica\",\"name\":\"Ulica zetskih vladara (kru\\xc5\\xbeni tok)\",\"entity\":null,\"country\":\"ME\",\"sources\":null,\"isMobile\":false,\"isAnalysis\":null,\"parameters\":[{\"id\":4,\"unit\":\"\\xc2\\xb5g/m\\xc2\\xb3\",\"count\":8311,\"average\":578.7838730998017,\"lastValue\":220.0,\"parameter\":\"co\",\"displayName\":\"co \\xc2\\xb5g/m\\xc2\\xb3\",\"lastUpdated\":\"2024-02-11T16:00:00+00:00\",\"parameterId\":4,\"firstUpdated\":\"2022-03-24T14:00:00+00:00\",\"manufacturers\":null},{\"id\":5,\"unit\":\"\\xc2\\xb5g/m\\xc2\\xb3\",\"count\":8306,\"average\":9.669466027442557,\"lastValue\":13.5,\"parameter\":\"no2\",\"displayName\":\"no2 \\xc2\\xb5g/m\\xc2\\xb3\",\"lastUpdated\":\"2024-02-11T16:00:00+00:00\",\"parameterId\":5,\"firstUpdated\":\"2022-03-24T14:00:00+00:00\",\"manufacturers\":null}],\"sensorType\":null,\"coordinates\":{\"latitude\":42.420126,\"longitude\":19.255149},\"lastUpdated\":\"2024-02-11T16:00:00+00:00\",\"firstUpdated\":\"2022-03-24T14:00:00+00:00\",\"measurements\":16617,\"bounds\":[19.255149,42.420126,19.255149,42.420126],\"manufacturers\":[{\"modelName\":\"Government Monitor\",\"manufacturerName\":\"Unknown Governmental Organization\"}]},{\"id\":302034,\"city\":\"Bar\",\"name\":\"Sportska dvorana Topolica\",\"entity\":null,\"country\":\"ME\",\"sources\":null,\"isMobile\":false,\"isAnalysis\":null,\"parameters\":[{\"id\":2,\"unit\":\"\\xc2\\xb5g/m\\xc2\\xb3\",\"count\":8384,\"average\":10.198466105888173,\"lastValue\":12.7,\"parameter\":\"pm25\",\"displayName\":\"pm25 \\xc2\\xb5g/m\\xc2\\xb3\",\"lastUpdated\":\"2024-02-11T16:00:00+00:00\",\"parameterId\":2,\"firstUpdated\":\"2022-03-25T02:00:00+00:00\",\"manufacturers\":null},{\"id\":1,\"unit\":\"\\xc2\\xb5g/m\\xc2\\xb3\",\"count\":8384,\"average\":23.421326076199875,\"lastValue\":53.9,\"parameter\":\"pm10\",\"displayName\":\"pm10 \\xc2\\xb5g/m\\xc2\\xb3\",\"lastUpdated\":\"2024-02-11T16:00:00+00:00\",\"parameterId\":1,\"firstUpdated\":\"2022-03-25T02:00:00+00:00\",\"manufacturers\":null},{\"id\":5,\"unit\":\"\\xc2\\xb5g/m\\xc2\\xb3\",\"count\":8259,\"average\":11.663146551724154,\"lastValue\":4.9,\"parameter\":\"no2\",\"displayName\":\"no2 \\xc2\\xb5g/m\\xc2\\xb3\",\"lastUpdated\":\"2024-02-11T16:00:00+00:00\",\"parameterId\":5,\"firstUpdated\":\"2022-03-25T02:00:00+00:00\",\"manufacturers\":null},{\"id\":3,\"unit\":\"\\xc2\\xb5g/m\\xc2\\xb3\",\"count\":8260,\"average\":51.765246934040505,\"lastValue\":54.6,\"parameter\":\"o3\",\"displayName\":\"o3 \\xc2\\xb5g/m\\xc2\\xb3\",\"lastUpdated\":\"2024-02-11T16:00:00+00:00\",\"parameterId\":3,\"firstUpdated\":\"2022-03-25T02:00:00+00:00\",\"manufacturers\":null}],\"sensorType\":null,\"coordinates\":{\"latitude\":42.103842,\"longitude\":19.09441},\"lastUpdated\":\"2024-02-11T16:00:00+00:00\",\"firstUpdated\":\"2022-03-25T02:00:00+00:00\",\"measurements\":33287,\"bounds\":[19.09441,42.103842,19.09441,42.103842],\"manufacturers\":[{\"modelName\":\"Government Monitor\",\"manufacturerName\":\"Unknown Governmental Organization\"}]},{\"id\":302038,\"city\":\"Bijelo Polje\",\"name\":\"Osnovna \\xc5\\xa1kola \\\\\"Risto Ratkovi\\xc4\\x87\\\\\"\",\"entity\":null,\"country\":\"ME\",\"sources\":null,\"isMobile\":false,\"isAnalysis\":null,\"parameters\":[{\"id\":5,\"unit\":\"\\xc2\\xb5g/m\\xc2\\xb3\",\"count\":8074,\"average\":12.632695292291777,\"lastValue\":14.3,\"parameter\":\"no2\",\"displayName\":\"no2 \\xc2\\xb5g/m\\xc2\\xb3\",\"lastUpdated\":\"2024-02-11T16:00:00+00:00\",\"parameterId\":5,\"firstUpdated\":\"2022-03-25T02:00:00+00:00\",\"manufacturers\":null},{\"id\":4,\"unit\":\"\\xc2\\xb5g/m\\xc2\\xb3\",\"count\":8084,\"average\":264.34453057708873,\"lastValue\":650.0,\"parameter\":\"co\",\"displayName\":\"co \\xc2\\xb5g/m\\xc2\\xb3\",\"lastUpdated\":\"2024-02-11T16:00:00+00:00\",\"parameterId\":4,\"firstUpdated\":\"2022-03-25T02:00:00+00:00\",\"manufacturers\":null},{\"id\":2,\"unit\":\"\\xc2\\xb5g/m\\xc2\\xb3\",\"count\":7862,\"average\":42.831483166515085,\"lastValue\":27.0,\"parameter\":\"pm25\",\"displayName\":\"pm25 \\xc2\\xb5g/m\\xc2\\xb3\",\"lastUpdated\":\"2024-02-11T16:00:00+00:00\",\"parameterId\":2,\"firstUpdated\":\"2022-04-04T10:00:00+00:00\",\"manufacturers\":null},{\"id\":1,\"unit\":\"\\xc2\\xb5g/m\\xc2\\xb3\",\"count\":7862,\"average\":47.892265696087264,\"lastValue\":27.0,\"parameter\":\"pm10\",\"displayName\":\"pm10 \\xc2\\xb5g/m\\xc2\\xb3\",\"lastUpdated\":\"2024-02-11T16:00:00+00:00\",\"parameterId\":1,\"firstUpdated\":\"2022-04-04T10:00:00+00:00\",\"manufacturers\":null}],\"sensorType\":null,\"coordinates\":{\"latitude\":43.02901,\"longitude\":19.7426},\"lastUpdated\":\"2024-02-11T16:00:00+00:00\",\"firstUpdated\":\"2022-03-25T02:00:00+00:00\",\"measurements\":31882,\"bounds\":[19.7426,43.02901,19.7426,43.02901],\"manufacturers\":[{\"modelName\":\"Government Monitor\",\"manufacturerName\":\"Unknown Governmental Organization\"}]},{\"id\":302039,\"city\":\"Nik\\xc5\\xa1i\\xc4\\x87\",\"name\":\"Gimnazija \\\\\"Stojan Cerovi\\xc4\\x87\\\\\"\",\"entity\":null,\"country\":\"ME\",\"sources\":null,\"isMobile\":false,\"isAnalysis\":null,\"parameters\":[{\"id\":4,\"unit\":\"\\xc2\\xb5g/m\\xc2\\xb3\",\"count\":8195,\"average\":418.54316848281644,\"lastValue\":800.0,\"parameter\":\"co\",\"displayName\":\"co \\xc2\\xb5g/m\\xc2\\xb3\",\"lastUpdated\":\"2024-02-11T16:00:00+00:00\",\"parameterId\":4,\"firstUpdated\":\"2022-03-25T02:00:00+00:00\",\"manufacturers\":null},{\"id\":5,\"unit\":\"\\xc2\\xb5g/m\\xc2\\xb3\",\"count\":8193,\"average\":11.146739312657155,\"lastValue\":23.8,\"parameter\":\"no2\",\"displayName\":\"no2 \\xc2\\xb5g/m\\xc2\\xb3\",\"lastUpdated\":\"2024-02-11T16:00:00+00:00\",\"parameterId\":5,\"firstUpdated\":\"2022-03-25T02:00:00+00:00\",\"manufacturers\":null},{\"id\":6,\"unit\":\"\\xc2\\xb5g/m\\xc2\\xb3\",\"count\":8029,\"average\":5.653027427979988,\"lastValue\":6.7,\"parameter\":\"so2\",\"displayName\":\"so2 \\xc2\\xb5g/m\\xc2\\xb3\",\"lastUpdated\":\"2024-02-11T16:00:00+00:00\",\"parameterId\":6,\"firstUpdated\":\"2022-03-25T02:00:00+00:00\",\"manufacturers\":null},{\"id\":1,\"unit\":\"\\xc2\\xb5g/m\\xc2\\xb3\",\"count\":8446,\"average\":35.31315789473695,\"lastValue\":35.7,\"parameter\":\"pm10\",\"displayName\":\"pm10 \\xc2\\xb5g/m\\xc2\\xb3\",\"lastUpdated\":\"2024-02-11T16:00:00+00:00\",\"parameterId\":1,\"firstUpdated\":\"2022-03-25T02:00:00+00:00\",\"manufacturers\":null},{\"id\":3,\"unit\":\"\\xc2\\xb5g/m\\xc2\\xb3\",\"count\":8197,\"average\":56.41273885350325,\"lastValue\":56.2,\"parameter\":\"o3\",\"displayName\":\"o3 \\xc2\\xb5g/m\\xc2\\xb3\",\"lastUpdated\":\"2024-02-11T15:00:00+00:00\",\"parameterId\":3,\"firstUpdated\":\"2022-03-25T02:00:00+00:00\",\"manufacturers\":null},{\"id\":2,\"unit\":\"\\xc2\\xb5g/m\\xc2\\xb3\",\"count\":8446,\"average\":6.7200719189277605,\"lastValue\":29.8,\"parameter\":\"pm25\",\"displayName\":\"pm25 \\xc2\\xb5g/m\\xc2\\xb3\",\"lastUpdated\":\"2024-02-11T16:00:00+00:00\",\"parameterId\":2,\"firstUpdated\":\"2022-03-25T02:00:00+00:00\",\"manufacturers\":null}],\"sensorType\":null,\"coordinates\":{\"latitude\":42.78137,\"longitude\":18.942683},\"lastUpdated\":\"2024-02-11T16:00:00+00:00\",\"firstUpdated\":\"2022-03-25T02:00:00+00:00\",\"measurements\":49506,\"bounds\":[18.942683,42.78137,18.942683,42.78137],\"manufacturers\":[{\"modelName\":\"Government Monitor\",\"manufacturerName\":\"Unknown Governmental Organization\"}]},{\"id\":302033,\"city\":\"Podgorica\",\"name\":\"Ulica Me\\xc5\\xa1e Selimovi\\xc4\\x87a (Blok 5)\",\"entity\":null,\"country\":\"ME\",\"sources\":null,\"isMobile\":false,\"isAnalysis\":null,\"parameters\":[{\"id\":1,\"unit\":\"\\xc2\\xb5g/m\\xc2\\xb3\",\"count\":7895,\"average\":35.84836254204288,\"lastValue\":18.2,\"parameter\":\"pm10\",\"displayName\":\"pm10 \\xc2\\xb5g/m\\xc2\\xb3\",\"lastUpdated\":\"2024-02-11T16:00:00+00:00\",\"parameterId\":1,\"firstUpdated\":\"2022-04-01T09:00:00+00:00\",\"manufacturers\":null},{\"id\":2,\"unit\":\"\\xc2\\xb5g/m\\xc2\\xb3\",\"count\":7894,\"average\":21.896742786333853,\"lastValue\":10.6,\"parameter\":\"pm25\",\"displayName\":\"pm25 \\xc2\\xb5g/m\\xc2\\xb3\",\"lastUpdated\":\"2024-02-11T16:00:00+00:00\",\"parameterId\":2,\"firstUpdated\":\"2022-04-01T09:00:00+00:00\",\"manufacturers\":null},{\"id\":6,\"unit\":\"\\xc2\\xb5g/m\\xc2\\xb3\",\"count\":7996,\"average\":3.177966101694917,\"lastValue\":5.7,\"parameter\":\"so2\",\"displayName\":\"so2 \\xc2\\xb5g/m\\xc2\\xb3\",\"lastUpdated\":\"2024-02-11T16:00:00+00:00\",\"parameterId\":6,\"firstUpdated\":\"2022-03-24T16:00:00+00:00\",\"manufacturers\":null}],\"sensorType\":null,\"coordinates\":{\"latitude\":42.448087,\"longitude\":19.240889},\"lastUpdated\":\"2024-02-11T16:00:00+00:00\",\"firstUpdated\":\"2022-03-24T16:00:00+00:00\",\"measurements\":23785,\"bounds\":[19.240889,42.448087,19.240889,42.448087],\"manufacturers\":[{\"modelName\":\"Government Monitor\",\"manufacturerName\":\"Unknown Governmental Organization\"}]},{\"id\":302035,\"city\":\"Gornje Mrke\",\"name\":\"Gornje Mrke\",\"entity\":null,\"country\":\"ME\",\"sources\":null,\"isMobile\":false,\"isAnalysis\":null,\"parameters\":[{\"id\":3,\"unit\":\"\\xc2\\xb5g/m\\xc2\\xb3\",\"count\":8260,\"average\":66.51430232558143,\"lastValue\":67.9,\"parameter\":\"o3\",\"displayName\":\"o3 \\xc2\\xb5g/m\\xc2\\xb3\",\"lastUpdated\":\"2024-02-11T15:00:00+00:00\",\"parameterId\":3,\"firstUpdated\":\"2022-03-25T01:00:00+00:00\",\"manufacturers\":null},{\"id\":5,\"unit\":\"\\xc2\\xb5g/m\\xc2\\xb3\",\"count\":6959,\"average\":3.3700567260940058,\"lastValue\":2.0,\"parameter\":\"no2\",\"displayName\":\"no2 \\xc2\\xb5g/m\\xc2\\xb3\",\"lastUpdated\":\"2024-01-30T17:00:00+00:00\",\"parameterId\":5,\"firstUpdated\":\"2022-05-14T06:00:00+00:00\",\"manufacturers\":null}],\"sensorType\":null,\"coordinates\":{\"latitude\":42.518204,\"longitude\":19.327783},\"lastUpdated\":\"2024-02-11T15:00:00+00:00\",\"firstUpdated\":\"2022-03-25T01:00:00+00:00\",\"measurements\":15219,\"bounds\":[19.327783,42.518204,19.327783,42.518204],\"manufacturers\":[{\"modelName\":\"Government Monitor\",\"manufacturerName\":\"Unknown Governmental Organization\"}]},{\"id\":302037,\"city\":\"Kotor\",\"name\":\"Dobrota\",\"entity\":null,\"country\":\"ME\",\"sources\":null,\"isMobile\":false,\"isAnalysis\":null,\"parameters\":[{\"id\":5,\"unit\":\"\\xc2\\xb5g/m\\xc2\\xb3\",\"count\":7310,\"average\":17.31251099771247,\"lastValue\":2.0,\"parameter\":\"no2\",\"displayName\":\"no2 \\xc2\\xb5g/m\\xc2\\xb3\",\"lastUpdated\":\"2024-02-10T22:00:00+00:00\",\"parameterId\":5,\"firstUpdated\":\"2022-03-25T02:00:00+00:00\",\"manufacturers\":null},{\"id\":4,\"unit\":\"\\xc2\\xb5g/m\\xc2\\xb3\",\"count\":7298,\"average\":237.07218309859155,\"lastValue\":100.0,\"parameter\":\"co\",\"displayName\":\"co \\xc2\\xb5g/m\\xc2\\xb3\",\"lastUpdated\":\"2024-02-10T22:00:00+00:00\",\"parameterId\":4,\"firstUpdated\":\"2022-03-25T02:00:00+00:00\",\"manufacturers\":null},{\"id\":6,\"unit\":\"\\xc2\\xb5g/m\\xc2\\xb3\",\"count\":7303,\"average\":5.151531151003165,\"lastValue\":3.0,\"parameter\":\"so2\",\"displayName\":\"so2 \\xc2\\xb5g/m\\xc2\\xb3\",\"lastUpdated\":\"2024-02-10T22:00:00+00:00\",\"parameterId\":6,\"firstUpdated\":\"2022-03-25T02:00:00+00:00\",\"manufacturers\":null}],\"sensorType\":null,\"coordinates\":{\"latitude\":42.465889,\"longitude\":18.764574},\"lastUpdated\":\"2024-02-10T22:00:00+00:00\",\"firstUpdated\":\"2022-03-25T02:00:00+00:00\",\"measurements\":21911,\"bounds\":[18.764574,42.465889,18.764574,42.465889],\"manufacturers\":[{\"modelName\":\"Government Monitor\",\"manufacturerName\":\"Unknown Governmental Organization\"}]}]}'\n"
     ]
    }
   ],
   "source": [
    "import requests\n",
    "\n",
    "res = requests.get(\"https://api.openaq.org/v2/locations/2178\", \n",
    "                   headers={\"X-API-Key\": \"67482a2eaa4be7536b6730fafa9d380f9d6bcf3ebfb4c80758d0c4bfa3d0881f\"})\n",
    "\n",
    "\n",
    "country_code = \"ME\"\n",
    "url = f\"https://api.openaq.org/v2/locations?country={country_code}\"\n",
    "\n",
    "headers = {\"Accept\": \"application/json\"}\n",
    "\n",
    "response = requests.get(url, headers=headers)\n",
    "\n",
    "print(response.content)"
   ]
  },
  {
   "cell_type": "code",
   "outputs": [
    {
     "name": "stderr",
     "output_type": "stream",
     "text": [
      "/var/folders/96/d0b81fgx57nf5q8xrlw36p1w0000gn/T/ipykernel_32096/942136448.py:1: DeprecationWarning: \n",
      "Pyarrow will become a required dependency of pandas in the next major release of pandas (pandas 3.0),\n",
      "(to allow more performant data types, such as the Arrow string type, and better interoperability with other libraries)\n",
      "but was not found to be installed on your system.\n",
      "If this would cause problems for you,\n",
      "please provide us feedback at https://github.com/pandas-dev/pandas/issues/54466\n",
      "        \n",
      "  import pandas as pd\n"
     ]
    }
   ],
   "source": [
    "import pandas as pd\n",
    "data = pd.read_csv(\"data/AirView_Hamburg_Measurements.csv\")"
   ],
   "metadata": {
    "collapsed": false,
    "ExecuteTime": {
     "end_time": "2024-02-28T14:18:07.022108Z",
     "start_time": "2024-02-28T14:18:03.965068Z"
    }
   },
   "id": "78740dacb3e4c1b5",
   "execution_count": 1
  },
  {
   "cell_type": "code",
   "outputs": [
    {
     "data": {
      "text/plain": "                   gps_timestamp   latitude  longitude  NO_ppb  NO2_ppb  \\\n0        2022-08-19 05:17:54 UTC  53.551017   9.984317 -12.554   -0.340   \n1        2022-08-19 05:17:55 UTC  53.551017   9.984317     NaN   -0.115   \n2        2022-08-19 05:17:56 UTC  53.551017   9.984317  -1.588   -2.591   \n3        2022-08-19 05:17:57 UTC  53.551017   9.984317 -15.491    1.236   \n4        2022-08-19 05:17:58 UTC  53.551017   9.984317  -3.579    2.811   \n...                          ...        ...        ...     ...      ...   \n2338320  2022-03-14 14:49:57 UTC  53.586394  10.051138  -4.591   24.923   \n2338321  2022-03-14 14:49:58 UTC  53.586394  10.051138  -4.820   19.971   \n2338322  2022-03-14 14:49:59 UTC  53.586394  10.051138   0.227   24.022   \n2338323  2022-03-14 14:50:00 UTC  53.586394  10.051138  -2.022   22.801   \n2338324  2022-03-14 14:50:01 UTC  53.586394  10.051138  -3.215   21.000   \n\n         O3_ppb  CO_ppm  CO2_ppm  PMch1_perL  PMch2_perL  PMch3_perL  \\\n0           NaN   0.405  428.536    104460.0     12120.0      1620.0   \n1        17.947   0.380      NaN    105480.0     12180.0      2640.0   \n2           NaN   0.382      NaN    107520.0     13260.0      2640.0   \n3           NaN     NaN  428.540    106920.0     11340.0      1920.0   \n4        17.947   0.400      NaN    100440.0     13320.0      1740.0   \n...         ...     ...      ...         ...         ...         ...   \n2338320     NaN   0.380  479.887     58800.0      6060.0       780.0   \n2338321     NaN   0.396      NaN     63480.0      3900.0       420.0   \n2338322   8.216   0.410  479.838     61440.0      5340.0       240.0   \n2338323     NaN   0.378      NaN     66720.0      5880.0       360.0   \n2338324     NaN     NaN  475.976     61380.0      4920.0       480.0   \n\n         PMch4_perL  PMch5_perL  PMch6_perL  PM25_ugm3  \n0             960.0       360.0       600.0     26.008  \n1             900.0       660.0       780.0     31.414  \n2             780.0       420.0       480.0     25.551  \n3            1080.0       360.0       480.0     24.746  \n4             660.0       360.0       180.0     19.252  \n...             ...         ...         ...        ...  \n2338320       120.0       180.0        60.0      9.103  \n2338321       240.0        60.0       120.0      8.948  \n2338322       360.0        60.0        60.0      8.455  \n2338323       480.0        60.0       120.0     10.262  \n2338324       240.0        60.0       240.0     10.867  \n\n[2338325 rows x 15 columns]",
      "text/html": "<div>\n<style scoped>\n    .dataframe tbody tr th:only-of-type {\n        vertical-align: middle;\n    }\n\n    .dataframe tbody tr th {\n        vertical-align: top;\n    }\n\n    .dataframe thead th {\n        text-align: right;\n    }\n</style>\n<table border=\"1\" class=\"dataframe\">\n  <thead>\n    <tr style=\"text-align: right;\">\n      <th></th>\n      <th>gps_timestamp</th>\n      <th>latitude</th>\n      <th>longitude</th>\n      <th>NO_ppb</th>\n      <th>NO2_ppb</th>\n      <th>O3_ppb</th>\n      <th>CO_ppm</th>\n      <th>CO2_ppm</th>\n      <th>PMch1_perL</th>\n      <th>PMch2_perL</th>\n      <th>PMch3_perL</th>\n      <th>PMch4_perL</th>\n      <th>PMch5_perL</th>\n      <th>PMch6_perL</th>\n      <th>PM25_ugm3</th>\n    </tr>\n  </thead>\n  <tbody>\n    <tr>\n      <th>0</th>\n      <td>2022-08-19 05:17:54 UTC</td>\n      <td>53.551017</td>\n      <td>9.984317</td>\n      <td>-12.554</td>\n      <td>-0.340</td>\n      <td>NaN</td>\n      <td>0.405</td>\n      <td>428.536</td>\n      <td>104460.0</td>\n      <td>12120.0</td>\n      <td>1620.0</td>\n      <td>960.0</td>\n      <td>360.0</td>\n      <td>600.0</td>\n      <td>26.008</td>\n    </tr>\n    <tr>\n      <th>1</th>\n      <td>2022-08-19 05:17:55 UTC</td>\n      <td>53.551017</td>\n      <td>9.984317</td>\n      <td>NaN</td>\n      <td>-0.115</td>\n      <td>17.947</td>\n      <td>0.380</td>\n      <td>NaN</td>\n      <td>105480.0</td>\n      <td>12180.0</td>\n      <td>2640.0</td>\n      <td>900.0</td>\n      <td>660.0</td>\n      <td>780.0</td>\n      <td>31.414</td>\n    </tr>\n    <tr>\n      <th>2</th>\n      <td>2022-08-19 05:17:56 UTC</td>\n      <td>53.551017</td>\n      <td>9.984317</td>\n      <td>-1.588</td>\n      <td>-2.591</td>\n      <td>NaN</td>\n      <td>0.382</td>\n      <td>NaN</td>\n      <td>107520.0</td>\n      <td>13260.0</td>\n      <td>2640.0</td>\n      <td>780.0</td>\n      <td>420.0</td>\n      <td>480.0</td>\n      <td>25.551</td>\n    </tr>\n    <tr>\n      <th>3</th>\n      <td>2022-08-19 05:17:57 UTC</td>\n      <td>53.551017</td>\n      <td>9.984317</td>\n      <td>-15.491</td>\n      <td>1.236</td>\n      <td>NaN</td>\n      <td>NaN</td>\n      <td>428.540</td>\n      <td>106920.0</td>\n      <td>11340.0</td>\n      <td>1920.0</td>\n      <td>1080.0</td>\n      <td>360.0</td>\n      <td>480.0</td>\n      <td>24.746</td>\n    </tr>\n    <tr>\n      <th>4</th>\n      <td>2022-08-19 05:17:58 UTC</td>\n      <td>53.551017</td>\n      <td>9.984317</td>\n      <td>-3.579</td>\n      <td>2.811</td>\n      <td>17.947</td>\n      <td>0.400</td>\n      <td>NaN</td>\n      <td>100440.0</td>\n      <td>13320.0</td>\n      <td>1740.0</td>\n      <td>660.0</td>\n      <td>360.0</td>\n      <td>180.0</td>\n      <td>19.252</td>\n    </tr>\n    <tr>\n      <th>...</th>\n      <td>...</td>\n      <td>...</td>\n      <td>...</td>\n      <td>...</td>\n      <td>...</td>\n      <td>...</td>\n      <td>...</td>\n      <td>...</td>\n      <td>...</td>\n      <td>...</td>\n      <td>...</td>\n      <td>...</td>\n      <td>...</td>\n      <td>...</td>\n      <td>...</td>\n    </tr>\n    <tr>\n      <th>2338320</th>\n      <td>2022-03-14 14:49:57 UTC</td>\n      <td>53.586394</td>\n      <td>10.051138</td>\n      <td>-4.591</td>\n      <td>24.923</td>\n      <td>NaN</td>\n      <td>0.380</td>\n      <td>479.887</td>\n      <td>58800.0</td>\n      <td>6060.0</td>\n      <td>780.0</td>\n      <td>120.0</td>\n      <td>180.0</td>\n      <td>60.0</td>\n      <td>9.103</td>\n    </tr>\n    <tr>\n      <th>2338321</th>\n      <td>2022-03-14 14:49:58 UTC</td>\n      <td>53.586394</td>\n      <td>10.051138</td>\n      <td>-4.820</td>\n      <td>19.971</td>\n      <td>NaN</td>\n      <td>0.396</td>\n      <td>NaN</td>\n      <td>63480.0</td>\n      <td>3900.0</td>\n      <td>420.0</td>\n      <td>240.0</td>\n      <td>60.0</td>\n      <td>120.0</td>\n      <td>8.948</td>\n    </tr>\n    <tr>\n      <th>2338322</th>\n      <td>2022-03-14 14:49:59 UTC</td>\n      <td>53.586394</td>\n      <td>10.051138</td>\n      <td>0.227</td>\n      <td>24.022</td>\n      <td>8.216</td>\n      <td>0.410</td>\n      <td>479.838</td>\n      <td>61440.0</td>\n      <td>5340.0</td>\n      <td>240.0</td>\n      <td>360.0</td>\n      <td>60.0</td>\n      <td>60.0</td>\n      <td>8.455</td>\n    </tr>\n    <tr>\n      <th>2338323</th>\n      <td>2022-03-14 14:50:00 UTC</td>\n      <td>53.586394</td>\n      <td>10.051138</td>\n      <td>-2.022</td>\n      <td>22.801</td>\n      <td>NaN</td>\n      <td>0.378</td>\n      <td>NaN</td>\n      <td>66720.0</td>\n      <td>5880.0</td>\n      <td>360.0</td>\n      <td>480.0</td>\n      <td>60.0</td>\n      <td>120.0</td>\n      <td>10.262</td>\n    </tr>\n    <tr>\n      <th>2338324</th>\n      <td>2022-03-14 14:50:01 UTC</td>\n      <td>53.586394</td>\n      <td>10.051138</td>\n      <td>-3.215</td>\n      <td>21.000</td>\n      <td>NaN</td>\n      <td>NaN</td>\n      <td>475.976</td>\n      <td>61380.0</td>\n      <td>4920.0</td>\n      <td>480.0</td>\n      <td>240.0</td>\n      <td>60.0</td>\n      <td>240.0</td>\n      <td>10.867</td>\n    </tr>\n  </tbody>\n</table>\n<p>2338325 rows × 15 columns</p>\n</div>"
     },
     "execution_count": 2,
     "metadata": {},
     "output_type": "execute_result"
    }
   ],
   "source": [
    "data"
   ],
   "metadata": {
    "collapsed": false,
    "ExecuteTime": {
     "end_time": "2024-02-28T14:18:08.667540Z",
     "start_time": "2024-02-28T14:18:08.648059Z"
    }
   },
   "id": "36a6c483e92f8de1",
   "execution_count": 2
  },
  {
   "cell_type": "code",
   "outputs": [],
   "source": [
    "import geopandas as gpd\n",
    "data_geo = gpd.read_file(\"data/AirView_Hamburg_RoadData.json\")"
   ],
   "metadata": {
    "collapsed": false,
    "ExecuteTime": {
     "end_time": "2024-02-12T22:06:18.785856Z",
     "start_time": "2024-02-12T22:06:10.216422Z"
    }
   },
   "id": "846bafe4cfc967a6",
   "execution_count": 4
  },
  {
   "cell_type": "code",
   "outputs": [
    {
     "data": {
      "text/plain": "       road_id     osm_id  osm_code    osm_fclass                osm_name  \\\n0        82328   29371655      5132    trunk_link                           \n1       144344  109866544      5141       service                           \n2       203495  181020242      5141       service                           \n3       360284  800800832      5141       service                           \n4       342305  741853131      5141       service                           \n...        ...        ...       ...           ...                     ...   \n25709    31974   22791188      5121  unclassified  An der Stadthausbrücke   \n25710   113991   44605979      5141       service                           \n25711   251413  321710587      5122   residential               Wexstraße   \n25712   251412  321710587      5122   residential               Wexstraße   \n25713   113990   44605979      5141       service                           \n\n      osm_ref osm_oneway  osm_maxspeed  osm_layer  osm_bridge  ...  COpoints  \\\n0                      F            50          0       False  ...         1   \n1                      B             0          0       False  ...         0   \n2                      B             0          0       False  ...         1   \n3                      B             0          0       False  ...         1   \n4                      B             0          0       False  ...         1   \n...       ...        ...           ...        ...         ...  ...       ...   \n25709                  B            50          0       False  ...      2603   \n25710                  B             0          0       False  ...     64525   \n25711                  B            50          0       False  ...      1286   \n25712                  B            50          0       False  ...       940   \n25713                  B             0          0       False  ...      6292   \n\n       COdrives  CO_ppm  O3points  O3drives  O3_ppb  PM25points  PM25drives  \\\n0           1.0   0.399         0       NaN     NaN           0         NaN   \n1           NaN     NaN         0       NaN     NaN           0         NaN   \n2           1.0   0.304         0       NaN     NaN           0         NaN   \n3           1.0   0.255         0       NaN     NaN           0         NaN   \n4           1.0   0.399         1       1.0  17.754           0         NaN   \n...         ...     ...       ...       ...     ...         ...         ...   \n25709     114.0   0.305       970     112.0  15.204        2737       115.0   \n25710     137.0   0.286     23999     135.0  17.878       67315       138.0   \n25711     154.0   0.305       481     152.0  16.496        1358       156.0   \n25712     157.0   0.309       347     153.0  16.357         991       160.0   \n25713     166.0   0.296      2311     161.0  17.603        6707       173.0   \n\n       PM25_ugm3                                           geometry  \n0            NaN  LINESTRING (10.08314 53.54493, 10.08332 53.54480)  \n1            NaN  LINESTRING (10.03950 53.56247, 10.03932 53.56261)  \n2            NaN  LINESTRING (10.03553 53.54973, 10.03544 53.549...  \n3            NaN  LINESTRING (9.97048 53.60222, 9.97055 53.60232...  \n4            NaN  LINESTRING (10.04742 53.53898, 10.04730 53.538...  \n...          ...                                                ...  \n25709      9.433  LINESTRING (9.98508 53.55141, 9.98501 53.55172...  \n25710      8.582  LINESTRING (9.98430 53.55129, 9.98432 53.55126...  \n25711      9.156    LINESTRING (9.98454 53.55176, 9.98412 53.55167)  \n25712      8.770    LINESTRING (9.98496 53.55184, 9.98454 53.55176)  \n25713      8.540    LINESTRING (9.98412 53.55167, 9.98430 53.55129)  \n\n[25714 rows x 30 columns]",
      "text/html": "<div>\n<style scoped>\n    .dataframe tbody tr th:only-of-type {\n        vertical-align: middle;\n    }\n\n    .dataframe tbody tr th {\n        vertical-align: top;\n    }\n\n    .dataframe thead th {\n        text-align: right;\n    }\n</style>\n<table border=\"1\" class=\"dataframe\">\n  <thead>\n    <tr style=\"text-align: right;\">\n      <th></th>\n      <th>road_id</th>\n      <th>osm_id</th>\n      <th>osm_code</th>\n      <th>osm_fclass</th>\n      <th>osm_name</th>\n      <th>osm_ref</th>\n      <th>osm_oneway</th>\n      <th>osm_maxspeed</th>\n      <th>osm_layer</th>\n      <th>osm_bridge</th>\n      <th>...</th>\n      <th>COpoints</th>\n      <th>COdrives</th>\n      <th>CO_ppm</th>\n      <th>O3points</th>\n      <th>O3drives</th>\n      <th>O3_ppb</th>\n      <th>PM25points</th>\n      <th>PM25drives</th>\n      <th>PM25_ugm3</th>\n      <th>geometry</th>\n    </tr>\n  </thead>\n  <tbody>\n    <tr>\n      <th>0</th>\n      <td>82328</td>\n      <td>29371655</td>\n      <td>5132</td>\n      <td>trunk_link</td>\n      <td></td>\n      <td></td>\n      <td>F</td>\n      <td>50</td>\n      <td>0</td>\n      <td>False</td>\n      <td>...</td>\n      <td>1</td>\n      <td>1.0</td>\n      <td>0.399</td>\n      <td>0</td>\n      <td>NaN</td>\n      <td>NaN</td>\n      <td>0</td>\n      <td>NaN</td>\n      <td>NaN</td>\n      <td>LINESTRING (10.08314 53.54493, 10.08332 53.54480)</td>\n    </tr>\n    <tr>\n      <th>1</th>\n      <td>144344</td>\n      <td>109866544</td>\n      <td>5141</td>\n      <td>service</td>\n      <td></td>\n      <td></td>\n      <td>B</td>\n      <td>0</td>\n      <td>0</td>\n      <td>False</td>\n      <td>...</td>\n      <td>0</td>\n      <td>NaN</td>\n      <td>NaN</td>\n      <td>0</td>\n      <td>NaN</td>\n      <td>NaN</td>\n      <td>0</td>\n      <td>NaN</td>\n      <td>NaN</td>\n      <td>LINESTRING (10.03950 53.56247, 10.03932 53.56261)</td>\n    </tr>\n    <tr>\n      <th>2</th>\n      <td>203495</td>\n      <td>181020242</td>\n      <td>5141</td>\n      <td>service</td>\n      <td></td>\n      <td></td>\n      <td>B</td>\n      <td>0</td>\n      <td>0</td>\n      <td>False</td>\n      <td>...</td>\n      <td>1</td>\n      <td>1.0</td>\n      <td>0.304</td>\n      <td>0</td>\n      <td>NaN</td>\n      <td>NaN</td>\n      <td>0</td>\n      <td>NaN</td>\n      <td>NaN</td>\n      <td>LINESTRING (10.03553 53.54973, 10.03544 53.549...</td>\n    </tr>\n    <tr>\n      <th>3</th>\n      <td>360284</td>\n      <td>800800832</td>\n      <td>5141</td>\n      <td>service</td>\n      <td></td>\n      <td></td>\n      <td>B</td>\n      <td>0</td>\n      <td>0</td>\n      <td>False</td>\n      <td>...</td>\n      <td>1</td>\n      <td>1.0</td>\n      <td>0.255</td>\n      <td>0</td>\n      <td>NaN</td>\n      <td>NaN</td>\n      <td>0</td>\n      <td>NaN</td>\n      <td>NaN</td>\n      <td>LINESTRING (9.97048 53.60222, 9.97055 53.60232...</td>\n    </tr>\n    <tr>\n      <th>4</th>\n      <td>342305</td>\n      <td>741853131</td>\n      <td>5141</td>\n      <td>service</td>\n      <td></td>\n      <td></td>\n      <td>B</td>\n      <td>0</td>\n      <td>0</td>\n      <td>False</td>\n      <td>...</td>\n      <td>1</td>\n      <td>1.0</td>\n      <td>0.399</td>\n      <td>1</td>\n      <td>1.0</td>\n      <td>17.754</td>\n      <td>0</td>\n      <td>NaN</td>\n      <td>NaN</td>\n      <td>LINESTRING (10.04742 53.53898, 10.04730 53.538...</td>\n    </tr>\n    <tr>\n      <th>...</th>\n      <td>...</td>\n      <td>...</td>\n      <td>...</td>\n      <td>...</td>\n      <td>...</td>\n      <td>...</td>\n      <td>...</td>\n      <td>...</td>\n      <td>...</td>\n      <td>...</td>\n      <td>...</td>\n      <td>...</td>\n      <td>...</td>\n      <td>...</td>\n      <td>...</td>\n      <td>...</td>\n      <td>...</td>\n      <td>...</td>\n      <td>...</td>\n      <td>...</td>\n      <td>...</td>\n    </tr>\n    <tr>\n      <th>25709</th>\n      <td>31974</td>\n      <td>22791188</td>\n      <td>5121</td>\n      <td>unclassified</td>\n      <td>An der Stadthausbrücke</td>\n      <td></td>\n      <td>B</td>\n      <td>50</td>\n      <td>0</td>\n      <td>False</td>\n      <td>...</td>\n      <td>2603</td>\n      <td>114.0</td>\n      <td>0.305</td>\n      <td>970</td>\n      <td>112.0</td>\n      <td>15.204</td>\n      <td>2737</td>\n      <td>115.0</td>\n      <td>9.433</td>\n      <td>LINESTRING (9.98508 53.55141, 9.98501 53.55172...</td>\n    </tr>\n    <tr>\n      <th>25710</th>\n      <td>113991</td>\n      <td>44605979</td>\n      <td>5141</td>\n      <td>service</td>\n      <td></td>\n      <td></td>\n      <td>B</td>\n      <td>0</td>\n      <td>0</td>\n      <td>False</td>\n      <td>...</td>\n      <td>64525</td>\n      <td>137.0</td>\n      <td>0.286</td>\n      <td>23999</td>\n      <td>135.0</td>\n      <td>17.878</td>\n      <td>67315</td>\n      <td>138.0</td>\n      <td>8.582</td>\n      <td>LINESTRING (9.98430 53.55129, 9.98432 53.55126...</td>\n    </tr>\n    <tr>\n      <th>25711</th>\n      <td>251413</td>\n      <td>321710587</td>\n      <td>5122</td>\n      <td>residential</td>\n      <td>Wexstraße</td>\n      <td></td>\n      <td>B</td>\n      <td>50</td>\n      <td>0</td>\n      <td>False</td>\n      <td>...</td>\n      <td>1286</td>\n      <td>154.0</td>\n      <td>0.305</td>\n      <td>481</td>\n      <td>152.0</td>\n      <td>16.496</td>\n      <td>1358</td>\n      <td>156.0</td>\n      <td>9.156</td>\n      <td>LINESTRING (9.98454 53.55176, 9.98412 53.55167)</td>\n    </tr>\n    <tr>\n      <th>25712</th>\n      <td>251412</td>\n      <td>321710587</td>\n      <td>5122</td>\n      <td>residential</td>\n      <td>Wexstraße</td>\n      <td></td>\n      <td>B</td>\n      <td>50</td>\n      <td>0</td>\n      <td>False</td>\n      <td>...</td>\n      <td>940</td>\n      <td>157.0</td>\n      <td>0.309</td>\n      <td>347</td>\n      <td>153.0</td>\n      <td>16.357</td>\n      <td>991</td>\n      <td>160.0</td>\n      <td>8.770</td>\n      <td>LINESTRING (9.98496 53.55184, 9.98454 53.55176)</td>\n    </tr>\n    <tr>\n      <th>25713</th>\n      <td>113990</td>\n      <td>44605979</td>\n      <td>5141</td>\n      <td>service</td>\n      <td></td>\n      <td></td>\n      <td>B</td>\n      <td>0</td>\n      <td>0</td>\n      <td>False</td>\n      <td>...</td>\n      <td>6292</td>\n      <td>166.0</td>\n      <td>0.296</td>\n      <td>2311</td>\n      <td>161.0</td>\n      <td>17.603</td>\n      <td>6707</td>\n      <td>173.0</td>\n      <td>8.540</td>\n      <td>LINESTRING (9.98412 53.55167, 9.98430 53.55129)</td>\n    </tr>\n  </tbody>\n</table>\n<p>25714 rows × 30 columns</p>\n</div>"
     },
     "execution_count": 5,
     "metadata": {},
     "output_type": "execute_result"
    }
   ],
   "source": [
    "data_geo"
   ],
   "metadata": {
    "collapsed": false,
    "ExecuteTime": {
     "end_time": "2024-02-12T22:06:31.130805Z",
     "start_time": "2024-02-12T22:06:31.107601Z"
    }
   },
   "id": "ac0a1906d5281304",
   "execution_count": 5
  },
  {
   "cell_type": "code",
   "outputs": [],
   "source": [
    "# unique sensors\n",
    "data_geo[\"sensor_id\"].unique()"
   ],
   "metadata": {
    "collapsed": false
   },
   "id": "40a2e1a9e3d213d3"
<<<<<<< HEAD
  },
  {
   "cell_type": "markdown",
   "source": [
    "## Dublin"
   ],
   "metadata": {
    "collapsed": false
   },
   "id": "36e82b2541fc2c36"
  },
  {
   "cell_type": "code",
   "outputs": [],
   "source": [
    "import pandas as pd\n",
    "dublin_air = pd.read_csv(\"data/AirView_DublinCity_Measurements_ugm3.csv\")"
   ],
   "metadata": {
    "collapsed": false,
    "ExecuteTime": {
     "end_time": "2024-02-29T19:20:13.888028Z",
     "start_time": "2024-02-29T19:20:08.802021Z"
    }
   },
   "id": "2c969e513f4e3b29",
   "execution_count": 8
  },
  {
   "cell_type": "code",
   "outputs": [
    {
     "data": {
      "text/plain": "             gps_timestamp   latitude  longitude  NO_ugm3  NO2_ugm3  O3_ugm3  \\\n0  2022-04-07 14:56:36 UTC  53.346434  -6.263997  -13.526    11.724      NaN   \n1  2022-04-07 14:56:37 UTC  53.346434  -6.263997  -29.957     4.441      NaN   \n2  2022-04-07 14:56:38 UTC  53.346434  -6.263997   -9.260     8.725   59.109   \n3  2022-04-07 14:56:39 UTC  53.346434  -6.263997  -22.847     7.023      NaN   \n4  2022-04-07 14:56:40 UTC  53.346434  -6.263997   -9.225    15.591      NaN   \n\n   CO_mgm3  CO2_mgm3  PMch1_perL  PMch2_perL  PMch3_perL  PMch4_perL  \\\n0    0.293   765.328      6240.0      1860.0      1380.0       480.0   \n1    0.291       NaN      4800.0      1380.0      1020.0       240.0   \n2    0.299       NaN      6300.0      1800.0      1140.0       600.0   \n3    0.295       NaN      5040.0      1800.0      1080.0       300.0   \n4    0.296   763.271      5580.0      1920.0      1260.0       480.0   \n\n   PMch5_perL  PMch6_perL  PM25_ugm3  \n0        60.0       120.0      4.927  \n1       240.0        60.0      4.240  \n2        60.0        60.0      4.204  \n3        60.0        60.0      3.410  \n4        60.0        60.0      4.003  ",
      "text/html": "<div>\n<style scoped>\n    .dataframe tbody tr th:only-of-type {\n        vertical-align: middle;\n    }\n\n    .dataframe tbody tr th {\n        vertical-align: top;\n    }\n\n    .dataframe thead th {\n        text-align: right;\n    }\n</style>\n<table border=\"1\" class=\"dataframe\">\n  <thead>\n    <tr style=\"text-align: right;\">\n      <th></th>\n      <th>gps_timestamp</th>\n      <th>latitude</th>\n      <th>longitude</th>\n      <th>NO_ugm3</th>\n      <th>NO2_ugm3</th>\n      <th>O3_ugm3</th>\n      <th>CO_mgm3</th>\n      <th>CO2_mgm3</th>\n      <th>PMch1_perL</th>\n      <th>PMch2_perL</th>\n      <th>PMch3_perL</th>\n      <th>PMch4_perL</th>\n      <th>PMch5_perL</th>\n      <th>PMch6_perL</th>\n      <th>PM25_ugm3</th>\n    </tr>\n  </thead>\n  <tbody>\n    <tr>\n      <th>0</th>\n      <td>2022-04-07 14:56:36 UTC</td>\n      <td>53.346434</td>\n      <td>-6.263997</td>\n      <td>-13.526</td>\n      <td>11.724</td>\n      <td>NaN</td>\n      <td>0.293</td>\n      <td>765.328</td>\n      <td>6240.0</td>\n      <td>1860.0</td>\n      <td>1380.0</td>\n      <td>480.0</td>\n      <td>60.0</td>\n      <td>120.0</td>\n      <td>4.927</td>\n    </tr>\n    <tr>\n      <th>1</th>\n      <td>2022-04-07 14:56:37 UTC</td>\n      <td>53.346434</td>\n      <td>-6.263997</td>\n      <td>-29.957</td>\n      <td>4.441</td>\n      <td>NaN</td>\n      <td>0.291</td>\n      <td>NaN</td>\n      <td>4800.0</td>\n      <td>1380.0</td>\n      <td>1020.0</td>\n      <td>240.0</td>\n      <td>240.0</td>\n      <td>60.0</td>\n      <td>4.240</td>\n    </tr>\n    <tr>\n      <th>2</th>\n      <td>2022-04-07 14:56:38 UTC</td>\n      <td>53.346434</td>\n      <td>-6.263997</td>\n      <td>-9.260</td>\n      <td>8.725</td>\n      <td>59.109</td>\n      <td>0.299</td>\n      <td>NaN</td>\n      <td>6300.0</td>\n      <td>1800.0</td>\n      <td>1140.0</td>\n      <td>600.0</td>\n      <td>60.0</td>\n      <td>60.0</td>\n      <td>4.204</td>\n    </tr>\n    <tr>\n      <th>3</th>\n      <td>2022-04-07 14:56:39 UTC</td>\n      <td>53.346434</td>\n      <td>-6.263997</td>\n      <td>-22.847</td>\n      <td>7.023</td>\n      <td>NaN</td>\n      <td>0.295</td>\n      <td>NaN</td>\n      <td>5040.0</td>\n      <td>1800.0</td>\n      <td>1080.0</td>\n      <td>300.0</td>\n      <td>60.0</td>\n      <td>60.0</td>\n      <td>3.410</td>\n    </tr>\n    <tr>\n      <th>4</th>\n      <td>2022-04-07 14:56:40 UTC</td>\n      <td>53.346434</td>\n      <td>-6.263997</td>\n      <td>-9.225</td>\n      <td>15.591</td>\n      <td>NaN</td>\n      <td>0.296</td>\n      <td>763.271</td>\n      <td>5580.0</td>\n      <td>1920.0</td>\n      <td>1260.0</td>\n      <td>480.0</td>\n      <td>60.0</td>\n      <td>60.0</td>\n      <td>4.003</td>\n    </tr>\n  </tbody>\n</table>\n</div>"
     },
     "execution_count": 3,
     "metadata": {},
     "output_type": "execute_result"
    }
   ],
   "source": [
    "dublin_air.head()"
   ],
   "metadata": {
    "collapsed": false,
    "ExecuteTime": {
     "end_time": "2024-02-29T18:17:22.769744Z",
     "start_time": "2024-02-29T18:17:22.750748Z"
    }
   },
   "id": "50488bf38225d7cd",
   "execution_count": 3
  },
  {
   "cell_type": "code",
   "outputs": [
    {
     "data": {
      "text/plain": "gps_timestamp          0\nlatitude               0\nlongitude              0\nNO_ugm3           418699\nNO2_ugm3         1165108\nO3_ugm3          3582771\nCO_mgm3           321269\nCO2_mgm3          898496\nPMch1_perL         89877\nPMch2_perL         89877\nPMch3_perL         89877\nPMch4_perL         89877\nPMch5_perL         89877\nPMch6_perL         89877\nPM25_ugm3          89877\ndtype: int64"
     },
     "execution_count": 4,
     "metadata": {},
     "output_type": "execute_result"
    }
   ],
   "source": [
    "# count na values in each column\n",
    "dublin_air.isna().sum()"
   ],
   "metadata": {
    "collapsed": false,
    "ExecuteTime": {
     "end_time": "2024-02-29T18:24:19.781343Z",
     "start_time": "2024-02-29T18:24:19.506095Z"
    }
   },
   "id": "4c644a47ea17cc45",
   "execution_count": 4
  },
  {
   "cell_type": "code",
   "outputs": [],
   "source": [
    "# drop columns by index\n",
    "dublin_air.drop(dublin_air.columns[8:14], axis=1, inplace=True)"
   ],
   "metadata": {
    "collapsed": false,
    "ExecuteTime": {
     "end_time": "2024-02-29T19:20:21.910162Z",
     "start_time": "2024-02-29T19:20:21.449831Z"
    }
   },
   "id": "fc6685c3692e4236",
   "execution_count": 9
  },
  {
   "cell_type": "code",
   "outputs": [
    {
     "data": {
      "text/plain": "             gps_timestamp   latitude  longitude  NO_ugm3  NO2_ugm3  O3_ugm3  \\\n0  2022-04-07 14:56:36 UTC  53.346434  -6.263997  -13.526    11.724      NaN   \n1  2022-04-07 14:56:37 UTC  53.346434  -6.263997  -29.957     4.441      NaN   \n2  2022-04-07 14:56:38 UTC  53.346434  -6.263997   -9.260     8.725   59.109   \n3  2022-04-07 14:56:39 UTC  53.346434  -6.263997  -22.847     7.023      NaN   \n4  2022-04-07 14:56:40 UTC  53.346434  -6.263997   -9.225    15.591      NaN   \n\n   CO_mgm3  CO2_mgm3  PM25_ugm3  \n0    0.293   765.328      4.927  \n1    0.291       NaN      4.240  \n2    0.299       NaN      4.204  \n3    0.295       NaN      3.410  \n4    0.296   763.271      4.003  ",
      "text/html": "<div>\n<style scoped>\n    .dataframe tbody tr th:only-of-type {\n        vertical-align: middle;\n    }\n\n    .dataframe tbody tr th {\n        vertical-align: top;\n    }\n\n    .dataframe thead th {\n        text-align: right;\n    }\n</style>\n<table border=\"1\" class=\"dataframe\">\n  <thead>\n    <tr style=\"text-align: right;\">\n      <th></th>\n      <th>gps_timestamp</th>\n      <th>latitude</th>\n      <th>longitude</th>\n      <th>NO_ugm3</th>\n      <th>NO2_ugm3</th>\n      <th>O3_ugm3</th>\n      <th>CO_mgm3</th>\n      <th>CO2_mgm3</th>\n      <th>PM25_ugm3</th>\n    </tr>\n  </thead>\n  <tbody>\n    <tr>\n      <th>0</th>\n      <td>2022-04-07 14:56:36 UTC</td>\n      <td>53.346434</td>\n      <td>-6.263997</td>\n      <td>-13.526</td>\n      <td>11.724</td>\n      <td>NaN</td>\n      <td>0.293</td>\n      <td>765.328</td>\n      <td>4.927</td>\n    </tr>\n    <tr>\n      <th>1</th>\n      <td>2022-04-07 14:56:37 UTC</td>\n      <td>53.346434</td>\n      <td>-6.263997</td>\n      <td>-29.957</td>\n      <td>4.441</td>\n      <td>NaN</td>\n      <td>0.291</td>\n      <td>NaN</td>\n      <td>4.240</td>\n    </tr>\n    <tr>\n      <th>2</th>\n      <td>2022-04-07 14:56:38 UTC</td>\n      <td>53.346434</td>\n      <td>-6.263997</td>\n      <td>-9.260</td>\n      <td>8.725</td>\n      <td>59.109</td>\n      <td>0.299</td>\n      <td>NaN</td>\n      <td>4.204</td>\n    </tr>\n    <tr>\n      <th>3</th>\n      <td>2022-04-07 14:56:39 UTC</td>\n      <td>53.346434</td>\n      <td>-6.263997</td>\n      <td>-22.847</td>\n      <td>7.023</td>\n      <td>NaN</td>\n      <td>0.295</td>\n      <td>NaN</td>\n      <td>3.410</td>\n    </tr>\n    <tr>\n      <th>4</th>\n      <td>2022-04-07 14:56:40 UTC</td>\n      <td>53.346434</td>\n      <td>-6.263997</td>\n      <td>-9.225</td>\n      <td>15.591</td>\n      <td>NaN</td>\n      <td>0.296</td>\n      <td>763.271</td>\n      <td>4.003</td>\n    </tr>\n  </tbody>\n</table>\n</div>"
     },
     "execution_count": 11,
     "metadata": {},
     "output_type": "execute_result"
    }
   ],
   "source": [
    "dublin_air.head()"
   ],
   "metadata": {
    "collapsed": false,
    "ExecuteTime": {
     "end_time": "2024-02-29T19:20:40.452755Z",
     "start_time": "2024-02-29T19:20:40.448840Z"
    }
   },
   "id": "134c780152d246d3",
   "execution_count": 11
  },
  {
   "cell_type": "code",
   "outputs": [
    {
     "data": {
      "text/plain": "gps_timestamp     object\nlatitude         float64\nlongitude        float64\nNO_ugm3          float64\nNO2_ugm3         float64\nO3_ugm3          float64\nCO_mgm3          float64\nCO2_mgm3         float64\nPM25_ugm3        float64\ndtype: object"
     },
     "execution_count": 12,
     "metadata": {},
     "output_type": "execute_result"
    }
   ],
   "source": [
    "dublin_air.dtypes"
   ],
   "metadata": {
    "collapsed": false,
    "ExecuteTime": {
     "end_time": "2024-02-29T19:23:06.496978Z",
     "start_time": "2024-02-29T19:23:06.488400Z"
    }
   },
   "id": "580b0daf87cbaf43",
   "execution_count": 12
  },
  {
   "cell_type": "code",
   "outputs": [],
   "source": [
    "# Convert 'gps_timestamp' to datetime\n",
    "dublin_air['gps_timestamp'] = pd.to_datetime(dublin_air['gps_timestamp'])\n",
    "\n",
    "# Extract the date from 'gps_timestamp'\n",
    "dublin_air['date'] = dublin_air['gps_timestamp'].dt.date\n",
    "\n",
    "# Drop the 'gps_timestamp' column as it's no longer needed\n",
    "dublin_air= dublin_air.drop(columns='gps_timestamp')\n",
    "\n",
    "# Group by 'date', 'latitude', and 'longitude' and calculate the mean\n",
    "daily_average = dublin_air.groupby(['date', 'latitude', 'longitude']).mean().reset_index()"
   ],
   "metadata": {
    "collapsed": false,
    "ExecuteTime": {
     "end_time": "2024-03-01T16:37:54.510391Z",
     "start_time": "2024-03-01T16:37:48.942818Z"
    }
   },
   "id": "2130a0465dafd3bf",
   "execution_count": 16
  },
  {
   "cell_type": "code",
   "outputs": [
    {
     "data": {
      "text/plain": "         date   latitude  longitude  NO_ugm3  NO2_ugm3  O3_ugm3  CO_mgm3  \\\n0  2021-05-06  53.301941  -6.297264   -3.915     4.311      NaN    0.540   \n1  2021-05-06  53.301961  -6.297326  -23.507     2.268   73.538    0.526   \n2  2021-05-06  53.301979  -6.297364  -17.819     7.120      NaN    0.543   \n3  2021-05-06  53.301982  -6.297372  -33.715     9.264      NaN    0.604   \n4  2021-05-06  53.301983  -6.297372  -22.023     8.941      NaN    0.583   \n\n   CO2_mgm3  PM25_ugm3  \n0   799.317      1.915  \n1   803.419      4.428  \n2   807.597      6.649  \n3   869.329      5.103  \n4   840.557      4.223  ",
      "text/html": "<div>\n<style scoped>\n    .dataframe tbody tr th:only-of-type {\n        vertical-align: middle;\n    }\n\n    .dataframe tbody tr th {\n        vertical-align: top;\n    }\n\n    .dataframe thead th {\n        text-align: right;\n    }\n</style>\n<table border=\"1\" class=\"dataframe\">\n  <thead>\n    <tr style=\"text-align: right;\">\n      <th></th>\n      <th>date</th>\n      <th>latitude</th>\n      <th>longitude</th>\n      <th>NO_ugm3</th>\n      <th>NO2_ugm3</th>\n      <th>O3_ugm3</th>\n      <th>CO_mgm3</th>\n      <th>CO2_mgm3</th>\n      <th>PM25_ugm3</th>\n    </tr>\n  </thead>\n  <tbody>\n    <tr>\n      <th>0</th>\n      <td>2021-05-06</td>\n      <td>53.301941</td>\n      <td>-6.297264</td>\n      <td>-3.915</td>\n      <td>4.311</td>\n      <td>NaN</td>\n      <td>0.540</td>\n      <td>799.317</td>\n      <td>1.915</td>\n    </tr>\n    <tr>\n      <th>1</th>\n      <td>2021-05-06</td>\n      <td>53.301961</td>\n      <td>-6.297326</td>\n      <td>-23.507</td>\n      <td>2.268</td>\n      <td>73.538</td>\n      <td>0.526</td>\n      <td>803.419</td>\n      <td>4.428</td>\n    </tr>\n    <tr>\n      <th>2</th>\n      <td>2021-05-06</td>\n      <td>53.301979</td>\n      <td>-6.297364</td>\n      <td>-17.819</td>\n      <td>7.120</td>\n      <td>NaN</td>\n      <td>0.543</td>\n      <td>807.597</td>\n      <td>6.649</td>\n    </tr>\n    <tr>\n      <th>3</th>\n      <td>2021-05-06</td>\n      <td>53.301982</td>\n      <td>-6.297372</td>\n      <td>-33.715</td>\n      <td>9.264</td>\n      <td>NaN</td>\n      <td>0.604</td>\n      <td>869.329</td>\n      <td>5.103</td>\n    </tr>\n    <tr>\n      <th>4</th>\n      <td>2021-05-06</td>\n      <td>53.301983</td>\n      <td>-6.297372</td>\n      <td>-22.023</td>\n      <td>8.941</td>\n      <td>NaN</td>\n      <td>0.583</td>\n      <td>840.557</td>\n      <td>4.223</td>\n    </tr>\n  </tbody>\n</table>\n</div>"
     },
     "execution_count": 18,
     "metadata": {},
     "output_type": "execute_result"
    }
   ],
   "source": [
    "daily_average.head()"
   ],
   "metadata": {
    "collapsed": false,
    "ExecuteTime": {
     "end_time": "2024-03-01T16:38:52.245245Z",
     "start_time": "2024-03-01T16:38:52.240995Z"
    }
   },
   "id": "3d1fc795d8d4af7a",
   "execution_count": 18
  },
  {
   "cell_type": "code",
   "outputs": [],
   "source": [],
   "metadata": {
    "collapsed": false
   },
   "id": "e1ae7a1ca8ce78c4"
=======
>>>>>>> 8344f8993ac29aeba86b5aff24189fc8f5490b3d
  }
 ],
 "metadata": {
  "kernelspec": {
   "display_name": "Python 3",
   "language": "python",
   "name": "python3"
  },
  "language_info": {
   "codemirror_mode": {
    "name": "ipython",
    "version": 2
   },
   "file_extension": ".py",
   "mimetype": "text/x-python",
   "name": "python",
   "nbconvert_exporter": "python",
   "pygments_lexer": "ipython2",
   "version": "2.7.6"
  }
 },
 "nbformat": 4,
 "nbformat_minor": 5
}

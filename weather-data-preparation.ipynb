{
 "cells": [
  {
   "cell_type": "code",
   "execution_count": 11,
   "id": "initial_id",
   "metadata": {
    "collapsed": true,
    "ExecuteTime": {
     "end_time": "2024-04-15T15:42:00.427833Z",
     "start_time": "2024-04-15T15:42:00.328748Z"
    }
   },
   "outputs": [],
   "source": [
    "import requests\n",
    "import pandas as pd\n",
    "\n",
    "# API endpoint\n",
    "url = \"http://api.worldweatheronline.com/premium/v1/past-weather.ashx\"\n",
    "\n",
    "# Parameters\n",
    "params = {\n",
    "    \"key\": \"2b47535ff26a46f58c4124129241104\",  # Your API key\n",
    "    \"q\": \"Dublin\",  # Query location\n",
    "    \"format\": \"json\",\n",
    "    \"date\": \"2021-05-01\",  # Start date for historical data\n",
    "    \"enddate\": \"2022-08-31\",  # End date for historical data\n",
    "    \"includelocation\": \"yes\",\n",
    "    \"tp\": \"1\"  # Time period: 1 hour\n",
    "}\n",
    "\n",
    "# Making the GET request\n",
    "response = requests.get(url, params=params)\n",
    "\n",
    "# Check if the request was successful\n",
    "if response.status_code == 200:\n",
    "    # Parse the JSON response\n",
    "    data = response.json()\n",
    "    \n",
    "    # Extracting location data\n",
    "    location_data = data.get('data', {}).get('nearest_area', [{}])[0]\n",
    "    latitude = location_data.get('latitude', 'Unknown')\n",
    "    longitude = location_data.get('longitude', 'Unknown')\n",
    "    \n",
    "    # Extracting the weather data\n",
    "    weather_data = data.get('data', {}).get('weather', [])\n",
    "    \n",
    "    # Creating a list to store each day's weather information\n",
    "    weather_list = []\n",
    "    \n",
    "    for day in weather_data:\n",
    "        # For each day, create a dictionary with more detailed weather data\n",
    "        hourly_data = day.get('hourly', [{}])[0]  # Assuming first entry contains summary data for the day\n",
    "        day_data = {\n",
    "            'date': day['date'],\n",
    "            'hour': hourly_data['time'],  # Assuming the time field contains the hour in 'HH:MM' format\n",
    "            'avgtempC': day['avgtempC'],\n",
    "            'maxtempC': day['maxtempC'],\n",
    "            'mintempC': day['mintempC'],\n",
    "            'sunHour': day['sunHour'],\n",
    "            'uvIndex': day['uvIndex'],\n",
    "            'humidity': hourly_data['humidity'],\n",
    "            'winddirDegree': hourly_data['winddirDegree'],\n",
    "            'windspeedKmph': hourly_data['windspeedKmph'],\n",
    "            'cloudcover': hourly_data['cloudcover'],\n",
    "            'precipMM': hourly_data['precipMM'],  # Precipitation can also influence air quality\n",
    "            'pressure': hourly_data['pressure'],  # Atmospheric pressure can affect air pollutant dispersion\n",
    "            'latitude': latitude,\n",
    "            'longitude': longitude,\n",
    "        }\n",
    "        weather_list.append(day_data)\n",
    "    \n",
    "    # Convert the list of dictionaries to a pandas DataFrame\n",
    "    weather_df = pd.DataFrame(weather_list)\n",
    "    \n",
    "    # print(weather_df.head())  # Print the first few rows to verify\n",
    "    \n",
    "    # Optionally, save the DataFrame to a CSV file\n",
    "    # weather_df.to_csv('dublin_weather_may2021_aug2022_extended.csv', index=False)\n",
    "else:\n",
    "    print(\"Failed to fetch data. Status Code:\", response.status_code)"
   ]
  },
  {
   "cell_type": "code",
   "outputs": [
    {
     "data": {
      "text/plain": "          date hour avgtempC maxtempC mintempC sunHour uvIndex humidity  \\\n0   2021-05-01    0        6        8        3    13.0       3       80   \n1   2021-05-02    0        7       10        4     6.0       3       80   \n2   2021-05-03    0        8       11        6     1.0       3       75   \n3   2021-05-04    0        7        9        3     8.0       2       86   \n4   2021-05-05    0        6        9        2     7.0       3       86   \n5   2021-05-06    0        6        9        1    12.0       3       76   \n6   2021-05-07    0        6       10        2    11.0       2       83   \n7   2021-05-08    0        9       15        5     7.0       2       69   \n8   2021-05-09    0       11       13        9     7.0       3       86   \n9   2021-05-10    0       10       12        7     3.0       3       82   \n10  2021-05-11    0        9       12        6    14.0       3       74   \n11  2021-05-12    0        8       11        6     1.0       2       90   \n12  2021-05-13    0        9       11        6     4.0       2       91   \n13  2021-05-14    0        9       12        7     2.0       3       90   \n14  2021-05-15    0        9       10        6     3.0       2       91   \n15  2021-05-16    0        9       12        8     6.0       2       89   \n16  2021-05-17    0        9       13        6     9.0       3       90   \n17  2021-05-18    0        9       13        6     9.0       2       88   \n18  2021-05-19    0       10       13        5    13.0       2       89   \n19  2021-05-20    0       10       12        7     3.0       2       82   \n20  2021-05-21    0        9       11        8     1.0       2       90   \n21  2021-05-22    0        9       11        6    10.0       2       84   \n22  2021-05-23    0        9       11        6     4.0       2       82   \n23  2021-05-24    0        9       12        6     7.0       2       86   \n24  2021-05-25    0       10       13        8    14.0       2       89   \n25  2021-05-26    0       10       13        6    14.0       3       88   \n26  2021-05-27    0       11       14        8     9.0       3       88   \n27  2021-05-28    0       12       14       10     2.0       3       97   \n28  2021-05-29    0       12       15       10    13.0       3       96   \n29  2021-05-30    0       13       17        9    12.0       4       92   \n30  2021-05-31    0       13       16        9    12.0       4       87   \n31  2021-06-01    0       14       17       11    16.0       4       93   \n32  2021-06-02    0       14       16       12     5.0       3       89   \n33  2021-06-03    0       13       15       10    16.0       3       96   \n34  2021-06-04    0       13       16        9    12.0       4       91   \n\n   winddirDegree windspeedKmph cloudcover precipMM pressure latitude longitude  \n0            305             9          5      0.0     1017   53.333    -6.249  \n1            244             9         29      0.0     1020   53.333    -6.249  \n2            256            11         59      0.0     1017   53.333    -6.249  \n3            304            35        100      0.0      999   53.333    -6.249  \n4            278            20          9      0.0     1009   53.333    -6.249  \n5            295            13          7      0.0     1011   53.333    -6.249  \n6            284            16         73      0.0     1012   53.333    -6.249  \n7            147            23         78      0.0     1009   53.333    -6.249  \n8            180            21         76      0.0      989   53.333    -6.249  \n9            171            22         73      0.0      988   53.333    -6.249  \n10           189            21          7      0.0     1001   53.333    -6.249  \n11            15            10         82      0.0     1004   53.333    -6.249  \n12           181            11         87      0.0     1009   53.333    -6.249  \n13           315             5         60      0.0     1011   53.333    -6.249  \n14           156            13        100      0.0     1002   53.333    -6.249  \n15           179            11         63      0.0      996   53.333    -6.249  \n16           304            15         43      0.0     1001   53.333    -6.249  \n17           269            15         74      0.0     1012   53.333    -6.249  \n18           278            16         82      0.0     1015   53.333    -6.249  \n19           246            10         86      0.0     1021   53.333    -6.249  \n20           205            27        100      0.6      986   53.333    -6.249  \n21           322            25        100      0.0     1004   53.333    -6.249  \n22           221            13         82      0.0     1006   53.333    -6.249  \n23           193            11         85      0.0      996   53.333    -6.249  \n24           311            26         83      0.0     1011   53.333    -6.249  \n25           288            16         72      0.0     1016   53.333    -6.249  \n26           221             8         87      0.0     1018   53.333    -6.249  \n27           198             8        100      1.0     1021   53.333    -6.249  \n28           161            13         65      0.0     1022   53.333    -6.249  \n29           169             8         28      0.0     1029   53.333    -6.249  \n30           173             9          5      0.0     1025   53.333    -6.249  \n31           163            13         47      0.0     1017   53.333    -6.249  \n32           338             3         78      0.0     1014   53.333    -6.249  \n33           171            11         69      0.0     1012   53.333    -6.249  \n34           182            18          6      0.0     1021   53.333    -6.249  ",
      "text/html": "<div>\n<style scoped>\n    .dataframe tbody tr th:only-of-type {\n        vertical-align: middle;\n    }\n\n    .dataframe tbody tr th {\n        vertical-align: top;\n    }\n\n    .dataframe thead th {\n        text-align: right;\n    }\n</style>\n<table border=\"1\" class=\"dataframe\">\n  <thead>\n    <tr style=\"text-align: right;\">\n      <th></th>\n      <th>date</th>\n      <th>hour</th>\n      <th>avgtempC</th>\n      <th>maxtempC</th>\n      <th>mintempC</th>\n      <th>sunHour</th>\n      <th>uvIndex</th>\n      <th>humidity</th>\n      <th>winddirDegree</th>\n      <th>windspeedKmph</th>\n      <th>cloudcover</th>\n      <th>precipMM</th>\n      <th>pressure</th>\n      <th>latitude</th>\n      <th>longitude</th>\n    </tr>\n  </thead>\n  <tbody>\n    <tr>\n      <th>0</th>\n      <td>2021-05-01</td>\n      <td>0</td>\n      <td>6</td>\n      <td>8</td>\n      <td>3</td>\n      <td>13.0</td>\n      <td>3</td>\n      <td>80</td>\n      <td>305</td>\n      <td>9</td>\n      <td>5</td>\n      <td>0.0</td>\n      <td>1017</td>\n      <td>53.333</td>\n      <td>-6.249</td>\n    </tr>\n    <tr>\n      <th>1</th>\n      <td>2021-05-02</td>\n      <td>0</td>\n      <td>7</td>\n      <td>10</td>\n      <td>4</td>\n      <td>6.0</td>\n      <td>3</td>\n      <td>80</td>\n      <td>244</td>\n      <td>9</td>\n      <td>29</td>\n      <td>0.0</td>\n      <td>1020</td>\n      <td>53.333</td>\n      <td>-6.249</td>\n    </tr>\n    <tr>\n      <th>2</th>\n      <td>2021-05-03</td>\n      <td>0</td>\n      <td>8</td>\n      <td>11</td>\n      <td>6</td>\n      <td>1.0</td>\n      <td>3</td>\n      <td>75</td>\n      <td>256</td>\n      <td>11</td>\n      <td>59</td>\n      <td>0.0</td>\n      <td>1017</td>\n      <td>53.333</td>\n      <td>-6.249</td>\n    </tr>\n    <tr>\n      <th>3</th>\n      <td>2021-05-04</td>\n      <td>0</td>\n      <td>7</td>\n      <td>9</td>\n      <td>3</td>\n      <td>8.0</td>\n      <td>2</td>\n      <td>86</td>\n      <td>304</td>\n      <td>35</td>\n      <td>100</td>\n      <td>0.0</td>\n      <td>999</td>\n      <td>53.333</td>\n      <td>-6.249</td>\n    </tr>\n    <tr>\n      <th>4</th>\n      <td>2021-05-05</td>\n      <td>0</td>\n      <td>6</td>\n      <td>9</td>\n      <td>2</td>\n      <td>7.0</td>\n      <td>3</td>\n      <td>86</td>\n      <td>278</td>\n      <td>20</td>\n      <td>9</td>\n      <td>0.0</td>\n      <td>1009</td>\n      <td>53.333</td>\n      <td>-6.249</td>\n    </tr>\n    <tr>\n      <th>5</th>\n      <td>2021-05-06</td>\n      <td>0</td>\n      <td>6</td>\n      <td>9</td>\n      <td>1</td>\n      <td>12.0</td>\n      <td>3</td>\n      <td>76</td>\n      <td>295</td>\n      <td>13</td>\n      <td>7</td>\n      <td>0.0</td>\n      <td>1011</td>\n      <td>53.333</td>\n      <td>-6.249</td>\n    </tr>\n    <tr>\n      <th>6</th>\n      <td>2021-05-07</td>\n      <td>0</td>\n      <td>6</td>\n      <td>10</td>\n      <td>2</td>\n      <td>11.0</td>\n      <td>2</td>\n      <td>83</td>\n      <td>284</td>\n      <td>16</td>\n      <td>73</td>\n      <td>0.0</td>\n      <td>1012</td>\n      <td>53.333</td>\n      <td>-6.249</td>\n    </tr>\n    <tr>\n      <th>7</th>\n      <td>2021-05-08</td>\n      <td>0</td>\n      <td>9</td>\n      <td>15</td>\n      <td>5</td>\n      <td>7.0</td>\n      <td>2</td>\n      <td>69</td>\n      <td>147</td>\n      <td>23</td>\n      <td>78</td>\n      <td>0.0</td>\n      <td>1009</td>\n      <td>53.333</td>\n      <td>-6.249</td>\n    </tr>\n    <tr>\n      <th>8</th>\n      <td>2021-05-09</td>\n      <td>0</td>\n      <td>11</td>\n      <td>13</td>\n      <td>9</td>\n      <td>7.0</td>\n      <td>3</td>\n      <td>86</td>\n      <td>180</td>\n      <td>21</td>\n      <td>76</td>\n      <td>0.0</td>\n      <td>989</td>\n      <td>53.333</td>\n      <td>-6.249</td>\n    </tr>\n    <tr>\n      <th>9</th>\n      <td>2021-05-10</td>\n      <td>0</td>\n      <td>10</td>\n      <td>12</td>\n      <td>7</td>\n      <td>3.0</td>\n      <td>3</td>\n      <td>82</td>\n      <td>171</td>\n      <td>22</td>\n      <td>73</td>\n      <td>0.0</td>\n      <td>988</td>\n      <td>53.333</td>\n      <td>-6.249</td>\n    </tr>\n    <tr>\n      <th>10</th>\n      <td>2021-05-11</td>\n      <td>0</td>\n      <td>9</td>\n      <td>12</td>\n      <td>6</td>\n      <td>14.0</td>\n      <td>3</td>\n      <td>74</td>\n      <td>189</td>\n      <td>21</td>\n      <td>7</td>\n      <td>0.0</td>\n      <td>1001</td>\n      <td>53.333</td>\n      <td>-6.249</td>\n    </tr>\n    <tr>\n      <th>11</th>\n      <td>2021-05-12</td>\n      <td>0</td>\n      <td>8</td>\n      <td>11</td>\n      <td>6</td>\n      <td>1.0</td>\n      <td>2</td>\n      <td>90</td>\n      <td>15</td>\n      <td>10</td>\n      <td>82</td>\n      <td>0.0</td>\n      <td>1004</td>\n      <td>53.333</td>\n      <td>-6.249</td>\n    </tr>\n    <tr>\n      <th>12</th>\n      <td>2021-05-13</td>\n      <td>0</td>\n      <td>9</td>\n      <td>11</td>\n      <td>6</td>\n      <td>4.0</td>\n      <td>2</td>\n      <td>91</td>\n      <td>181</td>\n      <td>11</td>\n      <td>87</td>\n      <td>0.0</td>\n      <td>1009</td>\n      <td>53.333</td>\n      <td>-6.249</td>\n    </tr>\n    <tr>\n      <th>13</th>\n      <td>2021-05-14</td>\n      <td>0</td>\n      <td>9</td>\n      <td>12</td>\n      <td>7</td>\n      <td>2.0</td>\n      <td>3</td>\n      <td>90</td>\n      <td>315</td>\n      <td>5</td>\n      <td>60</td>\n      <td>0.0</td>\n      <td>1011</td>\n      <td>53.333</td>\n      <td>-6.249</td>\n    </tr>\n    <tr>\n      <th>14</th>\n      <td>2021-05-15</td>\n      <td>0</td>\n      <td>9</td>\n      <td>10</td>\n      <td>6</td>\n      <td>3.0</td>\n      <td>2</td>\n      <td>91</td>\n      <td>156</td>\n      <td>13</td>\n      <td>100</td>\n      <td>0.0</td>\n      <td>1002</td>\n      <td>53.333</td>\n      <td>-6.249</td>\n    </tr>\n    <tr>\n      <th>15</th>\n      <td>2021-05-16</td>\n      <td>0</td>\n      <td>9</td>\n      <td>12</td>\n      <td>8</td>\n      <td>6.0</td>\n      <td>2</td>\n      <td>89</td>\n      <td>179</td>\n      <td>11</td>\n      <td>63</td>\n      <td>0.0</td>\n      <td>996</td>\n      <td>53.333</td>\n      <td>-6.249</td>\n    </tr>\n    <tr>\n      <th>16</th>\n      <td>2021-05-17</td>\n      <td>0</td>\n      <td>9</td>\n      <td>13</td>\n      <td>6</td>\n      <td>9.0</td>\n      <td>3</td>\n      <td>90</td>\n      <td>304</td>\n      <td>15</td>\n      <td>43</td>\n      <td>0.0</td>\n      <td>1001</td>\n      <td>53.333</td>\n      <td>-6.249</td>\n    </tr>\n    <tr>\n      <th>17</th>\n      <td>2021-05-18</td>\n      <td>0</td>\n      <td>9</td>\n      <td>13</td>\n      <td>6</td>\n      <td>9.0</td>\n      <td>2</td>\n      <td>88</td>\n      <td>269</td>\n      <td>15</td>\n      <td>74</td>\n      <td>0.0</td>\n      <td>1012</td>\n      <td>53.333</td>\n      <td>-6.249</td>\n    </tr>\n    <tr>\n      <th>18</th>\n      <td>2021-05-19</td>\n      <td>0</td>\n      <td>10</td>\n      <td>13</td>\n      <td>5</td>\n      <td>13.0</td>\n      <td>2</td>\n      <td>89</td>\n      <td>278</td>\n      <td>16</td>\n      <td>82</td>\n      <td>0.0</td>\n      <td>1015</td>\n      <td>53.333</td>\n      <td>-6.249</td>\n    </tr>\n    <tr>\n      <th>19</th>\n      <td>2021-05-20</td>\n      <td>0</td>\n      <td>10</td>\n      <td>12</td>\n      <td>7</td>\n      <td>3.0</td>\n      <td>2</td>\n      <td>82</td>\n      <td>246</td>\n      <td>10</td>\n      <td>86</td>\n      <td>0.0</td>\n      <td>1021</td>\n      <td>53.333</td>\n      <td>-6.249</td>\n    </tr>\n    <tr>\n      <th>20</th>\n      <td>2021-05-21</td>\n      <td>0</td>\n      <td>9</td>\n      <td>11</td>\n      <td>8</td>\n      <td>1.0</td>\n      <td>2</td>\n      <td>90</td>\n      <td>205</td>\n      <td>27</td>\n      <td>100</td>\n      <td>0.6</td>\n      <td>986</td>\n      <td>53.333</td>\n      <td>-6.249</td>\n    </tr>\n    <tr>\n      <th>21</th>\n      <td>2021-05-22</td>\n      <td>0</td>\n      <td>9</td>\n      <td>11</td>\n      <td>6</td>\n      <td>10.0</td>\n      <td>2</td>\n      <td>84</td>\n      <td>322</td>\n      <td>25</td>\n      <td>100</td>\n      <td>0.0</td>\n      <td>1004</td>\n      <td>53.333</td>\n      <td>-6.249</td>\n    </tr>\n    <tr>\n      <th>22</th>\n      <td>2021-05-23</td>\n      <td>0</td>\n      <td>9</td>\n      <td>11</td>\n      <td>6</td>\n      <td>4.0</td>\n      <td>2</td>\n      <td>82</td>\n      <td>221</td>\n      <td>13</td>\n      <td>82</td>\n      <td>0.0</td>\n      <td>1006</td>\n      <td>53.333</td>\n      <td>-6.249</td>\n    </tr>\n    <tr>\n      <th>23</th>\n      <td>2021-05-24</td>\n      <td>0</td>\n      <td>9</td>\n      <td>12</td>\n      <td>6</td>\n      <td>7.0</td>\n      <td>2</td>\n      <td>86</td>\n      <td>193</td>\n      <td>11</td>\n      <td>85</td>\n      <td>0.0</td>\n      <td>996</td>\n      <td>53.333</td>\n      <td>-6.249</td>\n    </tr>\n    <tr>\n      <th>24</th>\n      <td>2021-05-25</td>\n      <td>0</td>\n      <td>10</td>\n      <td>13</td>\n      <td>8</td>\n      <td>14.0</td>\n      <td>2</td>\n      <td>89</td>\n      <td>311</td>\n      <td>26</td>\n      <td>83</td>\n      <td>0.0</td>\n      <td>1011</td>\n      <td>53.333</td>\n      <td>-6.249</td>\n    </tr>\n    <tr>\n      <th>25</th>\n      <td>2021-05-26</td>\n      <td>0</td>\n      <td>10</td>\n      <td>13</td>\n      <td>6</td>\n      <td>14.0</td>\n      <td>3</td>\n      <td>88</td>\n      <td>288</td>\n      <td>16</td>\n      <td>72</td>\n      <td>0.0</td>\n      <td>1016</td>\n      <td>53.333</td>\n      <td>-6.249</td>\n    </tr>\n    <tr>\n      <th>26</th>\n      <td>2021-05-27</td>\n      <td>0</td>\n      <td>11</td>\n      <td>14</td>\n      <td>8</td>\n      <td>9.0</td>\n      <td>3</td>\n      <td>88</td>\n      <td>221</td>\n      <td>8</td>\n      <td>87</td>\n      <td>0.0</td>\n      <td>1018</td>\n      <td>53.333</td>\n      <td>-6.249</td>\n    </tr>\n    <tr>\n      <th>27</th>\n      <td>2021-05-28</td>\n      <td>0</td>\n      <td>12</td>\n      <td>14</td>\n      <td>10</td>\n      <td>2.0</td>\n      <td>3</td>\n      <td>97</td>\n      <td>198</td>\n      <td>8</td>\n      <td>100</td>\n      <td>1.0</td>\n      <td>1021</td>\n      <td>53.333</td>\n      <td>-6.249</td>\n    </tr>\n    <tr>\n      <th>28</th>\n      <td>2021-05-29</td>\n      <td>0</td>\n      <td>12</td>\n      <td>15</td>\n      <td>10</td>\n      <td>13.0</td>\n      <td>3</td>\n      <td>96</td>\n      <td>161</td>\n      <td>13</td>\n      <td>65</td>\n      <td>0.0</td>\n      <td>1022</td>\n      <td>53.333</td>\n      <td>-6.249</td>\n    </tr>\n    <tr>\n      <th>29</th>\n      <td>2021-05-30</td>\n      <td>0</td>\n      <td>13</td>\n      <td>17</td>\n      <td>9</td>\n      <td>12.0</td>\n      <td>4</td>\n      <td>92</td>\n      <td>169</td>\n      <td>8</td>\n      <td>28</td>\n      <td>0.0</td>\n      <td>1029</td>\n      <td>53.333</td>\n      <td>-6.249</td>\n    </tr>\n    <tr>\n      <th>30</th>\n      <td>2021-05-31</td>\n      <td>0</td>\n      <td>13</td>\n      <td>16</td>\n      <td>9</td>\n      <td>12.0</td>\n      <td>4</td>\n      <td>87</td>\n      <td>173</td>\n      <td>9</td>\n      <td>5</td>\n      <td>0.0</td>\n      <td>1025</td>\n      <td>53.333</td>\n      <td>-6.249</td>\n    </tr>\n    <tr>\n      <th>31</th>\n      <td>2021-06-01</td>\n      <td>0</td>\n      <td>14</td>\n      <td>17</td>\n      <td>11</td>\n      <td>16.0</td>\n      <td>4</td>\n      <td>93</td>\n      <td>163</td>\n      <td>13</td>\n      <td>47</td>\n      <td>0.0</td>\n      <td>1017</td>\n      <td>53.333</td>\n      <td>-6.249</td>\n    </tr>\n    <tr>\n      <th>32</th>\n      <td>2021-06-02</td>\n      <td>0</td>\n      <td>14</td>\n      <td>16</td>\n      <td>12</td>\n      <td>5.0</td>\n      <td>3</td>\n      <td>89</td>\n      <td>338</td>\n      <td>3</td>\n      <td>78</td>\n      <td>0.0</td>\n      <td>1014</td>\n      <td>53.333</td>\n      <td>-6.249</td>\n    </tr>\n    <tr>\n      <th>33</th>\n      <td>2021-06-03</td>\n      <td>0</td>\n      <td>13</td>\n      <td>15</td>\n      <td>10</td>\n      <td>16.0</td>\n      <td>3</td>\n      <td>96</td>\n      <td>171</td>\n      <td>11</td>\n      <td>69</td>\n      <td>0.0</td>\n      <td>1012</td>\n      <td>53.333</td>\n      <td>-6.249</td>\n    </tr>\n    <tr>\n      <th>34</th>\n      <td>2021-06-04</td>\n      <td>0</td>\n      <td>13</td>\n      <td>16</td>\n      <td>9</td>\n      <td>12.0</td>\n      <td>4</td>\n      <td>91</td>\n      <td>182</td>\n      <td>18</td>\n      <td>6</td>\n      <td>0.0</td>\n      <td>1021</td>\n      <td>53.333</td>\n      <td>-6.249</td>\n    </tr>\n  </tbody>\n</table>\n</div>"
     },
     "execution_count": 13,
     "metadata": {},
     "output_type": "execute_result"
    }
   ],
   "source": [
    "# show the data\n",
    "weather_df"
   ],
   "metadata": {
    "collapsed": false,
    "ExecuteTime": {
     "end_time": "2024-04-15T15:42:06.548011Z",
     "start_time": "2024-04-15T15:42:06.538912Z"
    }
   },
   "id": "c85ebe9576e4a4ab",
   "execution_count": 13
  }
 ],
 "metadata": {
  "kernelspec": {
   "display_name": "Python 3",
   "language": "python",
   "name": "python3"
  },
  "language_info": {
   "codemirror_mode": {
    "name": "ipython",
    "version": 2
   },
   "file_extension": ".py",
   "mimetype": "text/x-python",
   "name": "python",
   "nbconvert_exporter": "python",
   "pygments_lexer": "ipython2",
   "version": "2.7.6"
  }
 },
 "nbformat": 4,
 "nbformat_minor": 5
}

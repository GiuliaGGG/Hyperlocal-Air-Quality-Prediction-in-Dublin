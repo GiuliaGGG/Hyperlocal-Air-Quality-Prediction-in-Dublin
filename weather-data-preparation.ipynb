{
 "cells": [
  {
   "cell_type": "code",
   "execution_count": 6,
   "id": "initial_id",
   "metadata": {
    "collapsed": true,
    "ExecuteTime": {
     "end_time": "2024-04-11T13:07:23.290128Z",
     "start_time": "2024-04-11T13:07:23.044452Z"
    }
   },
   "outputs": [
    {
     "name": "stdout",
     "output_type": "stream",
     "text": [
      "         date avgtempC maxtempC mintempC sunHour uvIndex humidity  \\\n",
      "0  2021-05-01        6        8        3    13.0       2       78   \n",
      "1  2021-05-02        7       10        4     6.0       2       76   \n",
      "2  2021-05-03        8       11        6     1.0       2       83   \n",
      "3  2021-05-04        7        9        3     8.0       2       73   \n",
      "4  2021-05-05        5        9        2     7.0       2       74   \n",
      "\n",
      "  windspeedKmph cloudcover precipMM pressure latitude longitude  \n",
      "0            10         52      0.7     1017   53.333    -6.249  \n",
      "1             9         65      0.8     1019   53.333    -6.249  \n",
      "2            29         91     14.4     1001   53.333    -6.249  \n",
      "3            28         72      2.3     1005   53.333    -6.249  \n",
      "4            14         60      2.6     1011   53.333    -6.249  \n"
     ]
    }
   ],
   "source": [
    "import requests\n",
    "import pandas as pd\n",
    "\n",
    "# API endpoint\n",
    "url = \"http://api.worldweatheronline.com/premium/v1/past-weather.ashx\"\n",
    "\n",
    "# Parameters\n",
    "params = {\n",
    "    \"key\": \"2b47535ff26a46f58c4124129241104\",  # Your API key\n",
    "    \"q\": \"Dublin\",  # Query location\n",
    "    \"format\": \"json\",\n",
    "    \"date\": \"2021-05-01\",  # Start date for historical data\n",
    "    \"enddate\": \"2022-08-31\",  # End date for historical data\n",
    "    \"includelocation\": \"yes\",\n",
    "    \"tp\": \"24\"  # Time period: 24 hours\n",
    "}\n",
    "\n",
    "# Making the GET request\n",
    "response = requests.get(url, params=params)\n",
    "\n",
    "# Check if the request was successful\n",
    "if response.status_code == 200:\n",
    "    # Parse the JSON response\n",
    "    data = response.json()\n",
    "    \n",
    "    # Extracting location data\n",
    "    location_data = data.get('data', {}).get('nearest_area', [{}])[0]\n",
    "    latitude = location_data.get('latitude', 'Unknown')\n",
    "    longitude = location_data.get('longitude', 'Unknown')\n",
    "    \n",
    "    # Extracting the weather data\n",
    "    weather_data = data.get('data', {}).get('weather', [])\n",
    "    \n",
    "    # Creating a list to store each day's weather information\n",
    "    weather_list = []\n",
    "    \n",
    "    for day in weather_data:\n",
    "        # For each day, create a dictionary with more detailed weather data\n",
    "        hourly_data = day.get('hourly', [{}])[0]  # Assuming first entry contains summary data for the day\n",
    "        day_data = {\n",
    "            'date': day['date'],\n",
    "            'avgtempC': day['avgtempC'],\n",
    "            'maxtempC': day['maxtempC'],\n",
    "            'mintempC': day['mintempC'],\n",
    "            'sunHour': day['sunHour'],\n",
    "            'uvIndex': day['uvIndex'],\n",
    "            'humidity': hourly_data['humidity'],\n",
    "            'windspeedKmph': hourly_data['windspeedKmph'],\n",
    "            'cloudcover': hourly_data['cloudcover'],\n",
    "            'precipMM': hourly_data['precipMM'],  # Precipitation can also influence air quality\n",
    "            'pressure': hourly_data['pressure'],  # Atmospheric pressure can affect air pollutant dispersion\n",
    "            'latitude': latitude,\n",
    "            'longitude': longitude,\n",
    "        }\n",
    "        weather_list.append(day_data)\n",
    "    \n",
    "    # Convert the list of dictionaries to a pandas DataFrame\n",
    "    weather_df = pd.DataFrame(weather_list)\n",
    "    \n",
    "    # print(weather_df.head())  # Print the first few rows to verify\n",
    "    \n",
    "    # Optionally, save the DataFrame to a CSV file\n",
    "    # weather_df.to_csv('dublin_weather_may2021_aug2022_extended.csv', index=False)\n",
    "else:\n",
    "    print(\"Failed to fetch data. Status Code:\", response.status_code)"
   ]
  },
  {
   "cell_type": "code",
   "outputs": [
    {
     "data": {
      "text/plain": "         date avgtempC maxtempC mintempC sunHour uvIndex humidity  \\\n0  2021-05-01        6        8        3    13.0       2       78   \n1  2021-05-02        7       10        4     6.0       2       76   \n2  2021-05-03        8       11        6     1.0       2       83   \n3  2021-05-04        7        9        3     8.0       2       73   \n4  2021-05-05        5        9        2     7.0       2       74   \n\n  windspeedKmph cloudcover precipMM pressure latitude longitude  \n0            10         52      0.7     1017   53.333    -6.249  \n1             9         65      0.8     1019   53.333    -6.249  \n2            29         91     14.4     1001   53.333    -6.249  \n3            28         72      2.3     1005   53.333    -6.249  \n4            14         60      2.6     1011   53.333    -6.249  ",
      "text/html": "<div>\n<style scoped>\n    .dataframe tbody tr th:only-of-type {\n        vertical-align: middle;\n    }\n\n    .dataframe tbody tr th {\n        vertical-align: top;\n    }\n\n    .dataframe thead th {\n        text-align: right;\n    }\n</style>\n<table border=\"1\" class=\"dataframe\">\n  <thead>\n    <tr style=\"text-align: right;\">\n      <th></th>\n      <th>date</th>\n      <th>avgtempC</th>\n      <th>maxtempC</th>\n      <th>mintempC</th>\n      <th>sunHour</th>\n      <th>uvIndex</th>\n      <th>humidity</th>\n      <th>windspeedKmph</th>\n      <th>cloudcover</th>\n      <th>precipMM</th>\n      <th>pressure</th>\n      <th>latitude</th>\n      <th>longitude</th>\n    </tr>\n  </thead>\n  <tbody>\n    <tr>\n      <th>0</th>\n      <td>2021-05-01</td>\n      <td>6</td>\n      <td>8</td>\n      <td>3</td>\n      <td>13.0</td>\n      <td>2</td>\n      <td>78</td>\n      <td>10</td>\n      <td>52</td>\n      <td>0.7</td>\n      <td>1017</td>\n      <td>53.333</td>\n      <td>-6.249</td>\n    </tr>\n    <tr>\n      <th>1</th>\n      <td>2021-05-02</td>\n      <td>7</td>\n      <td>10</td>\n      <td>4</td>\n      <td>6.0</td>\n      <td>2</td>\n      <td>76</td>\n      <td>9</td>\n      <td>65</td>\n      <td>0.8</td>\n      <td>1019</td>\n      <td>53.333</td>\n      <td>-6.249</td>\n    </tr>\n    <tr>\n      <th>2</th>\n      <td>2021-05-03</td>\n      <td>8</td>\n      <td>11</td>\n      <td>6</td>\n      <td>1.0</td>\n      <td>2</td>\n      <td>83</td>\n      <td>29</td>\n      <td>91</td>\n      <td>14.4</td>\n      <td>1001</td>\n      <td>53.333</td>\n      <td>-6.249</td>\n    </tr>\n    <tr>\n      <th>3</th>\n      <td>2021-05-04</td>\n      <td>7</td>\n      <td>9</td>\n      <td>3</td>\n      <td>8.0</td>\n      <td>2</td>\n      <td>73</td>\n      <td>28</td>\n      <td>72</td>\n      <td>2.3</td>\n      <td>1005</td>\n      <td>53.333</td>\n      <td>-6.249</td>\n    </tr>\n    <tr>\n      <th>4</th>\n      <td>2021-05-05</td>\n      <td>5</td>\n      <td>9</td>\n      <td>2</td>\n      <td>7.0</td>\n      <td>2</td>\n      <td>74</td>\n      <td>14</td>\n      <td>60</td>\n      <td>2.6</td>\n      <td>1011</td>\n      <td>53.333</td>\n      <td>-6.249</td>\n    </tr>\n  </tbody>\n</table>\n</div>"
     },
     "execution_count": 7,
     "metadata": {},
     "output_type": "execute_result"
    }
   ],
   "source": [
    "# show the data\n",
    "weather_df.head()"
   ],
   "metadata": {
    "collapsed": false,
    "ExecuteTime": {
     "end_time": "2024-04-11T13:07:28.403420Z",
     "start_time": "2024-04-11T13:07:28.395330Z"
    }
   },
   "id": "c85ebe9576e4a4ab",
   "execution_count": 7
  }
 ],
 "metadata": {
  "kernelspec": {
   "display_name": "Python 3",
   "language": "python",
   "name": "python3"
  },
  "language_info": {
   "codemirror_mode": {
    "name": "ipython",
    "version": 2
   },
   "file_extension": ".py",
   "mimetype": "text/x-python",
   "name": "python",
   "nbconvert_exporter": "python",
   "pygments_lexer": "ipython2",
   "version": "2.7.6"
  }
 },
 "nbformat": 4,
 "nbformat_minor": 5
}

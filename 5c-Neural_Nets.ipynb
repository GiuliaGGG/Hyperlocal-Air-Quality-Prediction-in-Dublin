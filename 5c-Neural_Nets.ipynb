{
 "cells": [
  {
   "cell_type": "code",
   "execution_count": 2,
   "id": "initial_id",
   "metadata": {
    "collapsed": true
   },
   "outputs": [],
   "source": [
    "import pandas as pd\n",
    "import numpy as np\n",
    "import matplotlib.pyplot as plt\n",
    "import seaborn as sns\n",
    "import sklearn.model_selection"
   ]
  },
  {
   "cell_type": "code",
   "execution_count": 1,
   "id": "c5940b31",
   "metadata": {},
   "outputs": [],
   "source": [
    "from torch.utils.data import DataLoader, TensorDataset\n",
    "import torch"
   ]
  },
  {
   "cell_type": "code",
   "execution_count": 3,
   "id": "83455033",
   "metadata": {},
   "outputs": [],
   "source": [
    "# Load the data\n",
    "Xtrain = pd.read_csv('prepped_data/Xtrain.csv')\n",
    "Xtest = pd.read_csv('prepped_data/Xtest.csv')\n",
    "Ytest = pd.read_csv('prepped_data/Ytest.csv')\n",
    "Ytrain = pd.read_csv('prepped_data/Ytrain.csv')\n",
    "Xtrain_KNN = pd.read_csv('prepped_data/Xtrain_KNN.csv')\n",
    "Xtest_KNN = pd.read_csv('prepped_data/Xtest_KNN.csv')"
   ]
  },
  {
   "cell_type": "code",
   "execution_count": 4,
   "id": "e168a546",
   "metadata": {},
   "outputs": [],
   "source": [
    "def val_loop(dataloader, model, loss_fn):\n",
    "    loss = 0\n",
    "    model.eval()\n",
    "    bs = dataloader.batch_size\n",
    "    for batch_idx, (X, y) in enumerate(dataloader):\n",
    "        pred = model(X) # make prediction on current batch\n",
    "        loss += loss_fn(pred,y).item() # calculate loss\n",
    "\n",
    "    loss /= len(dataloader)\n",
    "    print(f'Avg val loss: {loss:.5f} \\n')\n",
    "\n",
    "    return loss"
   ]
  },
  {
   "cell_type": "code",
   "execution_count": 5,
   "id": "784e2e8e",
   "metadata": {},
   "outputs": [],
   "source": [
    "#Performing a time series split on the training data to split it into 5 folds for cross validation\n",
    "from sklearn.model_selection import TimeSeriesSplit\n",
    "# Set the number of splits\n",
    "n_splits = 5  # You can adjust this as needed\n",
    "\n",
    "# Initialize TimeSeriesSplit\n",
    "tscv = TimeSeriesSplit(n_splits=n_splits)\n",
    "\n",
    "#make a \n",
    "def Cross_validation(model, Xtrain, Ytrain, tscv):\n",
    "    train_loss_nn1 = []\n",
    "    val_loss_nn1 = []\n",
    "    epochs = 40\n",
    "    for train_index, val_index in tscv.split(Xtrain):\n",
    "        X_train_fold, X_val_fold = Xtrain[train_index], Xtrain[val_index]\n",
    "        y_train_fold, y_val_fold = Ytrain[train_index], Ytrain[val_index]\n",
    "\n",
    "        train_dataset = TensorDataset(torch.tensor(X_train).float(), torch.tensor(y_train).float())\n",
    "        val_dataset= TensorDataset(torch.tensor(X_val).float(), torch.tensor(y_val).float())\n",
    "\n",
    "        ## Dataloader\n",
    "\n",
    "        train_bs = 32\n",
    "        val_bs = 32\n",
    "        #Batchsize is a Hyperparameter, it is a tradeoff between speed and accuracy. We use 32 here to start as this was the value from the tutorials.\n",
    "\n",
    "        train_dataloader = DataLoader(train_dataset, batch_size=train_bs, shuffle=True, drop_last=True) #dataset\n",
    "        val_dataloader = DataLoader(val_dataset, batch_size=val_bs, shuffle=False, drop_last=True)\n",
    "\n",
    "\n",
    "        # Now you have X_train_fold, y_train_fold as your training data for this fold\n",
    "        # And X_val_fold, y_val_fold as your validation data for this fold\n",
    "\n",
    "        # You can train your neural network model on X_train_fold, y_train_fold\n",
    "        # And evaluate it on X_val_fold, y_val_fold\n",
    "        # Repeat this process for each fold\n",
    "\n",
    "        for epoch in range(epochs):\n",
    "            print(f'Epoch {epoch+1}')\n",
    "            train_loss_nn1.append(train_loop(train_dataloader, model, loss_fn, optimiser))\n",
    "            val_loss_nn1.append(val_test_loop(val_dataloader, model, loss_fn))\n",
    "    return train_loss_nn1, val_loss_nn1\n",
    "    \n",
    "    \n",
    "    \n",
    "\n",
    "\n"
   ]
  },
  {
   "cell_type": "code",
   "execution_count": 8,
   "id": "213325c9",
   "metadata": {},
   "outputs": [
    {
     "ename": "KeyError",
     "evalue": "\"None of [Index([   0,    1,    2,    3,    4,    5,    6,    7,    8,    9,\\n       ...\\n       5812, 5813, 5814, 5815, 5816, 5817, 5818, 5819, 5820, 5821],\\n      dtype='int32', length=5822)] are in the [columns]\"",
     "output_type": "error",
     "traceback": [
      "\u001b[1;31m---------------------------------------------------------------------------\u001b[0m",
      "\u001b[1;31mKeyError\u001b[0m                                  Traceback (most recent call last)",
      "Cell \u001b[1;32mIn[8], line 22\u001b[0m\n\u001b[0;32m     19\u001b[0m optimiser \u001b[38;5;241m=\u001b[39m torch\u001b[38;5;241m.\u001b[39moptim\u001b[38;5;241m.\u001b[39mAdam(model\u001b[38;5;241m.\u001b[39mparameters(), lr\u001b[38;5;241m=\u001b[39mlearning_rate)\n\u001b[0;32m     21\u001b[0m \u001b[38;5;66;03m#train the model\u001b[39;00m\n\u001b[1;32m---> 22\u001b[0m train_loss_nn1, val_loss_nn1 \u001b[38;5;241m=\u001b[39m Cross_validation(model, Xtrain, Ytrain, tscv)\n\u001b[0;32m     24\u001b[0m \u001b[38;5;66;03m#plot the training and validation loss\u001b[39;00m\n\u001b[0;32m     25\u001b[0m plt\u001b[38;5;241m.\u001b[39mplot(train_loss_nn1)\n",
      "Cell \u001b[1;32mIn[5], line 15\u001b[0m, in \u001b[0;36mCross_validation\u001b[1;34m(model, Xtrain, Ytrain, tscv)\u001b[0m\n\u001b[0;32m     13\u001b[0m epochs \u001b[38;5;241m=\u001b[39m \u001b[38;5;241m40\u001b[39m\n\u001b[0;32m     14\u001b[0m \u001b[38;5;28;01mfor\u001b[39;00m train_index, val_index \u001b[38;5;129;01min\u001b[39;00m tscv\u001b[38;5;241m.\u001b[39msplit(Xtrain):\n\u001b[1;32m---> 15\u001b[0m     X_train_fold, X_val_fold \u001b[38;5;241m=\u001b[39m Xtrain[train_index], Xtrain[val_index]\n\u001b[0;32m     16\u001b[0m     y_train_fold, y_val_fold \u001b[38;5;241m=\u001b[39m Ytrain[train_index], Ytrain[val_index]\n\u001b[0;32m     18\u001b[0m     train_dataset \u001b[38;5;241m=\u001b[39m TensorDataset(torch\u001b[38;5;241m.\u001b[39mtensor(X_train)\u001b[38;5;241m.\u001b[39mfloat(), torch\u001b[38;5;241m.\u001b[39mtensor(y_train)\u001b[38;5;241m.\u001b[39mfloat())\n",
      "File \u001b[1;32mc:\\Users\\killi\\anaconda3\\envs\\dsa2\\Lib\\site-packages\\pandas\\core\\frame.py:3899\u001b[0m, in \u001b[0;36mDataFrame.__getitem__\u001b[1;34m(self, key)\u001b[0m\n\u001b[0;32m   3897\u001b[0m     \u001b[38;5;28;01mif\u001b[39;00m is_iterator(key):\n\u001b[0;32m   3898\u001b[0m         key \u001b[38;5;241m=\u001b[39m \u001b[38;5;28mlist\u001b[39m(key)\n\u001b[1;32m-> 3899\u001b[0m     indexer \u001b[38;5;241m=\u001b[39m \u001b[38;5;28mself\u001b[39m\u001b[38;5;241m.\u001b[39mcolumns\u001b[38;5;241m.\u001b[39m_get_indexer_strict(key, \u001b[38;5;124m\"\u001b[39m\u001b[38;5;124mcolumns\u001b[39m\u001b[38;5;124m\"\u001b[39m)[\u001b[38;5;241m1\u001b[39m]\n\u001b[0;32m   3901\u001b[0m \u001b[38;5;66;03m# take() does not accept boolean indexers\u001b[39;00m\n\u001b[0;32m   3902\u001b[0m \u001b[38;5;28;01mif\u001b[39;00m \u001b[38;5;28mgetattr\u001b[39m(indexer, \u001b[38;5;124m\"\u001b[39m\u001b[38;5;124mdtype\u001b[39m\u001b[38;5;124m\"\u001b[39m, \u001b[38;5;28;01mNone\u001b[39;00m) \u001b[38;5;241m==\u001b[39m \u001b[38;5;28mbool\u001b[39m:\n",
      "File \u001b[1;32mc:\\Users\\killi\\anaconda3\\envs\\dsa2\\Lib\\site-packages\\pandas\\core\\indexes\\base.py:6115\u001b[0m, in \u001b[0;36mIndex._get_indexer_strict\u001b[1;34m(self, key, axis_name)\u001b[0m\n\u001b[0;32m   6112\u001b[0m \u001b[38;5;28;01melse\u001b[39;00m:\n\u001b[0;32m   6113\u001b[0m     keyarr, indexer, new_indexer \u001b[38;5;241m=\u001b[39m \u001b[38;5;28mself\u001b[39m\u001b[38;5;241m.\u001b[39m_reindex_non_unique(keyarr)\n\u001b[1;32m-> 6115\u001b[0m \u001b[38;5;28mself\u001b[39m\u001b[38;5;241m.\u001b[39m_raise_if_missing(keyarr, indexer, axis_name)\n\u001b[0;32m   6117\u001b[0m keyarr \u001b[38;5;241m=\u001b[39m \u001b[38;5;28mself\u001b[39m\u001b[38;5;241m.\u001b[39mtake(indexer)\n\u001b[0;32m   6118\u001b[0m \u001b[38;5;28;01mif\u001b[39;00m \u001b[38;5;28misinstance\u001b[39m(key, Index):\n\u001b[0;32m   6119\u001b[0m     \u001b[38;5;66;03m# GH 42790 - Preserve name from an Index\u001b[39;00m\n",
      "File \u001b[1;32mc:\\Users\\killi\\anaconda3\\envs\\dsa2\\Lib\\site-packages\\pandas\\core\\indexes\\base.py:6176\u001b[0m, in \u001b[0;36mIndex._raise_if_missing\u001b[1;34m(self, key, indexer, axis_name)\u001b[0m\n\u001b[0;32m   6174\u001b[0m     \u001b[38;5;28;01mif\u001b[39;00m use_interval_msg:\n\u001b[0;32m   6175\u001b[0m         key \u001b[38;5;241m=\u001b[39m \u001b[38;5;28mlist\u001b[39m(key)\n\u001b[1;32m-> 6176\u001b[0m     \u001b[38;5;28;01mraise\u001b[39;00m \u001b[38;5;167;01mKeyError\u001b[39;00m(\u001b[38;5;124mf\u001b[39m\u001b[38;5;124m\"\u001b[39m\u001b[38;5;124mNone of [\u001b[39m\u001b[38;5;132;01m{\u001b[39;00mkey\u001b[38;5;132;01m}\u001b[39;00m\u001b[38;5;124m] are in the [\u001b[39m\u001b[38;5;132;01m{\u001b[39;00maxis_name\u001b[38;5;132;01m}\u001b[39;00m\u001b[38;5;124m]\u001b[39m\u001b[38;5;124m\"\u001b[39m)\n\u001b[0;32m   6178\u001b[0m not_found \u001b[38;5;241m=\u001b[39m \u001b[38;5;28mlist\u001b[39m(ensure_index(key)[missing_mask\u001b[38;5;241m.\u001b[39mnonzero()[\u001b[38;5;241m0\u001b[39m]]\u001b[38;5;241m.\u001b[39munique())\n\u001b[0;32m   6179\u001b[0m \u001b[38;5;28;01mraise\u001b[39;00m \u001b[38;5;167;01mKeyError\u001b[39;00m(\u001b[38;5;124mf\u001b[39m\u001b[38;5;124m\"\u001b[39m\u001b[38;5;132;01m{\u001b[39;00mnot_found\u001b[38;5;132;01m}\u001b[39;00m\u001b[38;5;124m not in index\u001b[39m\u001b[38;5;124m\"\u001b[39m)\n",
      "\u001b[1;31mKeyError\u001b[0m: \"None of [Index([   0,    1,    2,    3,    4,    5,    6,    7,    8,    9,\\n       ...\\n       5812, 5813, 5814, 5815, 5816, 5817, 5818, 5819, 5820, 5821],\\n      dtype='int32', length=5822)] are in the [columns]\""
     ]
    }
   ],
   "source": [
    "from torch import nn\n",
    "\n",
    "class Network(nn.Module):\n",
    "    def __init__(self,hid_layer=[100]): #Start with a default of 10, can change this in the call\n",
    "        super().__init__()\n",
    "        self.net = nn.Sequential(\n",
    "            nn.Linear(input_dim, hid_layer[0]),\n",
    "            nn.ReLU(),\n",
    "            nn.Linear(hid_layer[0], 1)\n",
    "        )\n",
    "    def forward(self,x):\n",
    "        return self.net(x)\n",
    "\n",
    "input_dim = Xtrain.shape[1]\n",
    "model = Network([10])\n",
    "\n",
    "learning_rate = 0.01\n",
    "loss_fn = torch.nn.MSELoss()\n",
    "optimiser = torch.optim.Adam(model.parameters(), lr=learning_rate)\n",
    "\n",
    "#train the model\n",
    "train_loss_nn1, val_loss_nn1 = Cross_validation(model, Xtrain, Ytrain, tscv)\n",
    "\n",
    "#plot the training and validation loss\n",
    "plt.plot(train_loss_nn1)\n",
    "plt.plot(val_loss_nn1)\n",
    "plt.title('model loss')\n",
    "plt.ylabel('loss')\n",
    "plt.xlabel('epoch')\n",
    "plt.legend(['train', 'val'], loc='upper left')\n",
    "plt.show()\n",
    "\n"
   ]
  }
 ],
 "metadata": {
  "kernelspec": {
   "display_name": "Python 3",
   "language": "python",
   "name": "python3"
  },
  "language_info": {
   "codemirror_mode": {
    "name": "ipython",
    "version": 3
   },
   "file_extension": ".py",
   "mimetype": "text/x-python",
   "name": "python",
   "nbconvert_exporter": "python",
   "pygments_lexer": "ipython3",
   "version": "3.11.7"
  }
 },
 "nbformat": 4,
 "nbformat_minor": 5
}

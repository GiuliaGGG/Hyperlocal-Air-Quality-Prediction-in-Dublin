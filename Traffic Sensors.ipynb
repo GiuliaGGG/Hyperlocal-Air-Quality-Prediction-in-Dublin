{
 "cells": [
  {
   "cell_type": "code",
   "execution_count": 3,
   "metadata": {},
   "outputs": [
    {
     "ename": "TypeError",
     "evalue": "strptime() argument 1 must be str, not Series",
     "output_type": "error",
     "traceback": [
      "\u001b[1;31m---------------------------------------------------------------------------\u001b[0m",
      "\u001b[1;31mTypeError\u001b[0m                                 Traceback (most recent call last)",
      "Cell \u001b[1;32mIn[3], line 22\u001b[0m\n\u001b[0;32m     19\u001b[0m df \u001b[38;5;241m=\u001b[39m pd\u001b[38;5;241m.\u001b[39mread_csv(file_path)\n\u001b[0;32m     21\u001b[0m \u001b[38;5;66;03m# Convert 'End_Time' column to datetime\u001b[39;00m\n\u001b[1;32m---> 22\u001b[0m df[\u001b[38;5;124m'\u001b[39m\u001b[38;5;124mEnd_Time\u001b[39m\u001b[38;5;124m'\u001b[39m] \u001b[38;5;241m=\u001b[39m datetime\u001b[38;5;241m.\u001b[39mstrptime(df[\u001b[38;5;124m'\u001b[39m\u001b[38;5;124mEnd_Time\u001b[39m\u001b[38;5;124m'\u001b[39m], \u001b[38;5;124m\"\u001b[39m\u001b[38;5;124m%\u001b[39m\u001b[38;5;124mY\u001b[39m\u001b[38;5;124m%\u001b[39m\u001b[38;5;124mm\u001b[39m\u001b[38;5;132;01m%d\u001b[39;00m\u001b[38;5;124m%\u001b[39m\u001b[38;5;124mH\u001b[39m\u001b[38;5;124m%\u001b[39m\u001b[38;5;124mM\u001b[39m\u001b[38;5;124m%\u001b[39m\u001b[38;5;124mS\u001b[39m\u001b[38;5;124m\"\u001b[39m)\n\u001b[0;32m     24\u001b[0m \u001b[38;5;66;03m# Extract date part from 'End_Time'\u001b[39;00m\n\u001b[0;32m     25\u001b[0m df[\u001b[38;5;124m'\u001b[39m\u001b[38;5;124mDate\u001b[39m\u001b[38;5;124m'\u001b[39m] \u001b[38;5;241m=\u001b[39m df[\u001b[38;5;124m'\u001b[39m\u001b[38;5;124mEnd_Time\u001b[39m\u001b[38;5;124m'\u001b[39m]\u001b[38;5;241m.\u001b[39mdate()\n",
      "\u001b[1;31mTypeError\u001b[0m: strptime() argument 1 must be str, not Series"
     ]
    }
   ],
   "source": [
    "import os\n",
    "import pandas as pd\n",
    "from datetime import datetime\n",
    "\n",
    "# Path to the folder containing CSV files\n",
    "folder_path = 'data/Traffic_Measurements'\n",
    "\n",
    "# Get a list of all CSV files in the folder\n",
    "csv_files = [file for file in os.listdir(folder_path) if file.endswith('.csv')]\n",
    "\n",
    "# Initialize an empty list to store the final results\n",
    "daily_volume = []\n",
    "\n",
    "# Iterate over each CSV file\n",
    "for file in csv_files:\n",
    "    file_path = os.path.join(folder_path, file)\n",
    "    \n",
    "    # Read the CSV file into a DataFrame\n",
    "    df = pd.read_csv(file_path)\n",
    "    \n",
    "    # Convert 'End_Time' column to datetime\n",
    "    df['End_Time'] = datetime.strptime(df['End_Time'], \"%Y%m%d%H%M%S\")\n",
    "    \n",
    "    # Extract date part from 'End_Time'\n",
    "    df['Date'] = df['End_Time'].date()\n",
    "    \n",
    "    # Group by 'Site' and 'Date', sum 'Sum_Volume'\n",
    "    daily_sum = df.groupby(['Site', 'Date'])['Sum_Volume'].sum().reset_index()\n",
    "    \n",
    "    # Append daily sum to the final results list\n",
    "    daily_volume.append(daily_sum)\n",
    "\n",
    "# Concatenate all daily sums into one DataFrame\n",
    "final_result = pd.concat(daily_volume, ignore_index=True)\n",
    "\n",
    "# Display the final result\n",
    "print(final_result)\n"
   ]
  },
  {
   "cell_type": "code",
   "execution_count": null,
   "metadata": {},
   "outputs": [
    {
     "ename": "",
     "evalue": "",
     "output_type": "error",
     "traceback": [
      "\u001b[1;31mFailed to start the Kernel. \n",
      "\u001b[1;31mUnable to start Kernel 'dsa2 (Python 3.11.7)' due to a connection timeout. \n",
      "\u001b[1;31mView Jupyter <a href='command:jupyter.viewOutput'>log</a> for further details."
     ]
    }
   ],
   "source": [
    "import os\n",
    "import pandas as pd\n",
    "from datetime import datetime\n",
    "\n",
    "# Path to the folder containing CSV files\n",
    "folder_path = 'data/Traffic_Measurements'\n",
    "\n",
    "# Get a list of all CSV files in the folder\n",
    "csv_files = [file for file in os.listdir(folder_path) if file.endswith('.csv')]\n",
    "\n",
    "# Initialize an empty list to store the final results\n",
    "daily_volume = []\n",
    "\n",
    "# Iterate over each CSV file\n",
    "for file in csv_files:\n",
    "    file_path = os.path.join(folder_path, file)\n",
    "    \n",
    "    # Read the CSV file into a DataFrame\n",
    "    df = pd.read_csv(file_path)\n",
    "    \n",
    "    # Convert 'End_Time' column to datetime using the provided method\n",
    "    df['End_Time'] = df['End_Time'].apply(lambda x: datetime.strptime(str(x), \"%Y%m%d%H%M%S\"))\n",
    "    \n",
    "    # Extract date part from 'End_Time'\n",
    "    df['Date'] = df['End_Time'].dt.date\n",
    "    \n",
    "    # Group by 'Site' and 'Date', sum 'Sum_Volume'\n",
    "    daily_sum = df.groupby(['Site', 'Date'])['Sum_Volume'].sum().reset_index()\n",
    "    \n",
    "    # Append daily sum to the final results list\n",
    "    daily_volume.append(daily_sum)\n",
    "\n",
    "# Concatenate all daily sums into one DataFrame\n",
    "final_result = pd.concat(daily_volume, ignore_index=True)\n",
    "\n",
    "# Display the final result\n",
    "print(final_result)\n"
   ]
  }
 ],
 "metadata": {
  "kernelspec": {
   "display_name": "dsa2",
   "language": "python",
   "name": "python3"
  },
  "language_info": {
   "codemirror_mode": {
    "name": "ipython",
    "version": 3
   },
   "file_extension": ".py",
   "mimetype": "text/x-python",
   "name": "python",
   "nbconvert_exporter": "python",
   "pygments_lexer": "ipython3",
   "version": "3.11.7"
  }
 },
 "nbformat": 4,
 "nbformat_minor": 2
}

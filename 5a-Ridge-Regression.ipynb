{
 "cells": [
  {
   "cell_type": "markdown",
   "metadata": {},
   "source": [
    "\n",
    "# Predicting Air Pollution Levels using a Ridge Regression\n",
    "\n",
    "This notebook demonstrates the steps to use a Ridge Regression model to predict air pollution levels."
   ]
  },
  {
   "cell_type": "code",
   "execution_count": 16,
   "metadata": {},
   "outputs": [],
   "source": [
    "import numpy as np\n",
    "import pandas as pd\n",
    "from sklearn.model_selection import train_test_split\n",
    "from sklearn.linear_model import Ridge\n",
    "from sklearn.metrics import mean_squared_error\n",
    "import matplotlib.pyplot as plt\n",
    "from sklearn.linear_model import Lasso\n",
    "from sklearn.impute import SimpleImputer\n",
    "from sklearn.preprocessing import StandardScaler\n",
    "from sklearn.preprocessing import OneHotEncoder\n",
    "from sklearn.model_selection import GridSearchCV\n"
   ]
  },
  {
   "cell_type": "code",
   "execution_count": 2,
   "metadata": {},
   "outputs": [
    {
     "data": {
      "text/plain": [
       "Index(['Hour', 'date', 'NO_ugm3', 'NO2_ugm3', 'O3_ugm3', 'CO_mgm3', 'CO2_mgm3',\n",
       "       'PM25_ugm3', 'SiteID', 'Lat', 'Long', 'day_of_week', 'avgtempC',\n",
       "       'maxtempC', 'mintempC', 'sunHour', 'uvIndex', 'humidity',\n",
       "       'winddirDegree', 'windspeedKmph', 'cloudcover', 'precipMM', 'pressure',\n",
       "       'DCC-AQ1-co', 'DCC-AQ1-no', 'DCC-AQ10-no', 'DCC-AQ13-no', 'DCC-AQ5-no',\n",
       "       'DCC-AQ6-no', 'DCC-AQ1-no2', 'DCC-AQ10-no2', 'DCC-AQ13-no2',\n",
       "       'DCC-AQ22-no2', 'DCC-AQ5-no2', 'DCC-AQ6-no2', 'DCC-AQ69-no2',\n",
       "       'DCC-AQ22-o3', 'DCC-AQ69-o3', 'DCC-AQ10-pm1', 'DCC-AQ13-pm1',\n",
       "       'DCC-AQ2-pm1', 'DCC-AQ3-pm1', 'DCC-AQ4-pm1', 'DCC-AQ5-pm1',\n",
       "       'DCC-AQ52-pm1', 'DCC-AQ6-pm1', 'TNO2161-pm1', 'TNO2162-pm1',\n",
       "       'TNO4435-pm1', 'TNT1088-pm1', 'DCC-AQ10-pm10', 'DCC-AQ13-pm10',\n",
       "       'DCC-AQ2-pm10', 'DCC-AQ22-pm10', 'DCC-AQ3-pm10', 'DCC-AQ4-pm10',\n",
       "       'DCC-AQ5-pm10', 'DCC-AQ52-pm10', 'DCC-AQ6-pm10', 'TNO2161-pm10',\n",
       "       'TNO2162-pm10', 'TNO4435-pm10', 'TNT1088-pm10', 'DCC-AQ10-pm2_5',\n",
       "       'DCC-AQ13-pm2_5', 'DCC-AQ2-pm2_5', 'DCC-AQ22-pm2_5', 'DCC-AQ3-pm2_5',\n",
       "       'DCC-AQ4-pm2_5', 'DCC-AQ5-pm2_5', 'DCC-AQ52-pm2_5', 'DCC-AQ6-pm2_5',\n",
       "       'TNO2161-pm2_5', 'TNO2162-pm2_5', 'TNO4435-pm2_5', 'TNT1088-pm2_5',\n",
       "       'DCC-AQ10-pm4', 'DCC-AQ13-pm4', 'DCC-AQ2-pm4', 'DCC-AQ3-pm4',\n",
       "       'DCC-AQ4-pm4', 'DCC-AQ5-pm4', 'DCC-AQ52-pm4', 'DCC-AQ6-pm4',\n",
       "       'DCC-AQ1-so2', 'DCC-AQ13-so2', 'DCC-AQ22-so2', 'TNO2161-tsp',\n",
       "       'TNO2162-tsp', 'TNO4435-tsp', 'TNT1088-tsp', 'Sum_Volume'],\n",
       "      dtype='object')"
      ]
     },
     "execution_count": 2,
     "metadata": {},
     "output_type": "execute_result"
    }
   ],
   "source": [
    "full_data = pd.read_csv(\"prepped_data/Full_data.csv\") \n",
    "full_data.columns"
   ]
  },
  {
   "cell_type": "code",
   "execution_count": 3,
   "metadata": {},
   "outputs": [],
   "source": [
    "df_test = full_data[full_data['date'] >= '2022-05-01']\n",
    "df_train = full_data[full_data['date'] < '2022-05-01']"
   ]
  },
  {
   "cell_type": "code",
   "execution_count": 4,
   "metadata": {},
   "outputs": [],
   "source": [
    "# #Split train into X and Y\n",
    "Xtrain = df_train.iloc[:, 8:].values\n",
    "ytrain = df_train[\"PM25_ugm3\"].values\n",
    "\n",
    "# #Split test into X and Y\n",
    "Xtest = df_test.iloc[:, 8:].values\n",
    "ytest = df_test[\"PM25_ugm3\"].values\n"
   ]
  },
  {
   "cell_type": "code",
   "execution_count": 5,
   "metadata": {},
   "outputs": [
    {
     "name": "stdout",
     "output_type": "stream",
     "text": [
      "(34923, 84)\n",
      "(34923,)\n",
      "(8272, 84)\n",
      "(8272,)\n"
     ]
    }
   ],
   "source": [
    "print(Xtrain.shape)\n",
    "print(ytrain.shape) \n",
    "print(Xtest.shape)\n",
    "print(ytest.shape)"
   ]
  },
  {
   "cell_type": "code",
   "execution_count": 6,
   "metadata": {},
   "outputs": [
    {
     "name": "stderr",
     "output_type": "stream",
     "text": [
      "c:\\Users\\Giulia Maria\\miniconda3\\envs\\ML\\Lib\\site-packages\\sklearn\\preprocessing\\_encoders.py:868: FutureWarning: `sparse` was renamed to `sparse_output` in version 1.2 and will be removed in 1.4. `sparse_output` is ignored unless you leave `sparse` to its default value.\n",
      "  warnings.warn(\n"
     ]
    }
   ],
   "source": [
    "# Assuming you know the names of the categorical columns\n",
    "categorical_columns = ['SiteID', 'day_of_week']  # List of categorical column names\n",
    "\n",
    "# Convert arrays back to DataFrame for easier manipulation\n",
    "Xtrain_df = pd.DataFrame(Xtrain, columns=df_train.columns[8:])\n",
    "Xtest_df = pd.DataFrame(Xtest, columns=df_test.columns[8:])\n",
    "\n",
    "# Initialize the OneHotEncoder\n",
    "encoder = OneHotEncoder(sparse=False, handle_unknown='ignore')\n",
    "\n",
    "# Fit the encoder on the training data\n",
    "encoder.fit(Xtrain_df[categorical_columns])\n",
    "\n",
    "# Transform both training and test data\n",
    "Xtrain_encoded = encoder.transform(Xtrain_df[categorical_columns])\n",
    "Xtest_encoded = encoder.transform(Xtest_df[categorical_columns])\n",
    "\n",
    "# Create DataFrames from the encoded arrays, include column names for easier merging\n",
    "encoded_columns = encoder.get_feature_names_out(categorical_columns)\n",
    "Xtrain_encoded_df = pd.DataFrame(Xtrain_encoded, columns=encoded_columns)\n",
    "Xtest_encoded_df = pd.DataFrame(Xtest_encoded, columns=encoded_columns)\n",
    "\n",
    "# Drop the original categorical columns and concat the new encoded columns\n",
    "Xtrain_final = pd.concat([Xtrain_df.drop(categorical_columns, axis=1), Xtrain_encoded_df], axis=1)\n",
    "Xtest_final = pd.concat([Xtest_df.drop(categorical_columns, axis=1), Xtest_encoded_df], axis=1)\n"
   ]
  },
  {
   "cell_type": "code",
   "execution_count": 7,
   "metadata": {},
   "outputs": [
    {
     "name": "stdout",
     "output_type": "stream",
     "text": [
      "(34923, 901)\n",
      "(34923,)\n",
      "(8272, 901)\n",
      "(8272,)\n"
     ]
    }
   ],
   "source": [
    "print(Xtrain_final.shape)\n",
    "print(ytrain.shape) \n",
    "print(Xtest_final.shape)\n",
    "print(ytest.shape)"
   ]
  },
  {
   "cell_type": "code",
   "execution_count": 8,
   "metadata": {},
   "outputs": [
    {
     "name": "stdout",
     "output_type": "stream",
     "text": [
      "Index(['Lat', 'Long', 'avgtempC', 'maxtempC', 'mintempC', 'sunHour', 'uvIndex',\n",
      "       'humidity', 'winddirDegree', 'windspeedKmph',\n",
      "       ...\n",
      "       'SiteID_964.0', 'SiteID_965.0', 'SiteID_968.0', 'SiteID_974.0',\n",
      "       'SiteID_1002.0', 'day_of_week_0.0', 'day_of_week_1.0',\n",
      "       'day_of_week_2.0', 'day_of_week_3.0', 'day_of_week_4.0'],\n",
      "      dtype='object', length=901)\n",
      "Index(['Lat', 'Long', 'avgtempC', 'maxtempC', 'mintempC', 'sunHour', 'uvIndex',\n",
      "       'humidity', 'winddirDegree', 'windspeedKmph',\n",
      "       ...\n",
      "       'SiteID_964.0', 'SiteID_965.0', 'SiteID_968.0', 'SiteID_974.0',\n",
      "       'SiteID_1002.0', 'day_of_week_0.0', 'day_of_week_1.0',\n",
      "       'day_of_week_2.0', 'day_of_week_3.0', 'day_of_week_4.0'],\n",
      "      dtype='object', length=901)\n"
     ]
    }
   ],
   "source": [
    "print(Xtrain_final.columns)\n",
    "print(Xtest_final.columns)\n"
   ]
  },
  {
   "cell_type": "code",
   "execution_count": 9,
   "metadata": {},
   "outputs": [],
   "source": [
    "np.random.seed(0)   \n",
    "# imputing \n",
    "imputer = SimpleImputer(strategy=\"mean\")\n",
    "Xtrain_1 = imputer.fit_transform(Xtrain_final)  # Impute\n",
    "Xtest_1 = imputer.transform(Xtest_final)  # Impute\n",
    "\n",
    "# Convert back to DataFrame\n",
    "Xtrain_1 = pd.DataFrame(Xtrain_1, columns=Xtrain_final.columns)\n",
    "Xtest_1 = pd.DataFrame(Xtest_1, columns=Xtest_final.columns)\n",
    "\n",
    "# scaling \n",
    "scaler = StandardScaler()\n",
    "Xtrain_1 = scaler.fit_transform(Xtrain_1)  # Scale\n",
    "Xtest_1 = scaler.transform(Xtest_1)  # Scale\n",
    "\n",
    "# Convert back to DataFrame\n",
    "Xtrain_1 = pd.DataFrame(Xtrain_1, columns=Xtrain_final.columns)\n",
    "Xtest_1 = pd.DataFrame(Xtest_1, columns=Xtest_final.columns)\n"
   ]
  },
  {
   "cell_type": "markdown",
   "metadata": {},
   "source": [
    "Scaling and imputing"
   ]
  },
  {
   "cell_type": "code",
   "execution_count": 10,
   "metadata": {},
   "outputs": [
    {
     "name": "stdout",
     "output_type": "stream",
     "text": [
      "Index(['Lat', 'Long', 'avgtempC', 'maxtempC', 'mintempC', 'sunHour', 'uvIndex',\n",
      "       'humidity', 'winddirDegree', 'windspeedKmph',\n",
      "       ...\n",
      "       'SiteID_964.0', 'SiteID_965.0', 'SiteID_968.0', 'SiteID_974.0',\n",
      "       'SiteID_1002.0', 'day_of_week_0.0', 'day_of_week_1.0',\n",
      "       'day_of_week_2.0', 'day_of_week_3.0', 'day_of_week_4.0'],\n",
      "      dtype='object', length=901)\n",
      "Index(['Lat', 'Long', 'avgtempC', 'maxtempC', 'mintempC', 'sunHour', 'uvIndex',\n",
      "       'humidity', 'winddirDegree', 'windspeedKmph',\n",
      "       ...\n",
      "       'SiteID_964.0', 'SiteID_965.0', 'SiteID_968.0', 'SiteID_974.0',\n",
      "       'SiteID_1002.0', 'day_of_week_0.0', 'day_of_week_1.0',\n",
      "       'day_of_week_2.0', 'day_of_week_3.0', 'day_of_week_4.0'],\n",
      "      dtype='object', length=901)\n"
     ]
    }
   ],
   "source": [
    "print(Xtrain_1.columns)\n",
    "print(Xtest_1.columns)\n"
   ]
  },
  {
   "cell_type": "code",
   "execution_count": 11,
   "metadata": {},
   "outputs": [
    {
     "name": "stdout",
     "output_type": "stream",
     "text": [
      "(34923, 901)\n",
      "(8272, 901)\n"
     ]
    }
   ],
   "source": [
    "print(Xtrain_1.shape)\n",
    "#print(ytrain.shape) \n",
    "print(Xtest_1.shape)\n",
    "#print(ytest.shape)"
   ]
  },
  {
   "cell_type": "markdown",
   "metadata": {},
   "source": [
    "Model Definition"
   ]
  },
  {
   "cell_type": "code",
   "execution_count": 12,
   "metadata": {},
   "outputs": [
    {
     "name": "stdout",
     "output_type": "stream",
     "text": [
      "            Lat      Long  avgtempC  maxtempC  mintempC   sunHour   uvIndex  \\\n",
      "0     -1.128775 -1.358738 -1.330213 -1.137422 -1.953354  0.900165 -0.207077   \n",
      "1     -0.759257 -1.584956 -1.330213 -1.137422 -1.953354  0.900165 -0.207077   \n",
      "2     -1.188387 -1.714836 -1.330213 -1.137422 -1.953354  0.900165 -0.207077   \n",
      "3     -1.048941 -2.050665 -1.330213 -1.137422 -1.953354  0.900165 -0.207077   \n",
      "4     -2.137602 -1.135172 -1.330213 -1.137422 -1.953354  0.900165 -0.207077   \n",
      "...         ...       ...       ...       ...       ...       ...       ...   \n",
      "34918 -0.132409 -1.337824 -0.546162 -0.400707 -0.684064  0.900165 -0.207077   \n",
      "34919 -0.435661 -1.567350 -0.546162 -0.400707 -0.684064  0.900165 -0.207077   \n",
      "34920 -0.421234 -2.373674 -0.546162 -0.400707 -0.684064  0.900165 -0.207077   \n",
      "34921 -0.425282 -1.900000 -0.546162 -0.400707 -0.684064  0.900165 -0.207077   \n",
      "34922 -0.251402 -1.331211 -0.546162 -0.400707 -0.684064  0.900165 -0.207077   \n",
      "\n",
      "       humidity  winddirDegree  windspeedKmph  ...  SiteID_964.0  \\\n",
      "0     -1.587793       1.394285      -0.539864  ...     -0.033004   \n",
      "1     -1.813807       1.427786      -0.303917  ...     -0.033004   \n",
      "2     -1.813807       1.427786      -0.303917  ...     -0.033004   \n",
      "3     -1.813807       1.427786      -0.303917  ...     -0.033004   \n",
      "4     -1.587793       1.394285      -0.539864  ...     -0.033004   \n",
      "...         ...            ...            ...  ...           ...   \n",
      "34918 -1.587793      -1.520335      -1.365677  ...     -0.033004   \n",
      "34919 -1.587793      -1.520335      -1.365677  ...     -0.033004   \n",
      "34920 -1.587793      -1.520335      -1.365677  ...     -0.033004   \n",
      "34921 -1.587793      -1.520335      -1.365677  ...     -0.033004   \n",
      "34922 -1.587793      -1.520335      -1.365677  ...     -0.033004   \n",
      "\n",
      "       SiteID_965.0  SiteID_968.0  SiteID_974.0  SiteID_1002.0  \\\n",
      "0         -0.022709     -0.031673     -0.023938      -0.043182   \n",
      "1         -0.022709     -0.031673     -0.023938      -0.043182   \n",
      "2         -0.022709     -0.031673     -0.023938      -0.043182   \n",
      "3         -0.022709     -0.031673     -0.023938      -0.043182   \n",
      "4         -0.022709     -0.031673     -0.023938      -0.043182   \n",
      "...             ...           ...           ...            ...   \n",
      "34918     -0.022709     -0.031673     -0.023938      -0.043182   \n",
      "34919     -0.022709     -0.031673     -0.023938      -0.043182   \n",
      "34920     -0.022709     -0.031673     -0.023938      -0.043182   \n",
      "34921     -0.022709     -0.031673     -0.023938      -0.043182   \n",
      "34922     -0.022709     -0.031673     -0.023938      -0.043182   \n",
      "\n",
      "       day_of_week_0.0  day_of_week_1.0  day_of_week_2.0  day_of_week_3.0  \\\n",
      "0            -0.492535        -0.563296        -0.454639         2.007656   \n",
      "1            -0.492535        -0.563296        -0.454639         2.007656   \n",
      "2            -0.492535        -0.563296        -0.454639         2.007656   \n",
      "3            -0.492535        -0.563296        -0.454639         2.007656   \n",
      "4            -0.492535        -0.563296        -0.454639         2.007656   \n",
      "...                ...              ...              ...              ...   \n",
      "34918        -0.492535        -0.563296        -0.454639        -0.498093   \n",
      "34919        -0.492535        -0.563296        -0.454639        -0.498093   \n",
      "34920        -0.492535        -0.563296        -0.454639        -0.498093   \n",
      "34921        -0.492535        -0.563296        -0.454639        -0.498093   \n",
      "34922        -0.492535        -0.563296        -0.454639        -0.498093   \n",
      "\n",
      "       day_of_week_4.0  \n",
      "0            -0.490334  \n",
      "1            -0.490334  \n",
      "2            -0.490334  \n",
      "3            -0.490334  \n",
      "4            -0.490334  \n",
      "...                ...  \n",
      "34918         2.039425  \n",
      "34919         2.039425  \n",
      "34920         2.039425  \n",
      "34921         2.039425  \n",
      "34922         2.039425  \n",
      "\n",
      "[34923 rows x 901 columns]\n",
      "Total number of missing values in the array: 183480\n"
     ]
    }
   ],
   "source": [
    "ridge_model = Ridge(alpha=1.0)\n",
    "\n",
    "print(Xtrain_1)\n",
    "#type(Xtrain_1)\n",
    "total_nas = np.isnan(Xtrain).sum()\n",
    "print(f\"Total number of missing values in the array: {total_nas}\")\n"
   ]
  },
  {
   "cell_type": "markdown",
   "metadata": {},
   "source": [
    "Fit the model"
   ]
  },
  {
   "cell_type": "code",
   "execution_count": 13,
   "metadata": {},
   "outputs": [
    {
     "data": {
      "text/html": [
       "<style>#sk-container-id-1 {color: black;background-color: white;}#sk-container-id-1 pre{padding: 0;}#sk-container-id-1 div.sk-toggleable {background-color: white;}#sk-container-id-1 label.sk-toggleable__label {cursor: pointer;display: block;width: 100%;margin-bottom: 0;padding: 0.3em;box-sizing: border-box;text-align: center;}#sk-container-id-1 label.sk-toggleable__label-arrow:before {content: \"▸\";float: left;margin-right: 0.25em;color: #696969;}#sk-container-id-1 label.sk-toggleable__label-arrow:hover:before {color: black;}#sk-container-id-1 div.sk-estimator:hover label.sk-toggleable__label-arrow:before {color: black;}#sk-container-id-1 div.sk-toggleable__content {max-height: 0;max-width: 0;overflow: hidden;text-align: left;background-color: #f0f8ff;}#sk-container-id-1 div.sk-toggleable__content pre {margin: 0.2em;color: black;border-radius: 0.25em;background-color: #f0f8ff;}#sk-container-id-1 input.sk-toggleable__control:checked~div.sk-toggleable__content {max-height: 200px;max-width: 100%;overflow: auto;}#sk-container-id-1 input.sk-toggleable__control:checked~label.sk-toggleable__label-arrow:before {content: \"▾\";}#sk-container-id-1 div.sk-estimator input.sk-toggleable__control:checked~label.sk-toggleable__label {background-color: #d4ebff;}#sk-container-id-1 div.sk-label input.sk-toggleable__control:checked~label.sk-toggleable__label {background-color: #d4ebff;}#sk-container-id-1 input.sk-hidden--visually {border: 0;clip: rect(1px 1px 1px 1px);clip: rect(1px, 1px, 1px, 1px);height: 1px;margin: -1px;overflow: hidden;padding: 0;position: absolute;width: 1px;}#sk-container-id-1 div.sk-estimator {font-family: monospace;background-color: #f0f8ff;border: 1px dotted black;border-radius: 0.25em;box-sizing: border-box;margin-bottom: 0.5em;}#sk-container-id-1 div.sk-estimator:hover {background-color: #d4ebff;}#sk-container-id-1 div.sk-parallel-item::after {content: \"\";width: 100%;border-bottom: 1px solid gray;flex-grow: 1;}#sk-container-id-1 div.sk-label:hover label.sk-toggleable__label {background-color: #d4ebff;}#sk-container-id-1 div.sk-serial::before {content: \"\";position: absolute;border-left: 1px solid gray;box-sizing: border-box;top: 0;bottom: 0;left: 50%;z-index: 0;}#sk-container-id-1 div.sk-serial {display: flex;flex-direction: column;align-items: center;background-color: white;padding-right: 0.2em;padding-left: 0.2em;position: relative;}#sk-container-id-1 div.sk-item {position: relative;z-index: 1;}#sk-container-id-1 div.sk-parallel {display: flex;align-items: stretch;justify-content: center;background-color: white;position: relative;}#sk-container-id-1 div.sk-item::before, #sk-container-id-1 div.sk-parallel-item::before {content: \"\";position: absolute;border-left: 1px solid gray;box-sizing: border-box;top: 0;bottom: 0;left: 50%;z-index: -1;}#sk-container-id-1 div.sk-parallel-item {display: flex;flex-direction: column;z-index: 1;position: relative;background-color: white;}#sk-container-id-1 div.sk-parallel-item:first-child::after {align-self: flex-end;width: 50%;}#sk-container-id-1 div.sk-parallel-item:last-child::after {align-self: flex-start;width: 50%;}#sk-container-id-1 div.sk-parallel-item:only-child::after {width: 0;}#sk-container-id-1 div.sk-dashed-wrapped {border: 1px dashed gray;margin: 0 0.4em 0.5em 0.4em;box-sizing: border-box;padding-bottom: 0.4em;background-color: white;}#sk-container-id-1 div.sk-label label {font-family: monospace;font-weight: bold;display: inline-block;line-height: 1.2em;}#sk-container-id-1 div.sk-label-container {text-align: center;}#sk-container-id-1 div.sk-container {/* jupyter's `normalize.less` sets `[hidden] { display: none; }` but bootstrap.min.css set `[hidden] { display: none !important; }` so we also need the `!important` here to be able to override the default hidden behavior on the sphinx rendered scikit-learn.org. See: https://github.com/scikit-learn/scikit-learn/issues/21755 */display: inline-block !important;position: relative;}#sk-container-id-1 div.sk-text-repr-fallback {display: none;}</style><div id=\"sk-container-id-1\" class=\"sk-top-container\"><div class=\"sk-text-repr-fallback\"><pre>Ridge()</pre><b>In a Jupyter environment, please rerun this cell to show the HTML representation or trust the notebook. <br />On GitHub, the HTML representation is unable to render, please try loading this page with nbviewer.org.</b></div><div class=\"sk-container\" hidden><div class=\"sk-item\"><div class=\"sk-estimator sk-toggleable\"><input class=\"sk-toggleable__control sk-hidden--visually\" id=\"sk-estimator-id-1\" type=\"checkbox\" checked><label for=\"sk-estimator-id-1\" class=\"sk-toggleable__label sk-toggleable__label-arrow\">Ridge</label><div class=\"sk-toggleable__content\"><pre>Ridge()</pre></div></div></div></div></div>"
      ],
      "text/plain": [
       "Ridge()"
      ]
     },
     "execution_count": 13,
     "metadata": {},
     "output_type": "execute_result"
    }
   ],
   "source": [
    "ridge_model.fit(Xtrain_1, ytrain)\n",
    "\n"
   ]
  },
  {
   "cell_type": "markdown",
   "metadata": {},
   "source": [
    "Evaluation"
   ]
  },
  {
   "cell_type": "code",
   "execution_count": 15,
   "metadata": {},
   "outputs": [
    {
     "name": "stdout",
     "output_type": "stream",
     "text": [
      "Mean Squared Error: 35.688674850183666\n"
     ]
    }
   ],
   "source": [
    "ypred = ridge_model.predict(Xtest_1)  # Predict on the test data\n",
    "mse = mean_squared_error(ytest, ypred)  # Calculate the mean squared error\n",
    "print(f\"Mean Squared Error: {mse}\")"
   ]
  },
  {
   "cell_type": "markdown",
   "metadata": {},
   "source": [
    "Tuning"
   ]
  },
  {
   "cell_type": "code",
   "execution_count": 18,
   "metadata": {},
   "outputs": [
    {
     "name": "stdout",
     "output_type": "stream",
     "text": [
      "Best parameters: {'alpha': 100}\n"
     ]
    }
   ],
   "source": [
    "param_grid = {'alpha': [0.1, 1, 10, 100]}\n",
    "search = GridSearchCV(Ridge(), param_grid, cv=5)  # 5-fold cross-validation\n",
    "search.fit(Xtrain_1, ytrain)\n",
    "print(f\"Best parameters: {search.best_params_}\")\n"
   ]
  },
  {
   "cell_type": "markdown",
   "metadata": {},
   "source": [
    "Repeat the analysis with best params"
   ]
  },
  {
   "cell_type": "code",
   "execution_count": 19,
   "metadata": {},
   "outputs": [
    {
     "data": {
      "text/html": [
       "<style>#sk-container-id-2 {color: black;background-color: white;}#sk-container-id-2 pre{padding: 0;}#sk-container-id-2 div.sk-toggleable {background-color: white;}#sk-container-id-2 label.sk-toggleable__label {cursor: pointer;display: block;width: 100%;margin-bottom: 0;padding: 0.3em;box-sizing: border-box;text-align: center;}#sk-container-id-2 label.sk-toggleable__label-arrow:before {content: \"▸\";float: left;margin-right: 0.25em;color: #696969;}#sk-container-id-2 label.sk-toggleable__label-arrow:hover:before {color: black;}#sk-container-id-2 div.sk-estimator:hover label.sk-toggleable__label-arrow:before {color: black;}#sk-container-id-2 div.sk-toggleable__content {max-height: 0;max-width: 0;overflow: hidden;text-align: left;background-color: #f0f8ff;}#sk-container-id-2 div.sk-toggleable__content pre {margin: 0.2em;color: black;border-radius: 0.25em;background-color: #f0f8ff;}#sk-container-id-2 input.sk-toggleable__control:checked~div.sk-toggleable__content {max-height: 200px;max-width: 100%;overflow: auto;}#sk-container-id-2 input.sk-toggleable__control:checked~label.sk-toggleable__label-arrow:before {content: \"▾\";}#sk-container-id-2 div.sk-estimator input.sk-toggleable__control:checked~label.sk-toggleable__label {background-color: #d4ebff;}#sk-container-id-2 div.sk-label input.sk-toggleable__control:checked~label.sk-toggleable__label {background-color: #d4ebff;}#sk-container-id-2 input.sk-hidden--visually {border: 0;clip: rect(1px 1px 1px 1px);clip: rect(1px, 1px, 1px, 1px);height: 1px;margin: -1px;overflow: hidden;padding: 0;position: absolute;width: 1px;}#sk-container-id-2 div.sk-estimator {font-family: monospace;background-color: #f0f8ff;border: 1px dotted black;border-radius: 0.25em;box-sizing: border-box;margin-bottom: 0.5em;}#sk-container-id-2 div.sk-estimator:hover {background-color: #d4ebff;}#sk-container-id-2 div.sk-parallel-item::after {content: \"\";width: 100%;border-bottom: 1px solid gray;flex-grow: 1;}#sk-container-id-2 div.sk-label:hover label.sk-toggleable__label {background-color: #d4ebff;}#sk-container-id-2 div.sk-serial::before {content: \"\";position: absolute;border-left: 1px solid gray;box-sizing: border-box;top: 0;bottom: 0;left: 50%;z-index: 0;}#sk-container-id-2 div.sk-serial {display: flex;flex-direction: column;align-items: center;background-color: white;padding-right: 0.2em;padding-left: 0.2em;position: relative;}#sk-container-id-2 div.sk-item {position: relative;z-index: 1;}#sk-container-id-2 div.sk-parallel {display: flex;align-items: stretch;justify-content: center;background-color: white;position: relative;}#sk-container-id-2 div.sk-item::before, #sk-container-id-2 div.sk-parallel-item::before {content: \"\";position: absolute;border-left: 1px solid gray;box-sizing: border-box;top: 0;bottom: 0;left: 50%;z-index: -1;}#sk-container-id-2 div.sk-parallel-item {display: flex;flex-direction: column;z-index: 1;position: relative;background-color: white;}#sk-container-id-2 div.sk-parallel-item:first-child::after {align-self: flex-end;width: 50%;}#sk-container-id-2 div.sk-parallel-item:last-child::after {align-self: flex-start;width: 50%;}#sk-container-id-2 div.sk-parallel-item:only-child::after {width: 0;}#sk-container-id-2 div.sk-dashed-wrapped {border: 1px dashed gray;margin: 0 0.4em 0.5em 0.4em;box-sizing: border-box;padding-bottom: 0.4em;background-color: white;}#sk-container-id-2 div.sk-label label {font-family: monospace;font-weight: bold;display: inline-block;line-height: 1.2em;}#sk-container-id-2 div.sk-label-container {text-align: center;}#sk-container-id-2 div.sk-container {/* jupyter's `normalize.less` sets `[hidden] { display: none; }` but bootstrap.min.css set `[hidden] { display: none !important; }` so we also need the `!important` here to be able to override the default hidden behavior on the sphinx rendered scikit-learn.org. See: https://github.com/scikit-learn/scikit-learn/issues/21755 */display: inline-block !important;position: relative;}#sk-container-id-2 div.sk-text-repr-fallback {display: none;}</style><div id=\"sk-container-id-2\" class=\"sk-top-container\"><div class=\"sk-text-repr-fallback\"><pre>Ridge(alpha=100)</pre><b>In a Jupyter environment, please rerun this cell to show the HTML representation or trust the notebook. <br />On GitHub, the HTML representation is unable to render, please try loading this page with nbviewer.org.</b></div><div class=\"sk-container\" hidden><div class=\"sk-item\"><div class=\"sk-estimator sk-toggleable\"><input class=\"sk-toggleable__control sk-hidden--visually\" id=\"sk-estimator-id-2\" type=\"checkbox\" checked><label for=\"sk-estimator-id-2\" class=\"sk-toggleable__label sk-toggleable__label-arrow\">Ridge</label><div class=\"sk-toggleable__content\"><pre>Ridge(alpha=100)</pre></div></div></div></div></div>"
      ],
      "text/plain": [
       "Ridge(alpha=100)"
      ]
     },
     "execution_count": 19,
     "metadata": {},
     "output_type": "execute_result"
    }
   ],
   "source": [
    "# Initialize the Ridge Regression model with the best alpha\n",
    "ridge_model = Ridge(alpha=100)\n",
    "\n",
    "# Fit the model on the training data\n",
    "ridge_model.fit(Xtrain_1, ytrain) "
   ]
  },
  {
   "cell_type": "code",
   "execution_count": 20,
   "metadata": {},
   "outputs": [
    {
     "name": "stdout",
     "output_type": "stream",
     "text": [
      "Mean Squared Error: 33.195137652639865\n"
     ]
    }
   ],
   "source": [
    "ypred = ridge_model.predict(Xtest_1)  # Predict on the test data\n",
    "mse = mean_squared_error(ytest, ypred)  # Calculate the mean squared error\n",
    "print(f\"Mean Squared Error: {mse}\")"
   ]
  },
  {
   "cell_type": "markdown",
   "metadata": {},
   "source": [
    "To calculate the final Mean Squared Error (MSE) on the test set using the best alpha value identified from the validation set, we follow the steps ahead. This will give us an estimate of how well your Ridge Regression model is expected to perform on unseen data.\n",
    "\n",
    "Combine Training and Validation Sets For the final model, you'll use both the training and validation data to train it, maximizing the amount of data the model can learn from."
   ]
  },
  {
   "cell_type": "markdown",
   "metadata": {},
   "source": [
    "Evaluation"
   ]
  },
  {
   "cell_type": "markdown",
   "metadata": {},
   "source": [
    "To calculate the final Mean Squared Error (MSE) on the test set using the best alpha value identified from the validation set, we follow the steps ahead. This will give us an estimate of how well your Ridge Regression model is expected to perform on unseen data.\n",
    "\n",
    "Combine Training and Validation Sets For the final model, you'll use both the training and validation data to train it, maximizing the amount of data the model can learn from."
   ]
  },
  {
   "cell_type": "markdown",
   "metadata": {},
   "source": [
    "The data has been imputed and scaled already. "
   ]
  },
  {
   "cell_type": "code",
   "execution_count": null,
   "metadata": {},
   "outputs": [],
   "source": [
    "\n",
    "Xtest_KNN = pd.read_csv('prepped_data/Xtest_KNN.csv')\n",
    "Xtest = pd.read_csv('prepped_data/Xtest.csv')\n",
    "Xtrain_KNN = pd.read_csv('prepped_data/Xtrain_KNN.csv')\n",
    "Xtrain = pd.read_csv('prepped_data/Xtrain.csv')\n",
    "\n",
    "# Load testing data\n",
    "ytest = pd.read_csv('prepped_data/ytest.csv')\n",
    "ytrain = pd.read_csv('prepped_data/ytrain.csv')    \n"
   ]
  },
  {
   "cell_type": "code",
   "execution_count": null,
   "metadata": {},
   "outputs": [
    {
     "data": {
      "text/html": [
       "<div>\n",
       "<style scoped>\n",
       "    .dataframe tbody tr th:only-of-type {\n",
       "        vertical-align: middle;\n",
       "    }\n",
       "\n",
       "    .dataframe tbody tr th {\n",
       "        vertical-align: top;\n",
       "    }\n",
       "\n",
       "    .dataframe thead th {\n",
       "        text-align: right;\n",
       "    }\n",
       "</style>\n",
       "<table border=\"1\" class=\"dataframe\">\n",
       "  <thead>\n",
       "    <tr style=\"text-align: right;\">\n",
       "      <th></th>\n",
       "      <th>-1.265442357359503500e+00</th>\n",
       "      <th>1.082513882083443235e+00</th>\n",
       "      <th>2.118512881063047415e-01</th>\n",
       "      <th>-6.763974937517387431e-01</th>\n",
       "      <th>2.378892478390954579e-01</th>\n",
       "      <th>-1.551355423057182437e-01</th>\n",
       "      <th>5.852262044017836340e-01</th>\n",
       "      <th>-1.468188823401546550e+00</th>\n",
       "      <th>-2.070769286339330106e-01</th>\n",
       "      <th>8.983606759475268877e-01</th>\n",
       "      <th>...</th>\n",
       "      <th>9.054891287401285738e-02</th>\n",
       "      <th>4.528703334896053700e-01</th>\n",
       "      <th>-2.998185995893082323e-01</th>\n",
       "      <th>-5.009153328470787869e-01</th>\n",
       "      <th>1.075787876666744580e+00</th>\n",
       "      <th>-2.030716628485772501e-01</th>\n",
       "      <th>-1.281888430278194324e+00</th>\n",
       "      <th>-6.510714298405980183e-17</th>\n",
       "      <th>-9.035034288202553610e-01</th>\n",
       "      <th>7.321839844486313087e-01</th>\n",
       "    </tr>\n",
       "  </thead>\n",
       "  <tbody>\n",
       "    <tr>\n",
       "      <th>0</th>\n",
       "      <td>1.349344</td>\n",
       "      <td>0.051100</td>\n",
       "      <td>0.741105</td>\n",
       "      <td>-0.676397</td>\n",
       "      <td>0.237889</td>\n",
       "      <td>-0.155136</td>\n",
       "      <td>0.585226</td>\n",
       "      <td>-1.468189</td>\n",
       "      <td>-0.207077</td>\n",
       "      <td>1.124375</td>\n",
       "      <td>...</td>\n",
       "      <td>0.237822</td>\n",
       "      <td>0.725261</td>\n",
       "      <td>-0.255249</td>\n",
       "      <td>-0.630528</td>\n",
       "      <td>1.115145</td>\n",
       "      <td>-0.180724</td>\n",
       "      <td>-1.108769</td>\n",
       "      <td>-6.510714e-17</td>\n",
       "      <td>-0.749681</td>\n",
       "      <td>-1.247859e+00</td>\n",
       "    </tr>\n",
       "    <tr>\n",
       "      <th>1</th>\n",
       "      <td>-0.635895</td>\n",
       "      <td>-0.543513</td>\n",
       "      <td>0.491428</td>\n",
       "      <td>-0.676397</td>\n",
       "      <td>0.237889</td>\n",
       "      <td>-0.155136</td>\n",
       "      <td>0.585226</td>\n",
       "      <td>-1.468189</td>\n",
       "      <td>-0.207077</td>\n",
       "      <td>0.785354</td>\n",
       "      <td>...</td>\n",
       "      <td>0.700680</td>\n",
       "      <td>-0.154660</td>\n",
       "      <td>-0.359245</td>\n",
       "      <td>-0.006269</td>\n",
       "      <td>0.000000</td>\n",
       "      <td>-0.327745</td>\n",
       "      <td>-1.230739</td>\n",
       "      <td>-6.510714e-17</td>\n",
       "      <td>-0.852229</td>\n",
       "      <td>-1.735227e-01</td>\n",
       "    </tr>\n",
       "    <tr>\n",
       "      <th>2</th>\n",
       "      <td>1.425955</td>\n",
       "      <td>-0.173839</td>\n",
       "      <td>0.595666</td>\n",
       "      <td>-0.676397</td>\n",
       "      <td>0.237889</td>\n",
       "      <td>-0.155136</td>\n",
       "      <td>0.585226</td>\n",
       "      <td>-1.468189</td>\n",
       "      <td>-0.207077</td>\n",
       "      <td>0.672347</td>\n",
       "      <td>...</td>\n",
       "      <td>0.485435</td>\n",
       "      <td>0.571239</td>\n",
       "      <td>-0.304771</td>\n",
       "      <td>-0.183495</td>\n",
       "      <td>1.459515</td>\n",
       "      <td>-0.288932</td>\n",
       "      <td>-1.051718</td>\n",
       "      <td>-6.510714e-17</td>\n",
       "      <td>-0.882139</td>\n",
       "      <td>-2.211199e-01</td>\n",
       "    </tr>\n",
       "    <tr>\n",
       "      <th>3</th>\n",
       "      <td>1.246085</td>\n",
       "      <td>-0.612713</td>\n",
       "      <td>0.629871</td>\n",
       "      <td>-0.676397</td>\n",
       "      <td>0.237889</td>\n",
       "      <td>-0.155136</td>\n",
       "      <td>0.585226</td>\n",
       "      <td>-1.468189</td>\n",
       "      <td>-0.207077</td>\n",
       "      <td>1.124375</td>\n",
       "      <td>...</td>\n",
       "      <td>0.237822</td>\n",
       "      <td>0.725261</td>\n",
       "      <td>-0.255249</td>\n",
       "      <td>-0.630528</td>\n",
       "      <td>1.115145</td>\n",
       "      <td>-0.180724</td>\n",
       "      <td>-1.108769</td>\n",
       "      <td>-6.510714e-17</td>\n",
       "      <td>-0.749681</td>\n",
       "      <td>1.866936e-17</td>\n",
       "    </tr>\n",
       "    <tr>\n",
       "      <th>4</th>\n",
       "      <td>1.725740</td>\n",
       "      <td>-0.565518</td>\n",
       "      <td>0.636517</td>\n",
       "      <td>-0.676397</td>\n",
       "      <td>0.237889</td>\n",
       "      <td>-0.155136</td>\n",
       "      <td>0.585226</td>\n",
       "      <td>-1.468189</td>\n",
       "      <td>-0.207077</td>\n",
       "      <td>1.124375</td>\n",
       "      <td>...</td>\n",
       "      <td>0.237822</td>\n",
       "      <td>0.725261</td>\n",
       "      <td>-0.255249</td>\n",
       "      <td>-0.630528</td>\n",
       "      <td>1.115145</td>\n",
       "      <td>-0.180724</td>\n",
       "      <td>-1.108769</td>\n",
       "      <td>-6.510714e-17</td>\n",
       "      <td>-0.749681</td>\n",
       "      <td>-9.581964e-01</td>\n",
       "    </tr>\n",
       "  </tbody>\n",
       "</table>\n",
       "<p>5 rows × 84 columns</p>\n",
       "</div>"
      ],
      "text/plain": [
       "   -1.265442357359503500e+00  1.082513882083443235e+00  \\\n",
       "0                   1.349344                  0.051100   \n",
       "1                  -0.635895                 -0.543513   \n",
       "2                   1.425955                 -0.173839   \n",
       "3                   1.246085                 -0.612713   \n",
       "4                   1.725740                 -0.565518   \n",
       "\n",
       "   2.118512881063047415e-01  -6.763974937517387431e-01  \\\n",
       "0                  0.741105                  -0.676397   \n",
       "1                  0.491428                  -0.676397   \n",
       "2                  0.595666                  -0.676397   \n",
       "3                  0.629871                  -0.676397   \n",
       "4                  0.636517                  -0.676397   \n",
       "\n",
       "   2.378892478390954579e-01  -1.551355423057182437e-01  \\\n",
       "0                  0.237889                  -0.155136   \n",
       "1                  0.237889                  -0.155136   \n",
       "2                  0.237889                  -0.155136   \n",
       "3                  0.237889                  -0.155136   \n",
       "4                  0.237889                  -0.155136   \n",
       "\n",
       "   5.852262044017836340e-01  -1.468188823401546550e+00  \\\n",
       "0                  0.585226                  -1.468189   \n",
       "1                  0.585226                  -1.468189   \n",
       "2                  0.585226                  -1.468189   \n",
       "3                  0.585226                  -1.468189   \n",
       "4                  0.585226                  -1.468189   \n",
       "\n",
       "   -2.070769286339330106e-01  8.983606759475268877e-01  ...  \\\n",
       "0                  -0.207077                  1.124375  ...   \n",
       "1                  -0.207077                  0.785354  ...   \n",
       "2                  -0.207077                  0.672347  ...   \n",
       "3                  -0.207077                  1.124375  ...   \n",
       "4                  -0.207077                  1.124375  ...   \n",
       "\n",
       "   9.054891287401285738e-02  4.528703334896053700e-01  \\\n",
       "0                  0.237822                  0.725261   \n",
       "1                  0.700680                 -0.154660   \n",
       "2                  0.485435                  0.571239   \n",
       "3                  0.237822                  0.725261   \n",
       "4                  0.237822                  0.725261   \n",
       "\n",
       "   -2.998185995893082323e-01  -5.009153328470787869e-01  \\\n",
       "0                  -0.255249                  -0.630528   \n",
       "1                  -0.359245                  -0.006269   \n",
       "2                  -0.304771                  -0.183495   \n",
       "3                  -0.255249                  -0.630528   \n",
       "4                  -0.255249                  -0.630528   \n",
       "\n",
       "   1.075787876666744580e+00  -2.030716628485772501e-01  \\\n",
       "0                  1.115145                  -0.180724   \n",
       "1                  0.000000                  -0.327745   \n",
       "2                  1.459515                  -0.288932   \n",
       "3                  1.115145                  -0.180724   \n",
       "4                  1.115145                  -0.180724   \n",
       "\n",
       "   -1.281888430278194324e+00  -6.510714298405980183e-17  \\\n",
       "0                  -1.108769              -6.510714e-17   \n",
       "1                  -1.230739              -6.510714e-17   \n",
       "2                  -1.051718              -6.510714e-17   \n",
       "3                  -1.108769              -6.510714e-17   \n",
       "4                  -1.108769              -6.510714e-17   \n",
       "\n",
       "   -9.035034288202553610e-01  7.321839844486313087e-01  \n",
       "0                  -0.749681             -1.247859e+00  \n",
       "1                  -0.852229             -1.735227e-01  \n",
       "2                  -0.882139             -2.211199e-01  \n",
       "3                  -0.749681              1.866936e-17  \n",
       "4                  -0.749681             -9.581964e-01  \n",
       "\n",
       "[5 rows x 84 columns]"
      ]
     },
     "execution_count": 35,
     "metadata": {},
     "output_type": "execute_result"
    }
   ],
   "source": [
    "Xtest.head()\n",
    "\n",
    "\n",
    "\n"
   ]
  },
  {
   "cell_type": "markdown",
   "metadata": {},
   "source": [
    "F"
   ]
  },
  {
   "cell_type": "code",
   "execution_count": null,
   "metadata": {},
   "outputs": [
    {
     "name": "stdout",
     "output_type": "stream",
     "text": [
      "34922\n",
      "8271\n",
      "8271\n",
      "34922\n",
      "34922\n",
      "34922\n"
     ]
    }
   ],
   "source": [
    "# Assuming 'df' is your DataFrame\n",
    "nan_df = ytest.isna().sum()\n",
    "#print(nan_df)\n",
    "\n",
    "print(len(ytrain))\n",
    "\n",
    "# print(len(ytest))\n",
    "\n",
    "print(len(Xtest))\n",
    "print(len(Xtest_KNN))\n",
    "\n",
    "\n",
    "\n",
    "print(len(Xtrain))\n",
    "print(len(ytrain))\n",
    "print(len(Xtrain_KNN))\n"
   ]
  },
  {
   "cell_type": "code",
   "execution_count": null,
   "metadata": {},
   "outputs": [],
   "source": [
    "\n",
    "Xtrain_1, Xval, ytrain_1, yval = train_test_split(Xtrain, ytrain, test_size = 0.2, random_state = 123)\n",
    "\n"
   ]
  },
  {
   "cell_type": "markdown",
   "metadata": {},
   "source": [
    "\n",
    "## Train the Ridge Regression\n",
    "\n",
    "Here we will configure and train our Ridge Regression. "
   ]
  },
  {
   "cell_type": "code",
   "execution_count": null,
   "metadata": {},
   "outputs": [
    {
     "data": {
      "text/html": [
       "<style>#sk-container-id-2 {color: black;background-color: white;}#sk-container-id-2 pre{padding: 0;}#sk-container-id-2 div.sk-toggleable {background-color: white;}#sk-container-id-2 label.sk-toggleable__label {cursor: pointer;display: block;width: 100%;margin-bottom: 0;padding: 0.3em;box-sizing: border-box;text-align: center;}#sk-container-id-2 label.sk-toggleable__label-arrow:before {content: \"▸\";float: left;margin-right: 0.25em;color: #696969;}#sk-container-id-2 label.sk-toggleable__label-arrow:hover:before {color: black;}#sk-container-id-2 div.sk-estimator:hover label.sk-toggleable__label-arrow:before {color: black;}#sk-container-id-2 div.sk-toggleable__content {max-height: 0;max-width: 0;overflow: hidden;text-align: left;background-color: #f0f8ff;}#sk-container-id-2 div.sk-toggleable__content pre {margin: 0.2em;color: black;border-radius: 0.25em;background-color: #f0f8ff;}#sk-container-id-2 input.sk-toggleable__control:checked~div.sk-toggleable__content {max-height: 200px;max-width: 100%;overflow: auto;}#sk-container-id-2 input.sk-toggleable__control:checked~label.sk-toggleable__label-arrow:before {content: \"▾\";}#sk-container-id-2 div.sk-estimator input.sk-toggleable__control:checked~label.sk-toggleable__label {background-color: #d4ebff;}#sk-container-id-2 div.sk-label input.sk-toggleable__control:checked~label.sk-toggleable__label {background-color: #d4ebff;}#sk-container-id-2 input.sk-hidden--visually {border: 0;clip: rect(1px 1px 1px 1px);clip: rect(1px, 1px, 1px, 1px);height: 1px;margin: -1px;overflow: hidden;padding: 0;position: absolute;width: 1px;}#sk-container-id-2 div.sk-estimator {font-family: monospace;background-color: #f0f8ff;border: 1px dotted black;border-radius: 0.25em;box-sizing: border-box;margin-bottom: 0.5em;}#sk-container-id-2 div.sk-estimator:hover {background-color: #d4ebff;}#sk-container-id-2 div.sk-parallel-item::after {content: \"\";width: 100%;border-bottom: 1px solid gray;flex-grow: 1;}#sk-container-id-2 div.sk-label:hover label.sk-toggleable__label {background-color: #d4ebff;}#sk-container-id-2 div.sk-serial::before {content: \"\";position: absolute;border-left: 1px solid gray;box-sizing: border-box;top: 0;bottom: 0;left: 50%;z-index: 0;}#sk-container-id-2 div.sk-serial {display: flex;flex-direction: column;align-items: center;background-color: white;padding-right: 0.2em;padding-left: 0.2em;position: relative;}#sk-container-id-2 div.sk-item {position: relative;z-index: 1;}#sk-container-id-2 div.sk-parallel {display: flex;align-items: stretch;justify-content: center;background-color: white;position: relative;}#sk-container-id-2 div.sk-item::before, #sk-container-id-2 div.sk-parallel-item::before {content: \"\";position: absolute;border-left: 1px solid gray;box-sizing: border-box;top: 0;bottom: 0;left: 50%;z-index: -1;}#sk-container-id-2 div.sk-parallel-item {display: flex;flex-direction: column;z-index: 1;position: relative;background-color: white;}#sk-container-id-2 div.sk-parallel-item:first-child::after {align-self: flex-end;width: 50%;}#sk-container-id-2 div.sk-parallel-item:last-child::after {align-self: flex-start;width: 50%;}#sk-container-id-2 div.sk-parallel-item:only-child::after {width: 0;}#sk-container-id-2 div.sk-dashed-wrapped {border: 1px dashed gray;margin: 0 0.4em 0.5em 0.4em;box-sizing: border-box;padding-bottom: 0.4em;background-color: white;}#sk-container-id-2 div.sk-label label {font-family: monospace;font-weight: bold;display: inline-block;line-height: 1.2em;}#sk-container-id-2 div.sk-label-container {text-align: center;}#sk-container-id-2 div.sk-container {/* jupyter's `normalize.less` sets `[hidden] { display: none; }` but bootstrap.min.css set `[hidden] { display: none !important; }` so we also need the `!important` here to be able to override the default hidden behavior on the sphinx rendered scikit-learn.org. See: https://github.com/scikit-learn/scikit-learn/issues/21755 */display: inline-block !important;position: relative;}#sk-container-id-2 div.sk-text-repr-fallback {display: none;}</style><div id=\"sk-container-id-2\" class=\"sk-top-container\"><div class=\"sk-text-repr-fallback\"><pre>Ridge()</pre><b>In a Jupyter environment, please rerun this cell to show the HTML representation or trust the notebook. <br />On GitHub, the HTML representation is unable to render, please try loading this page with nbviewer.org.</b></div><div class=\"sk-container\" hidden><div class=\"sk-item\"><div class=\"sk-estimator sk-toggleable\"><input class=\"sk-toggleable__control sk-hidden--visually\" id=\"sk-estimator-id-2\" type=\"checkbox\" checked><label for=\"sk-estimator-id-2\" class=\"sk-toggleable__label sk-toggleable__label-arrow\">Ridge</label><div class=\"sk-toggleable__content\"><pre>Ridge()</pre></div></div></div></div></div>"
      ],
      "text/plain": [
       "Ridge()"
      ]
     },
     "execution_count": 10,
     "metadata": {},
     "output_type": "execute_result"
    }
   ],
   "source": [
    "ridge_model = Ridge(alpha=1.0) \n",
    "ridge_model.fit(Xtrain, ytrain)\n"
   ]
  },
  {
   "cell_type": "markdown",
   "metadata": {},
   "source": [
    "Define a Range of Alpha Values"
   ]
  },
  {
   "cell_type": "code",
   "execution_count": null,
   "metadata": {},
   "outputs": [
    {
     "name": "stdout",
     "output_type": "stream",
     "text": [
      "[1.00000000e-04 1.20450354e-04 1.45082878e-04 1.74752840e-04\n",
      " 2.10490414e-04 2.53536449e-04 3.05385551e-04 3.67837977e-04\n",
      " 4.43062146e-04 5.33669923e-04 6.42807312e-04 7.74263683e-04\n",
      " 9.32603347e-04 1.12332403e-03 1.35304777e-03 1.62975083e-03\n",
      " 1.96304065e-03 2.36448941e-03 2.84803587e-03 3.43046929e-03\n",
      " 4.13201240e-03 4.97702356e-03 5.99484250e-03 7.22080902e-03\n",
      " 8.69749003e-03 1.04761575e-02 1.26185688e-02 1.51991108e-02\n",
      " 1.83073828e-02 2.20513074e-02 2.65608778e-02 3.19926714e-02\n",
      " 3.85352859e-02 4.64158883e-02 5.59081018e-02 6.73415066e-02\n",
      " 8.11130831e-02 9.77009957e-02 1.17681195e-01 1.41747416e-01\n",
      " 1.70735265e-01 2.05651231e-01 2.47707636e-01 2.98364724e-01\n",
      " 3.59381366e-01 4.32876128e-01 5.21400829e-01 6.28029144e-01\n",
      " 7.56463328e-01 9.11162756e-01 1.09749877e+00 1.32194115e+00\n",
      " 1.59228279e+00 1.91791026e+00 2.31012970e+00 2.78255940e+00\n",
      " 3.35160265e+00 4.03701726e+00 4.86260158e+00 5.85702082e+00\n",
      " 7.05480231e+00 8.49753436e+00 1.02353102e+01 1.23284674e+01\n",
      " 1.48496826e+01 1.78864953e+01 2.15443469e+01 2.59502421e+01\n",
      " 3.12571585e+01 3.76493581e+01 4.53487851e+01 5.46227722e+01\n",
      " 6.57933225e+01 7.92482898e+01 9.54548457e+01 1.14975700e+02\n",
      " 1.38488637e+02 1.66810054e+02 2.00923300e+02 2.42012826e+02\n",
      " 2.91505306e+02 3.51119173e+02 4.22924287e+02 5.09413801e+02\n",
      " 6.13590727e+02 7.39072203e+02 8.90215085e+02 1.07226722e+03\n",
      " 1.29154967e+03 1.55567614e+03 1.87381742e+03 2.25701972e+03\n",
      " 2.71858824e+03 3.27454916e+03 3.94420606e+03 4.75081016e+03\n",
      " 5.72236766e+03 6.89261210e+03 8.30217568e+03 1.00000000e+04]\n"
     ]
    }
   ],
   "source": [
    "alphas = np.logspace(-4, 4, 100)\n",
    "print(alphas)"
   ]
  },
  {
   "cell_type": "markdown",
   "metadata": {},
   "source": [
    "Initialize Lists of alpha values and mse values to Store Results:"
   ]
  },
  {
   "cell_type": "code",
   "execution_count": null,
   "metadata": {},
   "outputs": [],
   "source": [
    "alpha_values = []\n",
    "mse_values = []"
   ]
  },
  {
   "cell_type": "markdown",
   "metadata": {},
   "source": [
    "Loop Over Alpha Values, Fit the Model, and Record MSE. For each alpha value, fit a Ridge Regression model and evaluate its performance on the validation set."
   ]
  },
  {
   "cell_type": "code",
   "execution_count": null,
   "metadata": {},
   "outputs": [],
   "source": [
    "for alpha in alphas:\n",
    "    model = Ridge(alpha=alpha)\n",
    "    model.fit(Xtrain_1, ytrain_1)  # Train the model\n",
    "    y_pred = model.predict(Xval)  # Predict on validation set\n",
    "    mse = mean_squared_error(yval, y_pred)  # Calculate MSE\n",
    "    \n",
    "    alpha_values.append(alpha)  # Store alpha\n",
    "    mse_values.append(mse)  # Store MSE"
   ]
  },
  {
   "cell_type": "markdown",
   "metadata": {},
   "source": [
    "Identify the Best Alpha and Its Corresponding MSE\n",
    "\n",
    "Find the alpha value that results in the lowest MSE."
   ]
  },
  {
   "cell_type": "code",
   "execution_count": null,
   "metadata": {},
   "outputs": [
    {
     "name": "stdout",
     "output_type": "stream",
     "text": [
      "Best Alpha: 2257.0197196339213\n",
      "Lowest MSE: 35.204926351370126\n"
     ]
    }
   ],
   "source": [
    "best_alpha = alpha_values[np.argmin(mse_values)]\n",
    "best_mse = min(mse_values)\n",
    "print(f\"Best Alpha: {best_alpha}\")\n",
    "print(f\"Lowest MSE: {best_mse}\")"
   ]
  },
  {
   "cell_type": "markdown",
   "metadata": {},
   "source": [
    "Plot MSE vs. Alpha Create a plot to visualize how MSE changes with different alpha values."
   ]
  },
  {
   "cell_type": "code",
   "execution_count": null,
   "metadata": {},
   "outputs": [
    {
     "data": {
      "image/png": "[encoded data removed]",
      "text/plain": [
       "<Figure size 1000x600 with 1 Axes>"
      ]
     },
     "metadata": {},
     "output_type": "display_data"
    }
   ],
   "source": [
    "plt.figure(figsize=(10, 6))\n",
    "plt.semilogx(alpha_values, mse_values, marker='o', linestyle='-', color='b')\n",
    "plt.xlabel('Alpha')\n",
    "plt.ylabel('Mean Squared Error (MSE)')\n",
    "plt.title('MSE vs. Alpha for Ridge Regression')\n",
    "plt.grid(True)\n",
    "plt.show()"
   ]
  },
  {
   "cell_type": "markdown",
   "metadata": {},
   "source": [
    "To calculate the final Mean Squared Error (MSE) on the test set using the best alpha value identified from the validation set, we follow the steps ahead. This will give us an estimate of how well your Ridge Regression model is expected to perform on unseen data.\n",
    "\n",
    "Combine Training and Validation Sets For the final model, you'll use both the training and validation data to train it, maximizing the amount of data the model can learn from."
   ]
  },
  {
   "cell_type": "code",
   "execution_count": null,
   "metadata": {},
   "outputs": [],
   "source": [
    "# Combine the training and validation sets\n",
    "X_train_val = np.vstack((Xtrain_1, Xval))\n",
    "y_train_val = np.concatenate((ytrain_1, yval))"
   ]
  },
  {
   "cell_type": "markdown",
   "metadata": {},
   "source": [
    "Train the Final Model on the Combined Data Using the best alpha value found, train the Ridge Regression model on the combined training and validation data."
   ]
  },
  {
   "cell_type": "code",
   "execution_count": null,
   "metadata": {},
   "outputs": [
    {
     "data": {
      "text/html": [
       "<style>#sk-container-id-3 {color: black;background-color: white;}#sk-container-id-3 pre{padding: 0;}#sk-container-id-3 div.sk-toggleable {background-color: white;}#sk-container-id-3 label.sk-toggleable__label {cursor: pointer;display: block;width: 100%;margin-bottom: 0;padding: 0.3em;box-sizing: border-box;text-align: center;}#sk-container-id-3 label.sk-toggleable__label-arrow:before {content: \"▸\";float: left;margin-right: 0.25em;color: #696969;}#sk-container-id-3 label.sk-toggleable__label-arrow:hover:before {color: black;}#sk-container-id-3 div.sk-estimator:hover label.sk-toggleable__label-arrow:before {color: black;}#sk-container-id-3 div.sk-toggleable__content {max-height: 0;max-width: 0;overflow: hidden;text-align: left;background-color: #f0f8ff;}#sk-container-id-3 div.sk-toggleable__content pre {margin: 0.2em;color: black;border-radius: 0.25em;background-color: #f0f8ff;}#sk-container-id-3 input.sk-toggleable__control:checked~div.sk-toggleable__content {max-height: 200px;max-width: 100%;overflow: auto;}#sk-container-id-3 input.sk-toggleable__control:checked~label.sk-toggleable__label-arrow:before {content: \"▾\";}#sk-container-id-3 div.sk-estimator input.sk-toggleable__control:checked~label.sk-toggleable__label {background-color: #d4ebff;}#sk-container-id-3 div.sk-label input.sk-toggleable__control:checked~label.sk-toggleable__label {background-color: #d4ebff;}#sk-container-id-3 input.sk-hidden--visually {border: 0;clip: rect(1px 1px 1px 1px);clip: rect(1px, 1px, 1px, 1px);height: 1px;margin: -1px;overflow: hidden;padding: 0;position: absolute;width: 1px;}#sk-container-id-3 div.sk-estimator {font-family: monospace;background-color: #f0f8ff;border: 1px dotted black;border-radius: 0.25em;box-sizing: border-box;margin-bottom: 0.5em;}#sk-container-id-3 div.sk-estimator:hover {background-color: #d4ebff;}#sk-container-id-3 div.sk-parallel-item::after {content: \"\";width: 100%;border-bottom: 1px solid gray;flex-grow: 1;}#sk-container-id-3 div.sk-label:hover label.sk-toggleable__label {background-color: #d4ebff;}#sk-container-id-3 div.sk-serial::before {content: \"\";position: absolute;border-left: 1px solid gray;box-sizing: border-box;top: 0;bottom: 0;left: 50%;z-index: 0;}#sk-container-id-3 div.sk-serial {display: flex;flex-direction: column;align-items: center;background-color: white;padding-right: 0.2em;padding-left: 0.2em;position: relative;}#sk-container-id-3 div.sk-item {position: relative;z-index: 1;}#sk-container-id-3 div.sk-parallel {display: flex;align-items: stretch;justify-content: center;background-color: white;position: relative;}#sk-container-id-3 div.sk-item::before, #sk-container-id-3 div.sk-parallel-item::before {content: \"\";position: absolute;border-left: 1px solid gray;box-sizing: border-box;top: 0;bottom: 0;left: 50%;z-index: -1;}#sk-container-id-3 div.sk-parallel-item {display: flex;flex-direction: column;z-index: 1;position: relative;background-color: white;}#sk-container-id-3 div.sk-parallel-item:first-child::after {align-self: flex-end;width: 50%;}#sk-container-id-3 div.sk-parallel-item:last-child::after {align-self: flex-start;width: 50%;}#sk-container-id-3 div.sk-parallel-item:only-child::after {width: 0;}#sk-container-id-3 div.sk-dashed-wrapped {border: 1px dashed gray;margin: 0 0.4em 0.5em 0.4em;box-sizing: border-box;padding-bottom: 0.4em;background-color: white;}#sk-container-id-3 div.sk-label label {font-family: monospace;font-weight: bold;display: inline-block;line-height: 1.2em;}#sk-container-id-3 div.sk-label-container {text-align: center;}#sk-container-id-3 div.sk-container {/* jupyter's `normalize.less` sets `[hidden] { display: none; }` but bootstrap.min.css set `[hidden] { display: none !important; }` so we also need the `!important` here to be able to override the default hidden behavior on the sphinx rendered scikit-learn.org. See: https://github.com/scikit-learn/scikit-learn/issues/21755 */display: inline-block !important;position: relative;}#sk-container-id-3 div.sk-text-repr-fallback {display: none;}</style><div id=\"sk-container-id-3\" class=\"sk-top-container\"><div class=\"sk-text-repr-fallback\"><pre>Ridge(alpha=2257.0197196339213)</pre><b>In a Jupyter environment, please rerun this cell to show the HTML representation or trust the notebook. <br />On GitHub, the HTML representation is unable to render, please try loading this page with nbviewer.org.</b></div><div class=\"sk-container\" hidden><div class=\"sk-item\"><div class=\"sk-estimator sk-toggleable\"><input class=\"sk-toggleable__control sk-hidden--visually\" id=\"sk-estimator-id-3\" type=\"checkbox\" checked><label for=\"sk-estimator-id-3\" class=\"sk-toggleable__label sk-toggleable__label-arrow\">Ridge</label><div class=\"sk-toggleable__content\"><pre>Ridge(alpha=2257.0197196339213)</pre></div></div></div></div></div>"
      ],
      "text/plain": [
       "Ridge(alpha=2257.0197196339213)"
      ]
     },
     "execution_count": 20,
     "metadata": {},
     "output_type": "execute_result"
    }
   ],
   "source": [
    "final_model = Ridge(alpha=best_alpha)\n",
    "final_model.fit(X_train_val, y_train_val)"
   ]
  },
  {
   "cell_type": "markdown",
   "metadata": {},
   "source": [
    "Make Predictions on the Test Set and Calculate MSE.\n",
    "\n",
    "Finally, predict on the test set using the final model and calculate the Mean Squared Error."
   ]
  },
  {
   "cell_type": "code",
   "execution_count": null,
   "metadata": {},
   "outputs": [
    {
     "name": "stdout",
     "output_type": "stream",
     "text": [
      "Training MSE is: 35.204926351370126\n",
      "Final Test MSE: 30.493329281334677\n"
     ]
    },
    {
     "name": "stderr",
     "output_type": "stream",
     "text": [
      "c:\\Users\\Giulia Maria\\miniconda3\\envs\\ML\\Lib\\site-packages\\sklearn\\base.py:432: UserWarning: X has feature names, but Ridge was fitted without feature names\n",
      "  warnings.warn(\n"
     ]
    }
   ],
   "source": [
    "y_test_pred_ridge = final_model.predict(Xtest)  # Predict on the test set\n",
    "final_test_mse_ridge = mean_squared_error(ytest, y_test_pred_ridge)  # Calculate MSE on the test set\n",
    "print(f\"Training MSE is: {best_mse}\") # the mse that you get with the best alpha.\n",
    "print(f\"Final Test MSE: {final_test_mse_ridge}\")"
   ]
  },
  {
   "cell_type": "markdown",
   "metadata": {},
   "source": [
    "# Lasso"
   ]
  },
  {
   "cell_type": "code",
   "execution_count": null,
   "metadata": {},
   "outputs": [],
   "source": [
    "alphas = np.logspace(-4, 4, 100)"
   ]
  },
  {
   "cell_type": "code",
   "execution_count": null,
   "metadata": {},
   "outputs": [
    {
     "name": "stderr",
     "output_type": "stream",
     "text": [
      "c:\\Users\\Giulia Maria\\miniconda3\\envs\\ML\\Lib\\site-packages\\sklearn\\linear_model\\_coordinate_descent.py:631: ConvergenceWarning: Objective did not converge. You might want to increase the number of iterations, check the scale of the features or consider increasing regularisation. Duality gap: 7.306e+05, tolerance: 2.289e+02\n",
      "  model = cd_fast.enet_coordinate_descent(\n",
      "c:\\Users\\Giulia Maria\\miniconda3\\envs\\ML\\Lib\\site-packages\\sklearn\\linear_model\\_coordinate_descent.py:631: ConvergenceWarning: Objective did not converge. You might want to increase the number of iterations, check the scale of the features or consider increasing regularisation. Duality gap: 7.220e+05, tolerance: 2.289e+02\n",
      "  model = cd_fast.enet_coordinate_descent(\n",
      "c:\\Users\\Giulia Maria\\miniconda3\\envs\\ML\\Lib\\site-packages\\sklearn\\linear_model\\_coordinate_descent.py:631: ConvergenceWarning: Objective did not converge. You might want to increase the number of iterations, check the scale of the features or consider increasing regularisation. Duality gap: 7.118e+05, tolerance: 2.289e+02\n",
      "  model = cd_fast.enet_coordinate_descent(\n",
      "c:\\Users\\Giulia Maria\\miniconda3\\envs\\ML\\Lib\\site-packages\\sklearn\\linear_model\\_coordinate_descent.py:631: ConvergenceWarning: Objective did not converge. You might want to increase the number of iterations, check the scale of the features or consider increasing regularisation. Duality gap: 6.997e+05, tolerance: 2.289e+02\n",
      "  model = cd_fast.enet_coordinate_descent(\n",
      "c:\\Users\\Giulia Maria\\miniconda3\\envs\\ML\\Lib\\site-packages\\sklearn\\linear_model\\_coordinate_descent.py:631: ConvergenceWarning: Objective did not converge. You might want to increase the number of iterations, check the scale of the features or consider increasing regularisation. Duality gap: 6.853e+05, tolerance: 2.289e+02\n",
      "  model = cd_fast.enet_coordinate_descent(\n",
      "c:\\Users\\Giulia Maria\\miniconda3\\envs\\ML\\Lib\\site-packages\\sklearn\\linear_model\\_coordinate_descent.py:631: ConvergenceWarning: Objective did not converge. You might want to increase the number of iterations, check the scale of the features or consider increasing regularisation. Duality gap: 6.686e+05, tolerance: 2.289e+02\n",
      "  model = cd_fast.enet_coordinate_descent(\n",
      "c:\\Users\\Giulia Maria\\miniconda3\\envs\\ML\\Lib\\site-packages\\sklearn\\linear_model\\_coordinate_descent.py:631: ConvergenceWarning: Objective did not converge. You might want to increase the number of iterations, check the scale of the features or consider increasing regularisation. Duality gap: 6.497e+05, tolerance: 2.289e+02\n",
      "  model = cd_fast.enet_coordinate_descent(\n",
      "c:\\Users\\Giulia Maria\\miniconda3\\envs\\ML\\Lib\\site-packages\\sklearn\\linear_model\\_coordinate_descent.py:631: ConvergenceWarning: Objective did not converge. You might want to increase the number of iterations, check the scale of the features or consider increasing regularisation. Duality gap: 6.330e+05, tolerance: 2.289e+02\n",
      "  model = cd_fast.enet_coordinate_descent(\n",
      "c:\\Users\\Giulia Maria\\miniconda3\\envs\\ML\\Lib\\site-packages\\sklearn\\linear_model\\_coordinate_descent.py:631: ConvergenceWarning: Objective did not converge. You might want to increase the number of iterations, check the scale of the features or consider increasing regularisation. Duality gap: 6.140e+05, tolerance: 2.289e+02\n",
      "  model = cd_fast.enet_coordinate_descent(\n",
      "c:\\Users\\Giulia Maria\\miniconda3\\envs\\ML\\Lib\\site-packages\\sklearn\\linear_model\\_coordinate_descent.py:631: ConvergenceWarning: Objective did not converge. You might want to increase the number of iterations, check the scale of the features or consider increasing regularisation. Duality gap: 5.859e+05, tolerance: 2.289e+02\n",
      "  model = cd_fast.enet_coordinate_descent(\n",
      "c:\\Users\\Giulia Maria\\miniconda3\\envs\\ML\\Lib\\site-packages\\sklearn\\linear_model\\_coordinate_descent.py:631: ConvergenceWarning: Objective did not converge. You might want to increase the number of iterations, check the scale of the features or consider increasing regularisation. Duality gap: 5.512e+05, tolerance: 2.289e+02\n",
      "  model = cd_fast.enet_coordinate_descent(\n",
      "c:\\Users\\Giulia Maria\\miniconda3\\envs\\ML\\Lib\\site-packages\\sklearn\\linear_model\\_coordinate_descent.py:631: ConvergenceWarning: Objective did not converge. You might want to increase the number of iterations, check the scale of the features or consider increasing regularisation. Duality gap: 5.148e+05, tolerance: 2.289e+02\n",
      "  model = cd_fast.enet_coordinate_descent(\n",
      "c:\\Users\\Giulia Maria\\miniconda3\\envs\\ML\\Lib\\site-packages\\sklearn\\linear_model\\_coordinate_descent.py:631: ConvergenceWarning: Objective did not converge. You might want to increase the number of iterations, check the scale of the features or consider increasing regularisation. Duality gap: 4.715e+05, tolerance: 2.289e+02\n",
      "  model = cd_fast.enet_coordinate_descent(\n",
      "c:\\Users\\Giulia Maria\\miniconda3\\envs\\ML\\Lib\\site-packages\\sklearn\\linear_model\\_coordinate_descent.py:631: ConvergenceWarning: Objective did not converge. You might want to increase the number of iterations, check the scale of the features or consider increasing regularisation. Duality gap: 4.237e+05, tolerance: 2.289e+02\n",
      "  model = cd_fast.enet_coordinate_descent(\n",
      "c:\\Users\\Giulia Maria\\miniconda3\\envs\\ML\\Lib\\site-packages\\sklearn\\linear_model\\_coordinate_descent.py:631: ConvergenceWarning: Objective did not converge. You might want to increase the number of iterations, check the scale of the features or consider increasing regularisation. Duality gap: 3.676e+05, tolerance: 2.289e+02\n",
      "  model = cd_fast.enet_coordinate_descent(\n",
      "c:\\Users\\Giulia Maria\\miniconda3\\envs\\ML\\Lib\\site-packages\\sklearn\\linear_model\\_coordinate_descent.py:631: ConvergenceWarning: Objective did not converge. You might want to increase the number of iterations, check the scale of the features or consider increasing regularisation. Duality gap: 3.032e+05, tolerance: 2.289e+02\n",
      "  model = cd_fast.enet_coordinate_descent(\n",
      "c:\\Users\\Giulia Maria\\miniconda3\\envs\\ML\\Lib\\site-packages\\sklearn\\linear_model\\_coordinate_descent.py:631: ConvergenceWarning: Objective did not converge. You might want to increase the number of iterations, check the scale of the features or consider increasing regularisation. Duality gap: 2.575e+05, tolerance: 2.289e+02\n",
      "  model = cd_fast.enet_coordinate_descent(\n",
      "c:\\Users\\Giulia Maria\\miniconda3\\envs\\ML\\Lib\\site-packages\\sklearn\\linear_model\\_coordinate_descent.py:631: ConvergenceWarning: Objective did not converge. You might want to increase the number of iterations, check the scale of the features or consider increasing regularisation. Duality gap: 2.158e+05, tolerance: 2.289e+02\n",
      "  model = cd_fast.enet_coordinate_descent(\n",
      "c:\\Users\\Giulia Maria\\miniconda3\\envs\\ML\\Lib\\site-packages\\sklearn\\linear_model\\_coordinate_descent.py:631: ConvergenceWarning: Objective did not converge. You might want to increase the number of iterations, check the scale of the features or consider increasing regularisation. Duality gap: 1.021e+05, tolerance: 2.289e+02\n",
      "  model = cd_fast.enet_coordinate_descent(\n",
      "c:\\Users\\Giulia Maria\\miniconda3\\envs\\ML\\Lib\\site-packages\\sklearn\\linear_model\\_coordinate_descent.py:631: ConvergenceWarning: Objective did not converge. You might want to increase the number of iterations, check the scale of the features or consider increasing regularisation. Duality gap: 9.229e+04, tolerance: 2.289e+02\n",
      "  model = cd_fast.enet_coordinate_descent(\n",
      "c:\\Users\\Giulia Maria\\miniconda3\\envs\\ML\\Lib\\site-packages\\sklearn\\linear_model\\_coordinate_descent.py:631: ConvergenceWarning: Objective did not converge. You might want to increase the number of iterations, check the scale of the features or consider increasing regularisation. Duality gap: 7.405e+04, tolerance: 2.289e+02\n",
      "  model = cd_fast.enet_coordinate_descent(\n",
      "c:\\Users\\Giulia Maria\\miniconda3\\envs\\ML\\Lib\\site-packages\\sklearn\\linear_model\\_coordinate_descent.py:631: ConvergenceWarning: Objective did not converge. You might want to increase the number of iterations, check the scale of the features or consider increasing regularisation. Duality gap: 4.629e+04, tolerance: 2.289e+02\n",
      "  model = cd_fast.enet_coordinate_descent(\n",
      "c:\\Users\\Giulia Maria\\miniconda3\\envs\\ML\\Lib\\site-packages\\sklearn\\linear_model\\_coordinate_descent.py:631: ConvergenceWarning: Objective did not converge. You might want to increase the number of iterations, check the scale of the features or consider increasing regularisation. Duality gap: 1.831e+04, tolerance: 2.289e+02\n",
      "  model = cd_fast.enet_coordinate_descent(\n",
      "c:\\Users\\Giulia Maria\\miniconda3\\envs\\ML\\Lib\\site-packages\\sklearn\\linear_model\\_coordinate_descent.py:631: ConvergenceWarning: Objective did not converge. You might want to increase the number of iterations, check the scale of the features or consider increasing regularisation. Duality gap: 7.530e+03, tolerance: 2.289e+02\n",
      "  model = cd_fast.enet_coordinate_descent(\n",
      "c:\\Users\\Giulia Maria\\miniconda3\\envs\\ML\\Lib\\site-packages\\sklearn\\linear_model\\_coordinate_descent.py:631: ConvergenceWarning: Objective did not converge. You might want to increase the number of iterations, check the scale of the features or consider increasing regularisation. Duality gap: 1.608e+04, tolerance: 2.289e+02\n",
      "  model = cd_fast.enet_coordinate_descent(\n",
      "c:\\Users\\Giulia Maria\\miniconda3\\envs\\ML\\Lib\\site-packages\\sklearn\\linear_model\\_coordinate_descent.py:631: ConvergenceWarning: Objective did not converge. You might want to increase the number of iterations, check the scale of the features or consider increasing regularisation. Duality gap: 9.878e+02, tolerance: 2.289e+02\n",
      "  model = cd_fast.enet_coordinate_descent(\n",
      "c:\\Users\\Giulia Maria\\miniconda3\\envs\\ML\\Lib\\site-packages\\sklearn\\linear_model\\_coordinate_descent.py:631: ConvergenceWarning: Objective did not converge. You might want to increase the number of iterations, check the scale of the features or consider increasing regularisation. Duality gap: 2.777e+02, tolerance: 2.289e+02\n",
      "  model = cd_fast.enet_coordinate_descent(\n"
     ]
    }
   ],
   "source": [
    "alpha_values = []\n",
    "mse_values = []\n",
    "best_alpha = None\n",
    "lowest_mse = np.inf\n",
    "\n",
    "for alpha in alphas:\n",
    "    model = Lasso(alpha=alpha)\n",
    "    model.fit(Xtrain_1, ytrain_1)\n",
    "    y_pred = model.predict(Xval)\n",
    "    mse = mean_squared_error(yval, y_pred)\n",
    "    \n",
    "    alpha_values.append(alpha)\n",
    "    mse_values.append(mse)\n",
    "    \n",
    "    if mse < lowest_mse:\n",
    "        best_alpha = alpha\n",
    "        lowest_mse = mse"
   ]
  },
  {
   "cell_type": "code",
   "execution_count": null,
   "metadata": {},
   "outputs": [
    {
     "data": {
      "image/png": "[encoded data removed]",
      "text/plain": [
       "<Figure size 1000x600 with 1 Axes>"
      ]
     },
     "metadata": {},
     "output_type": "display_data"
    }
   ],
   "source": [
    "plt.figure(figsize=(10, 6))\n",
    "plt.semilogx(alpha_values, mse_values, marker='o', linestyle='-', color='b')\n",
    "plt.xlabel('Alpha')\n",
    "plt.ylabel('Mean Squared Error (MSE)')\n",
    "plt.title('MSE vs. Alpha for Lasso Regression')\n",
    "plt.grid(True)\n",
    "plt.show()"
   ]
  },
  {
   "cell_type": "code",
   "execution_count": null,
   "metadata": {},
   "outputs": [
    {
     "name": "stdout",
     "output_type": "stream",
     "text": [
      "Best Alpha: 0.015199110829529346\n",
      "Lowest MSE: 35.26508918404245\n"
     ]
    }
   ],
   "source": [
    "print(f\"Best Alpha: {best_alpha}\")\n",
    "print(f\"Lowest MSE: {lowest_mse}\")"
   ]
  },
  {
   "cell_type": "code",
   "execution_count": null,
   "metadata": {},
   "outputs": [],
   "source": [
    "X_train_val = np.vstack((Xtrain_1, Xval))\n",
    "y_train_val = np.concatenate((ytrain_1, yval))"
   ]
  },
  {
   "cell_type": "code",
   "execution_count": null,
   "metadata": {},
   "outputs": [],
   "source": [
    "final_lasso_model = Lasso(alpha=best_alpha)"
   ]
  },
  {
   "cell_type": "code",
   "execution_count": null,
   "metadata": {},
   "outputs": [
    {
     "name": "stderr",
     "output_type": "stream",
     "text": [
      "c:\\Users\\Giulia Maria\\miniconda3\\envs\\ML\\Lib\\site-packages\\sklearn\\linear_model\\_coordinate_descent.py:631: ConvergenceWarning: Objective did not converge. You might want to increase the number of iterations, check the scale of the features or consider increasing regularisation. Duality gap: 6.190e+02, tolerance: 2.714e+02\n",
      "  model = cd_fast.enet_coordinate_descent(\n"
     ]
    },
    {
     "data": {
      "text/html": [
       "<style>#sk-container-id-4 {color: black;background-color: white;}#sk-container-id-4 pre{padding: 0;}#sk-container-id-4 div.sk-toggleable {background-color: white;}#sk-container-id-4 label.sk-toggleable__label {cursor: pointer;display: block;width: 100%;margin-bottom: 0;padding: 0.3em;box-sizing: border-box;text-align: center;}#sk-container-id-4 label.sk-toggleable__label-arrow:before {content: \"▸\";float: left;margin-right: 0.25em;color: #696969;}#sk-container-id-4 label.sk-toggleable__label-arrow:hover:before {color: black;}#sk-container-id-4 div.sk-estimator:hover label.sk-toggleable__label-arrow:before {color: black;}#sk-container-id-4 div.sk-toggleable__content {max-height: 0;max-width: 0;overflow: hidden;text-align: left;background-color: #f0f8ff;}#sk-container-id-4 div.sk-toggleable__content pre {margin: 0.2em;color: black;border-radius: 0.25em;background-color: #f0f8ff;}#sk-container-id-4 input.sk-toggleable__control:checked~div.sk-toggleable__content {max-height: 200px;max-width: 100%;overflow: auto;}#sk-container-id-4 input.sk-toggleable__control:checked~label.sk-toggleable__label-arrow:before {content: \"▾\";}#sk-container-id-4 div.sk-estimator input.sk-toggleable__control:checked~label.sk-toggleable__label {background-color: #d4ebff;}#sk-container-id-4 div.sk-label input.sk-toggleable__control:checked~label.sk-toggleable__label {background-color: #d4ebff;}#sk-container-id-4 input.sk-hidden--visually {border: 0;clip: rect(1px 1px 1px 1px);clip: rect(1px, 1px, 1px, 1px);height: 1px;margin: -1px;overflow: hidden;padding: 0;position: absolute;width: 1px;}#sk-container-id-4 div.sk-estimator {font-family: monospace;background-color: #f0f8ff;border: 1px dotted black;border-radius: 0.25em;box-sizing: border-box;margin-bottom: 0.5em;}#sk-container-id-4 div.sk-estimator:hover {background-color: #d4ebff;}#sk-container-id-4 div.sk-parallel-item::after {content: \"\";width: 100%;border-bottom: 1px solid gray;flex-grow: 1;}#sk-container-id-4 div.sk-label:hover label.sk-toggleable__label {background-color: #d4ebff;}#sk-container-id-4 div.sk-serial::before {content: \"\";position: absolute;border-left: 1px solid gray;box-sizing: border-box;top: 0;bottom: 0;left: 50%;z-index: 0;}#sk-container-id-4 div.sk-serial {display: flex;flex-direction: column;align-items: center;background-color: white;padding-right: 0.2em;padding-left: 0.2em;position: relative;}#sk-container-id-4 div.sk-item {position: relative;z-index: 1;}#sk-container-id-4 div.sk-parallel {display: flex;align-items: stretch;justify-content: center;background-color: white;position: relative;}#sk-container-id-4 div.sk-item::before, #sk-container-id-4 div.sk-parallel-item::before {content: \"\";position: absolute;border-left: 1px solid gray;box-sizing: border-box;top: 0;bottom: 0;left: 50%;z-index: -1;}#sk-container-id-4 div.sk-parallel-item {display: flex;flex-direction: column;z-index: 1;position: relative;background-color: white;}#sk-container-id-4 div.sk-parallel-item:first-child::after {align-self: flex-end;width: 50%;}#sk-container-id-4 div.sk-parallel-item:last-child::after {align-self: flex-start;width: 50%;}#sk-container-id-4 div.sk-parallel-item:only-child::after {width: 0;}#sk-container-id-4 div.sk-dashed-wrapped {border: 1px dashed gray;margin: 0 0.4em 0.5em 0.4em;box-sizing: border-box;padding-bottom: 0.4em;background-color: white;}#sk-container-id-4 div.sk-label label {font-family: monospace;font-weight: bold;display: inline-block;line-height: 1.2em;}#sk-container-id-4 div.sk-label-container {text-align: center;}#sk-container-id-4 div.sk-container {/* jupyter's `normalize.less` sets `[hidden] { display: none; }` but bootstrap.min.css set `[hidden] { display: none !important; }` so we also need the `!important` here to be able to override the default hidden behavior on the sphinx rendered scikit-learn.org. See: https://github.com/scikit-learn/scikit-learn/issues/21755 */display: inline-block !important;position: relative;}#sk-container-id-4 div.sk-text-repr-fallback {display: none;}</style><div id=\"sk-container-id-4\" class=\"sk-top-container\"><div class=\"sk-text-repr-fallback\"><pre>Lasso(alpha=0.015199110829529346)</pre><b>In a Jupyter environment, please rerun this cell to show the HTML representation or trust the notebook. <br />On GitHub, the HTML representation is unable to render, please try loading this page with nbviewer.org.</b></div><div class=\"sk-container\" hidden><div class=\"sk-item\"><div class=\"sk-estimator sk-toggleable\"><input class=\"sk-toggleable__control sk-hidden--visually\" id=\"sk-estimator-id-4\" type=\"checkbox\" checked><label for=\"sk-estimator-id-4\" class=\"sk-toggleable__label sk-toggleable__label-arrow\">Lasso</label><div class=\"sk-toggleable__content\"><pre>Lasso(alpha=0.015199110829529346)</pre></div></div></div></div></div>"
      ],
      "text/plain": [
       "Lasso(alpha=0.015199110829529346)"
      ]
     },
     "execution_count": 30,
     "metadata": {},
     "output_type": "execute_result"
    }
   ],
   "source": [
    "final_lasso_model.fit(X_train_val, y_train_val)"
   ]
  },
  {
   "cell_type": "code",
   "execution_count": null,
   "metadata": {},
   "outputs": [
    {
     "name": "stderr",
     "output_type": "stream",
     "text": [
      "c:\\Users\\Giulia Maria\\miniconda3\\envs\\ML\\Lib\\site-packages\\sklearn\\base.py:432: UserWarning: X has feature names, but Lasso was fitted without feature names\n",
      "  warnings.warn(\n"
     ]
    }
   ],
   "source": [
    "y_test_pred_lasso = final_lasso_model.predict(Xtest)"
   ]
  },
  {
   "cell_type": "code",
   "execution_count": null,
   "metadata": {},
   "outputs": [],
   "source": [
    "final_test_mse_lasso = mean_squared_error(ytest, y_test_pred_lasso)"
   ]
  },
  {
   "cell_type": "code",
   "execution_count": null,
   "metadata": {},
   "outputs": [
    {
     "name": "stdout",
     "output_type": "stream",
     "text": [
      "Final Test MSE for Lasso: 30.04719484684103\n",
      "Final Test MSE for Ridge: 30.493329281334677\n"
     ]
    }
   ],
   "source": [
    "print(f\"Final Test MSE for Lasso: {final_test_mse_lasso}\")\n",
    "print(f\"Final Test MSE for Ridge: {final_test_mse_ridge}\")"
   ]
  },
  {
   "cell_type": "markdown",
   "metadata": {},
   "source": [
    "## Evaluate the model \n"
   ]
  },
  {
   "cell_type": "code",
   "execution_count": null,
   "metadata": {},
   "outputs": [
    {
     "ename": "ValueError",
     "evalue": "The feature names should match those that were passed during fit.\nFeature names unseen at fit time:\n- -1.026273095114762501e+00\n- -1.034039968080203431e-01\n- -1.038718893987474967e+00\n- -1.041415478909365477e+00\n- -1.076766986573888235e-17\n- ...\nFeature names seen at fit time, yet now missing:\n- -1.012904268400146357e+00\n- -1.093585797005210747e+00\n- -1.128775493232719862e+00\n- -1.137421562420412924e+00\n- -1.160901497486771961e+00\n- ...\n",
     "output_type": "error",
     "traceback": [
      "\u001b[1;31m---------------------------------------------------------------------------\u001b[0m",
      "\u001b[1;31mValueError\u001b[0m                                Traceback (most recent call last)",
      "Cell \u001b[1;32mIn[34], line 1\u001b[0m\n\u001b[1;32m----> 1\u001b[0m y_pred \u001b[38;5;241m=\u001b[39m \u001b[43mridge_model\u001b[49m\u001b[38;5;241;43m.\u001b[39;49m\u001b[43mpredict\u001b[49m\u001b[43m(\u001b[49m\u001b[43mXtest\u001b[49m\u001b[43m)\u001b[49m\n\u001b[0;32m      2\u001b[0m mse \u001b[38;5;241m=\u001b[39m mean_squared_error(ytest, y_pred)\n\u001b[0;32m      3\u001b[0m \u001b[38;5;28mprint\u001b[39m(\u001b[38;5;124m\"\u001b[39m\u001b[38;5;124mMean Squared Error:\u001b[39m\u001b[38;5;124m\"\u001b[39m, mse)\n",
      "File \u001b[1;32mc:\\Users\\Giulia Maria\\miniconda3\\envs\\ML\\Lib\\site-packages\\sklearn\\linear_model\\_base.py:354\u001b[0m, in \u001b[0;36mLinearModel.predict\u001b[1;34m(self, X)\u001b[0m\n\u001b[0;32m    340\u001b[0m \u001b[38;5;28;01mdef\u001b[39;00m \u001b[38;5;21mpredict\u001b[39m(\u001b[38;5;28mself\u001b[39m, X):\n\u001b[0;32m    341\u001b[0m \u001b[38;5;250m    \u001b[39m\u001b[38;5;124;03m\"\"\"\u001b[39;00m\n\u001b[0;32m    342\u001b[0m \u001b[38;5;124;03m    Predict using the linear model.\u001b[39;00m\n\u001b[0;32m    343\u001b[0m \n\u001b[1;32m   (...)\u001b[0m\n\u001b[0;32m    352\u001b[0m \u001b[38;5;124;03m        Returns predicted values.\u001b[39;00m\n\u001b[0;32m    353\u001b[0m \u001b[38;5;124;03m    \"\"\"\u001b[39;00m\n\u001b[1;32m--> 354\u001b[0m     \u001b[38;5;28;01mreturn\u001b[39;00m \u001b[38;5;28;43mself\u001b[39;49m\u001b[38;5;241;43m.\u001b[39;49m\u001b[43m_decision_function\u001b[49m\u001b[43m(\u001b[49m\u001b[43mX\u001b[49m\u001b[43m)\u001b[49m\n",
      "File \u001b[1;32mc:\\Users\\Giulia Maria\\miniconda3\\envs\\ML\\Lib\\site-packages\\sklearn\\linear_model\\_base.py:337\u001b[0m, in \u001b[0;36mLinearModel._decision_function\u001b[1;34m(self, X)\u001b[0m\n\u001b[0;32m    334\u001b[0m \u001b[38;5;28;01mdef\u001b[39;00m \u001b[38;5;21m_decision_function\u001b[39m(\u001b[38;5;28mself\u001b[39m, X):\n\u001b[0;32m    335\u001b[0m     check_is_fitted(\u001b[38;5;28mself\u001b[39m)\n\u001b[1;32m--> 337\u001b[0m     X \u001b[38;5;241m=\u001b[39m \u001b[38;5;28;43mself\u001b[39;49m\u001b[38;5;241;43m.\u001b[39;49m\u001b[43m_validate_data\u001b[49m\u001b[43m(\u001b[49m\u001b[43mX\u001b[49m\u001b[43m,\u001b[49m\u001b[43m \u001b[49m\u001b[43maccept_sparse\u001b[49m\u001b[38;5;241;43m=\u001b[39;49m\u001b[43m[\u001b[49m\u001b[38;5;124;43m\"\u001b[39;49m\u001b[38;5;124;43mcsr\u001b[39;49m\u001b[38;5;124;43m\"\u001b[39;49m\u001b[43m,\u001b[49m\u001b[43m \u001b[49m\u001b[38;5;124;43m\"\u001b[39;49m\u001b[38;5;124;43mcsc\u001b[39;49m\u001b[38;5;124;43m\"\u001b[39;49m\u001b[43m,\u001b[49m\u001b[43m \u001b[49m\u001b[38;5;124;43m\"\u001b[39;49m\u001b[38;5;124;43mcoo\u001b[39;49m\u001b[38;5;124;43m\"\u001b[39;49m\u001b[43m]\u001b[49m\u001b[43m,\u001b[49m\u001b[43m \u001b[49m\u001b[43mreset\u001b[49m\u001b[38;5;241;43m=\u001b[39;49m\u001b[38;5;28;43;01mFalse\u001b[39;49;00m\u001b[43m)\u001b[49m\n\u001b[0;32m    338\u001b[0m     \u001b[38;5;28;01mreturn\u001b[39;00m safe_sparse_dot(X, \u001b[38;5;28mself\u001b[39m\u001b[38;5;241m.\u001b[39mcoef_\u001b[38;5;241m.\u001b[39mT, dense_output\u001b[38;5;241m=\u001b[39m\u001b[38;5;28;01mTrue\u001b[39;00m) \u001b[38;5;241m+\u001b[39m \u001b[38;5;28mself\u001b[39m\u001b[38;5;241m.\u001b[39mintercept_\n",
      "File \u001b[1;32mc:\\Users\\Giulia Maria\\miniconda3\\envs\\ML\\Lib\\site-packages\\sklearn\\base.py:548\u001b[0m, in \u001b[0;36mBaseEstimator._validate_data\u001b[1;34m(self, X, y, reset, validate_separately, **check_params)\u001b[0m\n\u001b[0;32m    483\u001b[0m \u001b[38;5;28;01mdef\u001b[39;00m \u001b[38;5;21m_validate_data\u001b[39m(\n\u001b[0;32m    484\u001b[0m     \u001b[38;5;28mself\u001b[39m,\n\u001b[0;32m    485\u001b[0m     X\u001b[38;5;241m=\u001b[39m\u001b[38;5;124m\"\u001b[39m\u001b[38;5;124mno_validation\u001b[39m\u001b[38;5;124m\"\u001b[39m,\n\u001b[1;32m   (...)\u001b[0m\n\u001b[0;32m    489\u001b[0m     \u001b[38;5;241m*\u001b[39m\u001b[38;5;241m*\u001b[39mcheck_params,\n\u001b[0;32m    490\u001b[0m ):\n\u001b[0;32m    491\u001b[0m \u001b[38;5;250m    \u001b[39m\u001b[38;5;124;03m\"\"\"Validate input data and set or check the `n_features_in_` attribute.\u001b[39;00m\n\u001b[0;32m    492\u001b[0m \n\u001b[0;32m    493\u001b[0m \u001b[38;5;124;03m    Parameters\u001b[39;00m\n\u001b[1;32m   (...)\u001b[0m\n\u001b[0;32m    546\u001b[0m \u001b[38;5;124;03m        validated.\u001b[39;00m\n\u001b[0;32m    547\u001b[0m \u001b[38;5;124;03m    \"\"\"\u001b[39;00m\n\u001b[1;32m--> 548\u001b[0m     \u001b[38;5;28;43mself\u001b[39;49m\u001b[38;5;241;43m.\u001b[39;49m\u001b[43m_check_feature_names\u001b[49m\u001b[43m(\u001b[49m\u001b[43mX\u001b[49m\u001b[43m,\u001b[49m\u001b[43m \u001b[49m\u001b[43mreset\u001b[49m\u001b[38;5;241;43m=\u001b[39;49m\u001b[43mreset\u001b[49m\u001b[43m)\u001b[49m\n\u001b[0;32m    550\u001b[0m     \u001b[38;5;28;01mif\u001b[39;00m y \u001b[38;5;129;01mis\u001b[39;00m \u001b[38;5;28;01mNone\u001b[39;00m \u001b[38;5;129;01mand\u001b[39;00m \u001b[38;5;28mself\u001b[39m\u001b[38;5;241m.\u001b[39m_get_tags()[\u001b[38;5;124m\"\u001b[39m\u001b[38;5;124mrequires_y\u001b[39m\u001b[38;5;124m\"\u001b[39m]:\n\u001b[0;32m    551\u001b[0m         \u001b[38;5;28;01mraise\u001b[39;00m \u001b[38;5;167;01mValueError\u001b[39;00m(\n\u001b[0;32m    552\u001b[0m             \u001b[38;5;124mf\u001b[39m\u001b[38;5;124m\"\u001b[39m\u001b[38;5;124mThis \u001b[39m\u001b[38;5;132;01m{\u001b[39;00m\u001b[38;5;28mself\u001b[39m\u001b[38;5;241m.\u001b[39m\u001b[38;5;18m__class__\u001b[39m\u001b[38;5;241m.\u001b[39m\u001b[38;5;18m__name__\u001b[39m\u001b[38;5;132;01m}\u001b[39;00m\u001b[38;5;124m estimator \u001b[39m\u001b[38;5;124m\"\u001b[39m\n\u001b[0;32m    553\u001b[0m             \u001b[38;5;124m\"\u001b[39m\u001b[38;5;124mrequires y to be passed, but the target y is None.\u001b[39m\u001b[38;5;124m\"\u001b[39m\n\u001b[0;32m    554\u001b[0m         )\n",
      "File \u001b[1;32mc:\\Users\\Giulia Maria\\miniconda3\\envs\\ML\\Lib\\site-packages\\sklearn\\base.py:481\u001b[0m, in \u001b[0;36mBaseEstimator._check_feature_names\u001b[1;34m(self, X, reset)\u001b[0m\n\u001b[0;32m    476\u001b[0m \u001b[38;5;28;01mif\u001b[39;00m \u001b[38;5;129;01mnot\u001b[39;00m missing_names \u001b[38;5;129;01mand\u001b[39;00m \u001b[38;5;129;01mnot\u001b[39;00m unexpected_names:\n\u001b[0;32m    477\u001b[0m     message \u001b[38;5;241m+\u001b[39m\u001b[38;5;241m=\u001b[39m (\n\u001b[0;32m    478\u001b[0m         \u001b[38;5;124m\"\u001b[39m\u001b[38;5;124mFeature names must be in the same order as they were in fit.\u001b[39m\u001b[38;5;130;01m\\n\u001b[39;00m\u001b[38;5;124m\"\u001b[39m\n\u001b[0;32m    479\u001b[0m     )\n\u001b[1;32m--> 481\u001b[0m \u001b[38;5;28;01mraise\u001b[39;00m \u001b[38;5;167;01mValueError\u001b[39;00m(message)\n",
      "\u001b[1;31mValueError\u001b[0m: The feature names should match those that were passed during fit.\nFeature names unseen at fit time:\n- -1.026273095114762501e+00\n- -1.034039968080203431e-01\n- -1.038718893987474967e+00\n- -1.041415478909365477e+00\n- -1.076766986573888235e-17\n- ...\nFeature names seen at fit time, yet now missing:\n- -1.012904268400146357e+00\n- -1.093585797005210747e+00\n- -1.128775493232719862e+00\n- -1.137421562420412924e+00\n- -1.160901497486771961e+00\n- ...\n"
     ]
    }
   ],
   "source": [
    "y_pred = ridge_model.predict(Xtest)\n",
    "mse = mean_squared_error(ytest, y_pred)\n",
    "print(\"Mean Squared Error:\", mse)"
   ]
  },
  {
   "cell_type": "markdown",
   "metadata": {},
   "source": [
    "Same analysis but with KNN imputed train set "
   ]
  },
  {
   "cell_type": "code",
   "execution_count": null,
   "metadata": {},
   "outputs": [],
   "source": [
    "Xtrain_KNN, Xval_kNN, ytrain_KNN, yval_KNN = train_test_split(Xtrain_KNN, ytrain, test_size=0.2, random_state=123)\n"
   ]
  }
 ],
 "metadata": {
  "kernelspec": {
   "display_name": "ML",
   "language": "python",
   "name": "python3"
  },
  "language_info": {
   "codemirror_mode": {
    "name": "ipython",
    "version": 3
   },
   "file_extension": ".py",
   "mimetype": "text/x-python",
   "name": "python",
   "nbconvert_exporter": "python",
   "pygments_lexer": "ipython3",
   "version": "3.11.7"
  }
 },
 "nbformat": 4,
 "nbformat_minor": 2
}

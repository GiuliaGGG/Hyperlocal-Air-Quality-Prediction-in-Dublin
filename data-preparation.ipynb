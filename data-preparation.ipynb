{
 "cells": [
  {
   "cell_type": "markdown",
   "source": [
    "## Data Preparation Dublin"
   ],
   "metadata": {
    "collapsed": false
   },
   "id": "ae8dc3bcacc65a81"
  },
  {
   "cell_type": "code",
   "outputs": [],
   "source": [
    "import pandas as pd\n",
    "dublin_air = pd.read_csv(\"data/AirView_DublinCity_Measurements_ugm3.csv\")"
   ],
   "metadata": {
    "collapsed": false,
    "ExecuteTime": {
     "end_time": "2024-04-11T13:24:59.668518Z",
     "start_time": "2024-04-11T13:24:54.420307Z"
    }
   },
   "id": "b7ea3f23537ae40",
   "execution_count": 3
  },
  {
   "cell_type": "code",
   "outputs": [
    {
     "data": {
      "text/plain": "             gps_timestamp   latitude  longitude  NO_ugm3  NO2_ugm3  O3_ugm3  \\\n0  2022-04-07 14:56:36 UTC  53.346434  -6.263997  -13.526    11.724      NaN   \n1  2022-04-07 14:56:37 UTC  53.346434  -6.263997  -29.957     4.441      NaN   \n2  2022-04-07 14:56:38 UTC  53.346434  -6.263997   -9.260     8.725   59.109   \n3  2022-04-07 14:56:39 UTC  53.346434  -6.263997  -22.847     7.023      NaN   \n4  2022-04-07 14:56:40 UTC  53.346434  -6.263997   -9.225    15.591      NaN   \n\n   CO_mgm3  CO2_mgm3  PMch1_perL  PMch2_perL  PMch3_perL  PMch4_perL  \\\n0    0.293   765.328      6240.0      1860.0      1380.0       480.0   \n1    0.291       NaN      4800.0      1380.0      1020.0       240.0   \n2    0.299       NaN      6300.0      1800.0      1140.0       600.0   \n3    0.295       NaN      5040.0      1800.0      1080.0       300.0   \n4    0.296   763.271      5580.0      1920.0      1260.0       480.0   \n\n   PMch5_perL  PMch6_perL  PM25_ugm3  \n0        60.0       120.0      4.927  \n1       240.0        60.0      4.240  \n2        60.0        60.0      4.204  \n3        60.0        60.0      3.410  \n4        60.0        60.0      4.003  ",
      "text/html": "<div>\n<style scoped>\n    .dataframe tbody tr th:only-of-type {\n        vertical-align: middle;\n    }\n\n    .dataframe tbody tr th {\n        vertical-align: top;\n    }\n\n    .dataframe thead th {\n        text-align: right;\n    }\n</style>\n<table border=\"1\" class=\"dataframe\">\n  <thead>\n    <tr style=\"text-align: right;\">\n      <th></th>\n      <th>gps_timestamp</th>\n      <th>latitude</th>\n      <th>longitude</th>\n      <th>NO_ugm3</th>\n      <th>NO2_ugm3</th>\n      <th>O3_ugm3</th>\n      <th>CO_mgm3</th>\n      <th>CO2_mgm3</th>\n      <th>PMch1_perL</th>\n      <th>PMch2_perL</th>\n      <th>PMch3_perL</th>\n      <th>PMch4_perL</th>\n      <th>PMch5_perL</th>\n      <th>PMch6_perL</th>\n      <th>PM25_ugm3</th>\n    </tr>\n  </thead>\n  <tbody>\n    <tr>\n      <th>0</th>\n      <td>2022-04-07 14:56:36 UTC</td>\n      <td>53.346434</td>\n      <td>-6.263997</td>\n      <td>-13.526</td>\n      <td>11.724</td>\n      <td>NaN</td>\n      <td>0.293</td>\n      <td>765.328</td>\n      <td>6240.0</td>\n      <td>1860.0</td>\n      <td>1380.0</td>\n      <td>480.0</td>\n      <td>60.0</td>\n      <td>120.0</td>\n      <td>4.927</td>\n    </tr>\n    <tr>\n      <th>1</th>\n      <td>2022-04-07 14:56:37 UTC</td>\n      <td>53.346434</td>\n      <td>-6.263997</td>\n      <td>-29.957</td>\n      <td>4.441</td>\n      <td>NaN</td>\n      <td>0.291</td>\n      <td>NaN</td>\n      <td>4800.0</td>\n      <td>1380.0</td>\n      <td>1020.0</td>\n      <td>240.0</td>\n      <td>240.0</td>\n      <td>60.0</td>\n      <td>4.240</td>\n    </tr>\n    <tr>\n      <th>2</th>\n      <td>2022-04-07 14:56:38 UTC</td>\n      <td>53.346434</td>\n      <td>-6.263997</td>\n      <td>-9.260</td>\n      <td>8.725</td>\n      <td>59.109</td>\n      <td>0.299</td>\n      <td>NaN</td>\n      <td>6300.0</td>\n      <td>1800.0</td>\n      <td>1140.0</td>\n      <td>600.0</td>\n      <td>60.0</td>\n      <td>60.0</td>\n      <td>4.204</td>\n    </tr>\n    <tr>\n      <th>3</th>\n      <td>2022-04-07 14:56:39 UTC</td>\n      <td>53.346434</td>\n      <td>-6.263997</td>\n      <td>-22.847</td>\n      <td>7.023</td>\n      <td>NaN</td>\n      <td>0.295</td>\n      <td>NaN</td>\n      <td>5040.0</td>\n      <td>1800.0</td>\n      <td>1080.0</td>\n      <td>300.0</td>\n      <td>60.0</td>\n      <td>60.0</td>\n      <td>3.410</td>\n    </tr>\n    <tr>\n      <th>4</th>\n      <td>2022-04-07 14:56:40 UTC</td>\n      <td>53.346434</td>\n      <td>-6.263997</td>\n      <td>-9.225</td>\n      <td>15.591</td>\n      <td>NaN</td>\n      <td>0.296</td>\n      <td>763.271</td>\n      <td>5580.0</td>\n      <td>1920.0</td>\n      <td>1260.0</td>\n      <td>480.0</td>\n      <td>60.0</td>\n      <td>60.0</td>\n      <td>4.003</td>\n    </tr>\n  </tbody>\n</table>\n</div>"
     },
     "execution_count": 4,
     "metadata": {},
     "output_type": "execute_result"
    }
   ],
   "source": [
    "dublin_air.head()"
   ],
   "metadata": {
    "collapsed": false,
    "ExecuteTime": {
     "end_time": "2024-04-11T13:24:59.686569Z",
     "start_time": "2024-04-11T13:24:59.671164Z"
    }
   },
   "id": "ad70eada8583da5a",
   "execution_count": 4
  },
  {
   "cell_type": "code",
   "outputs": [
    {
     "data": {
      "text/plain": "gps_timestamp          0\nlatitude               0\nlongitude              0\nNO_ugm3           418699\nNO2_ugm3         1165108\nO3_ugm3          3582771\nCO_mgm3           321269\nCO2_mgm3          898496\nPMch1_perL         89877\nPMch2_perL         89877\nPMch3_perL         89877\nPMch4_perL         89877\nPMch5_perL         89877\nPMch6_perL         89877\nPM25_ugm3          89877\ndtype: int64"
     },
     "execution_count": 5,
     "metadata": {},
     "output_type": "execute_result"
    }
   ],
   "source": [
    "# count na values in each column\n",
    "dublin_air.isna().sum()"
   ],
   "metadata": {
    "collapsed": false,
    "ExecuteTime": {
     "end_time": "2024-04-11T13:25:00.163283Z",
     "start_time": "2024-04-11T13:24:59.687762Z"
    }
   },
   "id": "4c9e9fddf29e48b7",
   "execution_count": 5
  },
  {
   "cell_type": "code",
   "outputs": [],
   "source": [
    "# drop columns by index\n",
    "dublin_air.drop(dublin_air.columns[8:14], axis=1, inplace=True)"
   ],
   "metadata": {
    "collapsed": false,
    "ExecuteTime": {
     "end_time": "2024-04-11T13:25:00.461092Z",
     "start_time": "2024-04-11T13:25:00.167207Z"
    }
   },
   "id": "fac650cc5b3be61a",
   "execution_count": 6
  },
  {
   "cell_type": "code",
   "outputs": [
    {
     "data": {
      "text/plain": "             gps_timestamp   latitude  longitude  NO_ugm3  NO2_ugm3  O3_ugm3  \\\n0  2022-04-07 14:56:36 UTC  53.346434  -6.263997  -13.526    11.724      NaN   \n1  2022-04-07 14:56:37 UTC  53.346434  -6.263997  -29.957     4.441      NaN   \n2  2022-04-07 14:56:38 UTC  53.346434  -6.263997   -9.260     8.725   59.109   \n3  2022-04-07 14:56:39 UTC  53.346434  -6.263997  -22.847     7.023      NaN   \n4  2022-04-07 14:56:40 UTC  53.346434  -6.263997   -9.225    15.591      NaN   \n\n   CO_mgm3  CO2_mgm3  PM25_ugm3  \n0    0.293   765.328      4.927  \n1    0.291       NaN      4.240  \n2    0.299       NaN      4.204  \n3    0.295       NaN      3.410  \n4    0.296   763.271      4.003  ",
      "text/html": "<div>\n<style scoped>\n    .dataframe tbody tr th:only-of-type {\n        vertical-align: middle;\n    }\n\n    .dataframe tbody tr th {\n        vertical-align: top;\n    }\n\n    .dataframe thead th {\n        text-align: right;\n    }\n</style>\n<table border=\"1\" class=\"dataframe\">\n  <thead>\n    <tr style=\"text-align: right;\">\n      <th></th>\n      <th>gps_timestamp</th>\n      <th>latitude</th>\n      <th>longitude</th>\n      <th>NO_ugm3</th>\n      <th>NO2_ugm3</th>\n      <th>O3_ugm3</th>\n      <th>CO_mgm3</th>\n      <th>CO2_mgm3</th>\n      <th>PM25_ugm3</th>\n    </tr>\n  </thead>\n  <tbody>\n    <tr>\n      <th>0</th>\n      <td>2022-04-07 14:56:36 UTC</td>\n      <td>53.346434</td>\n      <td>-6.263997</td>\n      <td>-13.526</td>\n      <td>11.724</td>\n      <td>NaN</td>\n      <td>0.293</td>\n      <td>765.328</td>\n      <td>4.927</td>\n    </tr>\n    <tr>\n      <th>1</th>\n      <td>2022-04-07 14:56:37 UTC</td>\n      <td>53.346434</td>\n      <td>-6.263997</td>\n      <td>-29.957</td>\n      <td>4.441</td>\n      <td>NaN</td>\n      <td>0.291</td>\n      <td>NaN</td>\n      <td>4.240</td>\n    </tr>\n    <tr>\n      <th>2</th>\n      <td>2022-04-07 14:56:38 UTC</td>\n      <td>53.346434</td>\n      <td>-6.263997</td>\n      <td>-9.260</td>\n      <td>8.725</td>\n      <td>59.109</td>\n      <td>0.299</td>\n      <td>NaN</td>\n      <td>4.204</td>\n    </tr>\n    <tr>\n      <th>3</th>\n      <td>2022-04-07 14:56:39 UTC</td>\n      <td>53.346434</td>\n      <td>-6.263997</td>\n      <td>-22.847</td>\n      <td>7.023</td>\n      <td>NaN</td>\n      <td>0.295</td>\n      <td>NaN</td>\n      <td>3.410</td>\n    </tr>\n    <tr>\n      <th>4</th>\n      <td>2022-04-07 14:56:40 UTC</td>\n      <td>53.346434</td>\n      <td>-6.263997</td>\n      <td>-9.225</td>\n      <td>15.591</td>\n      <td>NaN</td>\n      <td>0.296</td>\n      <td>763.271</td>\n      <td>4.003</td>\n    </tr>\n  </tbody>\n</table>\n</div>"
     },
     "execution_count": 7,
     "metadata": {},
     "output_type": "execute_result"
    }
   ],
   "source": [
    "dublin_air.head()"
   ],
   "metadata": {
    "collapsed": false,
    "ExecuteTime": {
     "end_time": "2024-04-11T13:25:00.470590Z",
     "start_time": "2024-04-11T13:25:00.463112Z"
    }
   },
   "id": "f1d2c013c9f9c574",
   "execution_count": 7
  },
  {
   "cell_type": "code",
   "outputs": [
    {
     "data": {
      "text/plain": "gps_timestamp     object\nlatitude         float64\nlongitude        float64\nNO_ugm3          float64\nNO2_ugm3         float64\nO3_ugm3          float64\nCO_mgm3          float64\nCO2_mgm3         float64\nPM25_ugm3        float64\ndtype: object"
     },
     "execution_count": 8,
     "metadata": {},
     "output_type": "execute_result"
    }
   ],
   "source": [
    "dublin_air.dtypes"
   ],
   "metadata": {
    "collapsed": false,
    "ExecuteTime": {
     "end_time": "2024-04-11T13:25:00.476304Z",
     "start_time": "2024-04-11T13:25:00.471852Z"
    }
   },
   "id": "1e27203b5aeaeb28",
   "execution_count": 8
  },
  {
   "cell_type": "code",
   "outputs": [],
   "source": [
    "# Convert 'gps_timestamp' to datetime\n",
    "dublin_air['gps_timestamp'] = pd.to_datetime(dublin_air['gps_timestamp'])\n",
    "\n",
    "# Extract the date from 'gps_timestamp'\n",
    "dublin_air['date'] = dublin_air['gps_timestamp'].dt.date\n",
    "\n",
    "# Drop the 'gps_timestamp' column as it's no longer needed\n",
    "dublin_air= dublin_air.drop(columns='gps_timestamp')\n",
    "\n",
    "# Group by 'date', 'latitude', and 'longitude' and calculate the mean\n",
    "daily_average = dublin_air.groupby(['date', 'latitude', 'longitude']).mean().reset_index()"
   ],
   "metadata": {
    "collapsed": false,
    "ExecuteTime": {
     "end_time": "2024-04-11T13:25:33.182405Z",
     "start_time": "2024-04-11T13:25:00.477220Z"
    }
   },
   "id": "a73b9de12f88a33c",
   "execution_count": 9
  },
  {
   "cell_type": "code",
   "outputs": [
    {
     "data": {
      "text/plain": "         date   latitude  longitude  NO_ugm3  NO2_ugm3  O3_ugm3  CO_mgm3  \\\n0  2021-05-06  53.301941  -6.297264   -3.915     4.311      NaN    0.540   \n1  2021-05-06  53.301961  -6.297326  -23.507     2.268   73.538    0.526   \n2  2021-05-06  53.301979  -6.297364  -17.819     7.120      NaN    0.543   \n3  2021-05-06  53.301982  -6.297372  -33.715     9.264      NaN    0.604   \n4  2021-05-06  53.301983  -6.297372  -22.023     8.941      NaN    0.583   \n\n   CO2_mgm3  PM25_ugm3  \n0   799.317      1.915  \n1   803.419      4.428  \n2   807.597      6.649  \n3   869.329      5.103  \n4   840.557      4.223  ",
      "text/html": "<div>\n<style scoped>\n    .dataframe tbody tr th:only-of-type {\n        vertical-align: middle;\n    }\n\n    .dataframe tbody tr th {\n        vertical-align: top;\n    }\n\n    .dataframe thead th {\n        text-align: right;\n    }\n</style>\n<table border=\"1\" class=\"dataframe\">\n  <thead>\n    <tr style=\"text-align: right;\">\n      <th></th>\n      <th>date</th>\n      <th>latitude</th>\n      <th>longitude</th>\n      <th>NO_ugm3</th>\n      <th>NO2_ugm3</th>\n      <th>O3_ugm3</th>\n      <th>CO_mgm3</th>\n      <th>CO2_mgm3</th>\n      <th>PM25_ugm3</th>\n    </tr>\n  </thead>\n  <tbody>\n    <tr>\n      <th>0</th>\n      <td>2021-05-06</td>\n      <td>53.301941</td>\n      <td>-6.297264</td>\n      <td>-3.915</td>\n      <td>4.311</td>\n      <td>NaN</td>\n      <td>0.540</td>\n      <td>799.317</td>\n      <td>1.915</td>\n    </tr>\n    <tr>\n      <th>1</th>\n      <td>2021-05-06</td>\n      <td>53.301961</td>\n      <td>-6.297326</td>\n      <td>-23.507</td>\n      <td>2.268</td>\n      <td>73.538</td>\n      <td>0.526</td>\n      <td>803.419</td>\n      <td>4.428</td>\n    </tr>\n    <tr>\n      <th>2</th>\n      <td>2021-05-06</td>\n      <td>53.301979</td>\n      <td>-6.297364</td>\n      <td>-17.819</td>\n      <td>7.120</td>\n      <td>NaN</td>\n      <td>0.543</td>\n      <td>807.597</td>\n      <td>6.649</td>\n    </tr>\n    <tr>\n      <th>3</th>\n      <td>2021-05-06</td>\n      <td>53.301982</td>\n      <td>-6.297372</td>\n      <td>-33.715</td>\n      <td>9.264</td>\n      <td>NaN</td>\n      <td>0.604</td>\n      <td>869.329</td>\n      <td>5.103</td>\n    </tr>\n    <tr>\n      <th>4</th>\n      <td>2021-05-06</td>\n      <td>53.301983</td>\n      <td>-6.297372</td>\n      <td>-22.023</td>\n      <td>8.941</td>\n      <td>NaN</td>\n      <td>0.583</td>\n      <td>840.557</td>\n      <td>4.223</td>\n    </tr>\n  </tbody>\n</table>\n</div>"
     },
     "execution_count": 10,
     "metadata": {},
     "output_type": "execute_result"
    }
   ],
   "source": [
    "daily_average.head()"
   ],
   "metadata": {
    "collapsed": false,
    "ExecuteTime": {
     "end_time": "2024-04-11T13:25:33.193039Z",
     "start_time": "2024-04-11T13:25:33.184541Z"
    }
   },
   "id": "1e229a0f82d7e551",
   "execution_count": 10
  },
  {
   "cell_type": "code",
   "outputs": [
    {
     "data": {
      "text/plain": "date               0\nlatitude           0\nlongitude          0\nNO_ugm3       305167\nNO2_ugm3      838791\nO3_ugm3      2620828\nCO_mgm3       234698\nCO2_mgm3      656295\nPM25_ugm3      62204\ndtype: int64"
     },
     "execution_count": 11,
     "metadata": {},
     "output_type": "execute_result"
    }
   ],
   "source": [
    "# count na values in each column\n",
    "daily_average.isna().sum()"
   ],
   "metadata": {
    "collapsed": false,
    "ExecuteTime": {
     "end_time": "2024-04-11T13:25:33.287949Z",
     "start_time": "2024-04-11T13:25:33.194370Z"
    }
   },
   "id": "2d3dc168f33ab101",
   "execution_count": 11
  },
  {
   "cell_type": "code",
   "outputs": [
    {
     "data": {
      "text/plain": "               date   latitude  longitude  NO_ugm3  NO2_ugm3  O3_ugm3  \\\n0        2021-05-06  53.301941  -6.297264   -3.915     4.311      NaN   \n1        2021-05-06  53.301961  -6.297326  -23.507     2.268   73.538   \n2        2021-05-06  53.301979  -6.297364  -17.819     7.120      NaN   \n3        2021-05-06  53.301982  -6.297372  -33.715     9.264      NaN   \n4        2021-05-06  53.301983  -6.297372  -22.023     8.941      NaN   \n...             ...        ...        ...      ...       ...      ...   \n3746162  2022-08-05  53.410741  -6.225471   -1.241       NaN      NaN   \n3746163  2022-08-05  53.410790  -6.225570   -9.979       NaN      NaN   \n3746164  2022-08-05  53.410829  -6.225673  -19.696       NaN      NaN   \n3746165  2022-08-05  53.410857  -6.225767  -37.213       NaN      NaN   \n3746166  2022-08-05  53.410879  -6.225858  -23.052       NaN      NaN   \n\n         CO_mgm3  CO2_mgm3  PM25_ugm3  \n0          0.540   799.317      1.915  \n1          0.526   803.419      4.428  \n2          0.543   807.597      6.649  \n3          0.604   869.329      5.103  \n4          0.583   840.557      4.223  \n...          ...       ...        ...  \n3746162    0.269   789.284      2.229  \n3746163    0.264   791.036      6.281  \n3746164    0.283   792.849      4.766  \n3746165    0.291   794.705      3.051  \n3746166    0.299   796.529      4.403  \n\n[3746167 rows x 9 columns]",
      "text/html": "<div>\n<style scoped>\n    .dataframe tbody tr th:only-of-type {\n        vertical-align: middle;\n    }\n\n    .dataframe tbody tr th {\n        vertical-align: top;\n    }\n\n    .dataframe thead th {\n        text-align: right;\n    }\n</style>\n<table border=\"1\" class=\"dataframe\">\n  <thead>\n    <tr style=\"text-align: right;\">\n      <th></th>\n      <th>date</th>\n      <th>latitude</th>\n      <th>longitude</th>\n      <th>NO_ugm3</th>\n      <th>NO2_ugm3</th>\n      <th>O3_ugm3</th>\n      <th>CO_mgm3</th>\n      <th>CO2_mgm3</th>\n      <th>PM25_ugm3</th>\n    </tr>\n  </thead>\n  <tbody>\n    <tr>\n      <th>0</th>\n      <td>2021-05-06</td>\n      <td>53.301941</td>\n      <td>-6.297264</td>\n      <td>-3.915</td>\n      <td>4.311</td>\n      <td>NaN</td>\n      <td>0.540</td>\n      <td>799.317</td>\n      <td>1.915</td>\n    </tr>\n    <tr>\n      <th>1</th>\n      <td>2021-05-06</td>\n      <td>53.301961</td>\n      <td>-6.297326</td>\n      <td>-23.507</td>\n      <td>2.268</td>\n      <td>73.538</td>\n      <td>0.526</td>\n      <td>803.419</td>\n      <td>4.428</td>\n    </tr>\n    <tr>\n      <th>2</th>\n      <td>2021-05-06</td>\n      <td>53.301979</td>\n      <td>-6.297364</td>\n      <td>-17.819</td>\n      <td>7.120</td>\n      <td>NaN</td>\n      <td>0.543</td>\n      <td>807.597</td>\n      <td>6.649</td>\n    </tr>\n    <tr>\n      <th>3</th>\n      <td>2021-05-06</td>\n      <td>53.301982</td>\n      <td>-6.297372</td>\n      <td>-33.715</td>\n      <td>9.264</td>\n      <td>NaN</td>\n      <td>0.604</td>\n      <td>869.329</td>\n      <td>5.103</td>\n    </tr>\n    <tr>\n      <th>4</th>\n      <td>2021-05-06</td>\n      <td>53.301983</td>\n      <td>-6.297372</td>\n      <td>-22.023</td>\n      <td>8.941</td>\n      <td>NaN</td>\n      <td>0.583</td>\n      <td>840.557</td>\n      <td>4.223</td>\n    </tr>\n    <tr>\n      <th>...</th>\n      <td>...</td>\n      <td>...</td>\n      <td>...</td>\n      <td>...</td>\n      <td>...</td>\n      <td>...</td>\n      <td>...</td>\n      <td>...</td>\n      <td>...</td>\n    </tr>\n    <tr>\n      <th>3746162</th>\n      <td>2022-08-05</td>\n      <td>53.410741</td>\n      <td>-6.225471</td>\n      <td>-1.241</td>\n      <td>NaN</td>\n      <td>NaN</td>\n      <td>0.269</td>\n      <td>789.284</td>\n      <td>2.229</td>\n    </tr>\n    <tr>\n      <th>3746163</th>\n      <td>2022-08-05</td>\n      <td>53.410790</td>\n      <td>-6.225570</td>\n      <td>-9.979</td>\n      <td>NaN</td>\n      <td>NaN</td>\n      <td>0.264</td>\n      <td>791.036</td>\n      <td>6.281</td>\n    </tr>\n    <tr>\n      <th>3746164</th>\n      <td>2022-08-05</td>\n      <td>53.410829</td>\n      <td>-6.225673</td>\n      <td>-19.696</td>\n      <td>NaN</td>\n      <td>NaN</td>\n      <td>0.283</td>\n      <td>792.849</td>\n      <td>4.766</td>\n    </tr>\n    <tr>\n      <th>3746165</th>\n      <td>2022-08-05</td>\n      <td>53.410857</td>\n      <td>-6.225767</td>\n      <td>-37.213</td>\n      <td>NaN</td>\n      <td>NaN</td>\n      <td>0.291</td>\n      <td>794.705</td>\n      <td>3.051</td>\n    </tr>\n    <tr>\n      <th>3746166</th>\n      <td>2022-08-05</td>\n      <td>53.410879</td>\n      <td>-6.225858</td>\n      <td>-23.052</td>\n      <td>NaN</td>\n      <td>NaN</td>\n      <td>0.299</td>\n      <td>796.529</td>\n      <td>4.403</td>\n    </tr>\n  </tbody>\n</table>\n<p>3746167 rows × 9 columns</p>\n</div>"
     },
     "execution_count": 12,
     "metadata": {},
     "output_type": "execute_result"
    }
   ],
   "source": [
    "daily_average"
   ],
   "metadata": {
    "collapsed": false,
    "ExecuteTime": {
     "end_time": "2024-04-11T13:25:33.298265Z",
     "start_time": "2024-04-11T13:25:33.291457Z"
    }
   },
   "id": "7cd6965b50162b97",
   "execution_count": 12
  },
  {
   "cell_type": "code",
   "outputs": [
    {
     "data": {
      "text/plain": "<bound method DataFrame.drop of                date   latitude  longitude  NO_ugm3  NO2_ugm3  O3_ugm3  \\\n0        2021-05-06  53.301941  -6.297264   -3.915     4.311      NaN   \n1        2021-05-06  53.301961  -6.297326  -23.507     2.268   73.538   \n2        2021-05-06  53.301979  -6.297364  -17.819     7.120      NaN   \n3        2021-05-06  53.301982  -6.297372  -33.715     9.264      NaN   \n4        2021-05-06  53.301983  -6.297372  -22.023     8.941      NaN   \n...             ...        ...        ...      ...       ...      ...   \n3746162  2022-08-05  53.410741  -6.225471   -1.241       NaN      NaN   \n3746163  2022-08-05  53.410790  -6.225570   -9.979       NaN      NaN   \n3746164  2022-08-05  53.410829  -6.225673  -19.696       NaN      NaN   \n3746165  2022-08-05  53.410857  -6.225767  -37.213       NaN      NaN   \n3746166  2022-08-05  53.410879  -6.225858  -23.052       NaN      NaN   \n\n         CO_mgm3  CO2_mgm3  PM25_ugm3  \n0          0.540   799.317      1.915  \n1          0.526   803.419      4.428  \n2          0.543   807.597      6.649  \n3          0.604   869.329      5.103  \n4          0.583   840.557      4.223  \n...          ...       ...        ...  \n3746162    0.269   789.284      2.229  \n3746163    0.264   791.036      6.281  \n3746164    0.283   792.849      4.766  \n3746165    0.291   794.705      3.051  \n3746166    0.299   796.529      4.403  \n\n[3746167 rows x 9 columns]>"
     },
     "execution_count": 13,
     "metadata": {},
     "output_type": "execute_result"
    }
   ],
   "source": [
    "# drop NAs for ML\n",
    "daily_average.drop"
   ],
   "metadata": {
    "collapsed": false,
    "ExecuteTime": {
     "end_time": "2024-04-11T13:25:33.303928Z",
     "start_time": "2024-04-11T13:25:33.299271Z"
    }
   },
   "id": "c6956f6c1d906888",
   "execution_count": 13
  },
  {
   "cell_type": "markdown",
   "source": [
    "# Feature Expansion\n",
    "---\n",
    "First we are enriching the dataset with local weather data. We assume that these weather data could be good indicators to predict air pollution:\n",
    "-  Additional Weather Parameters for Air Quality Prediction:\n",
    "-  Humidity: Can influence the concentration and dispersion of air pollutants.\n",
    "-  Wind Speed: Affects the dispersion of pollutants; higher wind speeds can disperse pollutants more effectively.\n",
    "-  Cloud Cover: Influences solar radiation and, indirectly, chemical reactions in the atmosphere that can affect pollutants.\n",
    "- Precipitation (PrecipMM): Rain can remove pollutants from the air, improving air quality.\n",
    "-  Atmospheric Pressure: High pressure can lead to more stable atmospheric conditions, potentially trapping pollutants near the ground.\n",
    "\n",
    "For that we used the https://www.worldweatheronline.com/weather-api for Dublin "
   ],
   "metadata": {
    "collapsed": false
   },
   "id": "2c217ee2bdeb209c"
  },
  {
   "cell_type": "code",
   "outputs": [],
   "source": [
    "import requests\n",
    "import pandas as pd\n",
    "\n",
    "# API endpoint\n",
    "url = \"http://api.worldweatheronline.com/premium/v1/past-weather.ashx\"\n",
    "\n",
    "# Parameters\n",
    "params = {\n",
    "    \"key\": \"2b47535ff26a46f58c4124129241104\",  # Your API key\n",
    "    \"q\": \"Dublin\",  # Query location\n",
    "    \"format\": \"json\",\n",
    "    \"date\": \"2021-05-01\",  # Start date for historical data\n",
    "    \"enddate\": \"2022-08-31\",  # End date for historical data\n",
    "    \"includelocation\": \"yes\",\n",
    "    \"tp\": \"24\"  # Time period: 24 hours\n",
    "}\n",
    "\n",
    "# Making the GET request\n",
    "response = requests.get(url, params=params)\n",
    "\n",
    "# Check if the request was successful\n",
    "if response.status_code == 200:\n",
    "    # Parse the JSON response\n",
    "    data = response.json()\n",
    "    \n",
    "    # Extracting location data\n",
    "    location_data = data.get('data', {}).get('nearest_area', [{}])[0]\n",
    "    latitude = location_data.get('latitude', 'Unknown')\n",
    "    longitude = location_data.get('longitude', 'Unknown')\n",
    "    \n",
    "    # Extracting the weather data\n",
    "    weather_data = data.get('data', {}).get('weather', [])\n",
    "    \n",
    "    # Creating a list to store each day's weather information\n",
    "    weather_list = []\n",
    "    \n",
    "    for day in weather_data:\n",
    "        # For each day, create a dictionary with more detailed weather data\n",
    "        hourly_data = day.get('hourly', [{}])[0]  # Assuming first entry contains summary data for the day\n",
    "        day_data = {\n",
    "            'date': day['date'],\n",
    "            'avgtempC': day['avgtempC'],\n",
    "            'maxtempC': day['maxtempC'],\n",
    "            'mintempC': day['mintempC'],\n",
    "            'sunHour': day['sunHour'],\n",
    "            'uvIndex': day['uvIndex'],\n",
    "            'humidity': hourly_data['humidity'],\n",
    "            'windspeedKmph': hourly_data['windspeedKmph'],\n",
    "            'cloudcover': hourly_data['cloudcover'],\n",
    "            'precipMM': hourly_data['precipMM'],  # Precipitation can also influence air quality\n",
    "            'pressure': hourly_data['pressure'],  # Atmospheric pressure can affect air pollutant dispersion\n",
    "            'latitude': latitude,\n",
    "            'longitude': longitude,\n",
    "        }\n",
    "        weather_list.append(day_data)\n",
    "    \n",
    "    # Convert the list of dictionaries to a pandas DataFrame\n",
    "    weather_df = pd.DataFrame(weather_list)\n",
    "    \n",
    "    # print(weather_df.head())  # Print the first few rows to verify\n",
    "    \n",
    "    # Optionally, save the DataFrame to a CSV file\n",
    "    # weather_df.to_csv('dublin_weather_may2021_aug2022_extended.csv', index=False)\n",
    "else:\n",
    "    print(\"Failed to fetch data. Status Code:\", response.status_code)"
   ],
   "metadata": {
    "collapsed": false,
    "ExecuteTime": {
     "end_time": "2024-04-11T13:25:33.536063Z",
     "start_time": "2024-04-11T13:25:33.304775Z"
    }
   },
   "id": "fd46356a808ffe4f",
   "execution_count": 14
  },
  {
   "cell_type": "code",
   "outputs": [
    {
     "data": {
      "text/plain": "               date   latitude  longitude  NO_ugm3  NO2_ugm3  O3_ugm3  \\\n0        2021-05-06  53.301941  -6.297264   -3.915     4.311      NaN   \n1        2021-05-06  53.301961  -6.297326  -23.507     2.268   73.538   \n2        2021-05-06  53.301979  -6.297364  -17.819     7.120      NaN   \n3        2021-05-06  53.301982  -6.297372  -33.715     9.264      NaN   \n4        2021-05-06  53.301983  -6.297372  -22.023     8.941      NaN   \n...             ...        ...        ...      ...       ...      ...   \n3746162  2022-08-05  53.410741  -6.225471   -1.241       NaN      NaN   \n3746163  2022-08-05  53.410790  -6.225570   -9.979       NaN      NaN   \n3746164  2022-08-05  53.410829  -6.225673  -19.696       NaN      NaN   \n3746165  2022-08-05  53.410857  -6.225767  -37.213       NaN      NaN   \n3746166  2022-08-05  53.410879  -6.225858  -23.052       NaN      NaN   \n\n         CO_mgm3  CO2_mgm3  PM25_ugm3  \n0          0.540   799.317      1.915  \n1          0.526   803.419      4.428  \n2          0.543   807.597      6.649  \n3          0.604   869.329      5.103  \n4          0.583   840.557      4.223  \n...          ...       ...        ...  \n3746162    0.269   789.284      2.229  \n3746163    0.264   791.036      6.281  \n3746164    0.283   792.849      4.766  \n3746165    0.291   794.705      3.051  \n3746166    0.299   796.529      4.403  \n\n[3746167 rows x 9 columns]",
      "text/html": "<div>\n<style scoped>\n    .dataframe tbody tr th:only-of-type {\n        vertical-align: middle;\n    }\n\n    .dataframe tbody tr th {\n        vertical-align: top;\n    }\n\n    .dataframe thead th {\n        text-align: right;\n    }\n</style>\n<table border=\"1\" class=\"dataframe\">\n  <thead>\n    <tr style=\"text-align: right;\">\n      <th></th>\n      <th>date</th>\n      <th>latitude</th>\n      <th>longitude</th>\n      <th>NO_ugm3</th>\n      <th>NO2_ugm3</th>\n      <th>O3_ugm3</th>\n      <th>CO_mgm3</th>\n      <th>CO2_mgm3</th>\n      <th>PM25_ugm3</th>\n    </tr>\n  </thead>\n  <tbody>\n    <tr>\n      <th>0</th>\n      <td>2021-05-06</td>\n      <td>53.301941</td>\n      <td>-6.297264</td>\n      <td>-3.915</td>\n      <td>4.311</td>\n      <td>NaN</td>\n      <td>0.540</td>\n      <td>799.317</td>\n      <td>1.915</td>\n    </tr>\n    <tr>\n      <th>1</th>\n      <td>2021-05-06</td>\n      <td>53.301961</td>\n      <td>-6.297326</td>\n      <td>-23.507</td>\n      <td>2.268</td>\n      <td>73.538</td>\n      <td>0.526</td>\n      <td>803.419</td>\n      <td>4.428</td>\n    </tr>\n    <tr>\n      <th>2</th>\n      <td>2021-05-06</td>\n      <td>53.301979</td>\n      <td>-6.297364</td>\n      <td>-17.819</td>\n      <td>7.120</td>\n      <td>NaN</td>\n      <td>0.543</td>\n      <td>807.597</td>\n      <td>6.649</td>\n    </tr>\n    <tr>\n      <th>3</th>\n      <td>2021-05-06</td>\n      <td>53.301982</td>\n      <td>-6.297372</td>\n      <td>-33.715</td>\n      <td>9.264</td>\n      <td>NaN</td>\n      <td>0.604</td>\n      <td>869.329</td>\n      <td>5.103</td>\n    </tr>\n    <tr>\n      <th>4</th>\n      <td>2021-05-06</td>\n      <td>53.301983</td>\n      <td>-6.297372</td>\n      <td>-22.023</td>\n      <td>8.941</td>\n      <td>NaN</td>\n      <td>0.583</td>\n      <td>840.557</td>\n      <td>4.223</td>\n    </tr>\n    <tr>\n      <th>...</th>\n      <td>...</td>\n      <td>...</td>\n      <td>...</td>\n      <td>...</td>\n      <td>...</td>\n      <td>...</td>\n      <td>...</td>\n      <td>...</td>\n      <td>...</td>\n    </tr>\n    <tr>\n      <th>3746162</th>\n      <td>2022-08-05</td>\n      <td>53.410741</td>\n      <td>-6.225471</td>\n      <td>-1.241</td>\n      <td>NaN</td>\n      <td>NaN</td>\n      <td>0.269</td>\n      <td>789.284</td>\n      <td>2.229</td>\n    </tr>\n    <tr>\n      <th>3746163</th>\n      <td>2022-08-05</td>\n      <td>53.410790</td>\n      <td>-6.225570</td>\n      <td>-9.979</td>\n      <td>NaN</td>\n      <td>NaN</td>\n      <td>0.264</td>\n      <td>791.036</td>\n      <td>6.281</td>\n    </tr>\n    <tr>\n      <th>3746164</th>\n      <td>2022-08-05</td>\n      <td>53.410829</td>\n      <td>-6.225673</td>\n      <td>-19.696</td>\n      <td>NaN</td>\n      <td>NaN</td>\n      <td>0.283</td>\n      <td>792.849</td>\n      <td>4.766</td>\n    </tr>\n    <tr>\n      <th>3746165</th>\n      <td>2022-08-05</td>\n      <td>53.410857</td>\n      <td>-6.225767</td>\n      <td>-37.213</td>\n      <td>NaN</td>\n      <td>NaN</td>\n      <td>0.291</td>\n      <td>794.705</td>\n      <td>3.051</td>\n    </tr>\n    <tr>\n      <th>3746166</th>\n      <td>2022-08-05</td>\n      <td>53.410879</td>\n      <td>-6.225858</td>\n      <td>-23.052</td>\n      <td>NaN</td>\n      <td>NaN</td>\n      <td>0.299</td>\n      <td>796.529</td>\n      <td>4.403</td>\n    </tr>\n  </tbody>\n</table>\n<p>3746167 rows × 9 columns</p>\n</div>"
     },
     "execution_count": 22,
     "metadata": {},
     "output_type": "execute_result"
    }
   ],
   "source": [
    "# convert \n",
    "daily_average"
   ],
   "metadata": {
    "collapsed": false,
    "ExecuteTime": {
     "end_time": "2024-04-11T13:26:13.089657Z",
     "start_time": "2024-04-11T13:26:13.082539Z"
    }
   },
   "id": "7e6d9641f21f09c3",
   "execution_count": 22
  },
  {
   "cell_type": "code",
   "outputs": [
    {
     "data": {
      "text/plain": "Empty DataFrame\nColumns: [date, avgtempC, maxtempC, mintempC, sunHour, uvIndex, humidity, windspeedKmph, cloudcover, precipMM, pressure, latitude_x, longitude_x, latitude_y, longitude_y, NO_ugm3, NO2_ugm3, O3_ugm3, CO_mgm3, CO2_mgm3, PM25_ugm3]\nIndex: []\n\n[0 rows x 21 columns]",
      "text/html": "<div>\n<style scoped>\n    .dataframe tbody tr th:only-of-type {\n        vertical-align: middle;\n    }\n\n    .dataframe tbody tr th {\n        vertical-align: top;\n    }\n\n    .dataframe thead th {\n        text-align: right;\n    }\n</style>\n<table border=\"1\" class=\"dataframe\">\n  <thead>\n    <tr style=\"text-align: right;\">\n      <th></th>\n      <th>date</th>\n      <th>avgtempC</th>\n      <th>maxtempC</th>\n      <th>mintempC</th>\n      <th>sunHour</th>\n      <th>uvIndex</th>\n      <th>humidity</th>\n      <th>windspeedKmph</th>\n      <th>cloudcover</th>\n      <th>precipMM</th>\n      <th>...</th>\n      <th>latitude_x</th>\n      <th>longitude_x</th>\n      <th>latitude_y</th>\n      <th>longitude_y</th>\n      <th>NO_ugm3</th>\n      <th>NO2_ugm3</th>\n      <th>O3_ugm3</th>\n      <th>CO_mgm3</th>\n      <th>CO2_mgm3</th>\n      <th>PM25_ugm3</th>\n    </tr>\n  </thead>\n  <tbody>\n  </tbody>\n</table>\n<p>0 rows × 21 columns</p>\n</div>"
     },
     "execution_count": 24,
     "metadata": {},
     "output_type": "execute_result"
    }
   ],
   "source": [
    "# merging with air pollution dataset\n",
    "\n",
    "# Merge the dataframes on the 'date' column, using an inner join\n",
    "merged_df = pd.merge(weather_df, daily_average, on='date', how='inner')\n",
    "\n",
    "# Check the result\n",
    "merged_df.head()"
   ],
   "metadata": {
    "collapsed": false,
    "ExecuteTime": {
     "end_time": "2024-04-11T13:26:50.223165Z",
     "start_time": "2024-04-11T13:26:49.779073Z"
    }
   },
   "id": "7f4a115e6ad37cb9",
   "execution_count": 24
  },
  {
   "cell_type": "markdown",
   "source": [
    "In this iPython notebook, the Overpass API from Open Street Maps is used to determine the location of all traffic signals within a given bounding box. The Overpy library is used to send the request to the API and this call returns the latitude and longitude of all traffic signals. Next, the distance between each traffic intersection and each point in the monitoring data is measured. A traffic score is calculated as the 'Number of traffic intersections within a 1,000 ft buffer' to each point in the monitoring data\n",
    "\n",
    "The second section of this notebook uses the Overpass API to get the latitude and longitude of all points within a bounding box classified as a highway. Next, the distance from each monitoring location to the closest highway is determined. "
   ],
   "metadata": {
    "collapsed": false
   },
   "id": "97a69c00ba9379ed"
  },
  {
   "cell_type": "code",
   "outputs": [],
   "source": [
    "#Import python packages including overpy\n",
    "import overpy\n",
    "import pandas as pd\n",
    "import numpy as np\n",
    "import matplotlib.pyplot as plt\n",
    "import geopandas as gpd\n",
    "from shapely.geometry import Point, Polygon\n",
    "from shapely.ops import nearest_points\n",
    "\n",
    "import seaborn as sns\n",
    "\n",
    "from mpl_toolkits.axes_grid1 import make_axes_locatable\n",
    "\n",
    "import math\n",
    "\n",
    "import time\n",
    "\n",
    "\n",
    "from scipy.stats import boxcox\n",
    "\n",
    "\n",
    "from matplotlib import cm\n",
    "\n",
    "import matplotlib.lines as mlines\n",
    "\n",
    "sns.set(style = 'whitegrid')\n",
    "sns.set_palette('bright')\n",
    "%matplotlib inline"
   ],
   "metadata": {
    "collapsed": false,
    "ExecuteTime": {
     "end_time": "2024-04-11T13:25:33.984419Z",
     "start_time": "2024-04-11T13:25:33.795020Z"
    }
   },
   "id": "1a3a729a618ac37f",
   "execution_count": 16
  },
  {
   "cell_type": "markdown",
   "source": [
    "# <b> <font size = 5> Fetch all nodes using the API Query. Here the node is specified as 'Highway=traffic_signals' </b> </font> "
   ],
   "metadata": {
    "collapsed": false
   },
   "id": "a7fe5d69fdf5c746"
  },
  {
   "cell_type": "code",
   "outputs": [],
   "source": [
    "#Call overpass API and pass bounding box. \n",
    "api = overpy.Overpass()\n",
    "result = api.query(\"\"\"\n",
    "    node(-6.314427,53.322431,-6.207662,53.36923) [\"highway\"=\"traffic_signals\"];\n",
    "    (._;>;);\n",
    "    out body;\n",
    "    \"\"\")\n",
    "traffic_lat = []\n",
    "traffic_lon = []\n",
    "for node in result.nodes:\n",
    "    traffic_lat.append(node.lat)\n",
    "    traffic_lon.append(node.lon)"
   ],
   "metadata": {
    "collapsed": false,
    "ExecuteTime": {
     "end_time": "2024-04-11T13:25:34.874961Z",
     "start_time": "2024-04-11T13:25:33.985197Z"
    }
   },
   "id": "8732ed3746258faf",
   "execution_count": 17
  },
  {
   "cell_type": "code",
   "outputs": [
    {
     "data": {
      "text/plain": "[]"
     },
     "execution_count": 18,
     "metadata": {},
     "output_type": "execute_result"
    }
   ],
   "source": [
    "traffic_lat"
   ],
   "metadata": {
    "collapsed": false,
    "ExecuteTime": {
     "end_time": "2024-04-11T13:25:34.882769Z",
     "start_time": "2024-04-11T13:25:34.877176Z"
    }
   },
   "id": "47c069f12dbc1746",
   "execution_count": 18
  },
  {
   "cell_type": "code",
   "outputs": [],
   "source": [
    "#Write Latitude and Longitude data to a dataframe\n",
    "traffic_df = pd.DataFrame(list(zip(traffic_lat, traffic_lon)), columns = ['Latitude', 'Longitude'])"
   ],
   "metadata": {
    "collapsed": false,
    "ExecuteTime": {
     "end_time": "2024-04-11T13:25:34.888745Z",
     "start_time": "2024-04-11T13:25:34.884096Z"
    }
   },
   "id": "6efad798d48df460",
   "execution_count": 19
  },
  {
   "cell_type": "markdown",
   "source": [
    "##### Write to csv\n",
    "traffic_df.to_csv(\"Data/Raw-data/all_traffic_intersections.csv\")"
   ],
   "metadata": {
    "collapsed": false
   },
   "id": "e43d02f935ecbccc"
  },
  {
   "cell_type": "markdown",
   "source": [
    "# <b> <font size = 5>  Load traffic intersection data</b> </font>"
   ],
   "metadata": {
    "collapsed": false
   },
   "id": "493fa4a9084d81fb"
  },
  {
   "cell_type": "code",
   "outputs": [
    {
     "ename": "FileNotFoundError",
     "evalue": "[Errno 2] No such file or directory: 'Data/Raw-data/all_traffic_intersections.csv'",
     "output_type": "error",
     "traceback": [
      "\u001B[0;31m---------------------------------------------------------------------------\u001B[0m",
      "\u001B[0;31mFileNotFoundError\u001B[0m                         Traceback (most recent call last)",
      "Cell \u001B[0;32mIn[20], line 1\u001B[0m\n\u001B[0;32m----> 1\u001B[0m traffic_df \u001B[38;5;241m=\u001B[39m \u001B[43mpd\u001B[49m\u001B[38;5;241;43m.\u001B[39;49m\u001B[43mread_csv\u001B[49m\u001B[43m(\u001B[49m\u001B[38;5;124;43m\"\u001B[39;49m\u001B[38;5;124;43mData/Raw-data/all_traffic_intersections.csv\u001B[39;49m\u001B[38;5;124;43m\"\u001B[39;49m\u001B[43m)\u001B[49m\n",
      "File \u001B[0;32m~/anaconda3/envs/ml/lib/python3.11/site-packages/pandas/io/parsers/readers.py:1024\u001B[0m, in \u001B[0;36mread_csv\u001B[0;34m(filepath_or_buffer, sep, delimiter, header, names, index_col, usecols, dtype, engine, converters, true_values, false_values, skipinitialspace, skiprows, skipfooter, nrows, na_values, keep_default_na, na_filter, verbose, skip_blank_lines, parse_dates, infer_datetime_format, keep_date_col, date_parser, date_format, dayfirst, cache_dates, iterator, chunksize, compression, thousands, decimal, lineterminator, quotechar, quoting, doublequote, escapechar, comment, encoding, encoding_errors, dialect, on_bad_lines, delim_whitespace, low_memory, memory_map, float_precision, storage_options, dtype_backend)\u001B[0m\n\u001B[1;32m   1011\u001B[0m kwds_defaults \u001B[38;5;241m=\u001B[39m _refine_defaults_read(\n\u001B[1;32m   1012\u001B[0m     dialect,\n\u001B[1;32m   1013\u001B[0m     delimiter,\n\u001B[0;32m   (...)\u001B[0m\n\u001B[1;32m   1020\u001B[0m     dtype_backend\u001B[38;5;241m=\u001B[39mdtype_backend,\n\u001B[1;32m   1021\u001B[0m )\n\u001B[1;32m   1022\u001B[0m kwds\u001B[38;5;241m.\u001B[39mupdate(kwds_defaults)\n\u001B[0;32m-> 1024\u001B[0m \u001B[38;5;28;01mreturn\u001B[39;00m \u001B[43m_read\u001B[49m\u001B[43m(\u001B[49m\u001B[43mfilepath_or_buffer\u001B[49m\u001B[43m,\u001B[49m\u001B[43m \u001B[49m\u001B[43mkwds\u001B[49m\u001B[43m)\u001B[49m\n",
      "File \u001B[0;32m~/anaconda3/envs/ml/lib/python3.11/site-packages/pandas/io/parsers/readers.py:618\u001B[0m, in \u001B[0;36m_read\u001B[0;34m(filepath_or_buffer, kwds)\u001B[0m\n\u001B[1;32m    615\u001B[0m _validate_names(kwds\u001B[38;5;241m.\u001B[39mget(\u001B[38;5;124m\"\u001B[39m\u001B[38;5;124mnames\u001B[39m\u001B[38;5;124m\"\u001B[39m, \u001B[38;5;28;01mNone\u001B[39;00m))\n\u001B[1;32m    617\u001B[0m \u001B[38;5;66;03m# Create the parser.\u001B[39;00m\n\u001B[0;32m--> 618\u001B[0m parser \u001B[38;5;241m=\u001B[39m \u001B[43mTextFileReader\u001B[49m\u001B[43m(\u001B[49m\u001B[43mfilepath_or_buffer\u001B[49m\u001B[43m,\u001B[49m\u001B[43m \u001B[49m\u001B[38;5;241;43m*\u001B[39;49m\u001B[38;5;241;43m*\u001B[39;49m\u001B[43mkwds\u001B[49m\u001B[43m)\u001B[49m\n\u001B[1;32m    620\u001B[0m \u001B[38;5;28;01mif\u001B[39;00m chunksize \u001B[38;5;129;01mor\u001B[39;00m iterator:\n\u001B[1;32m    621\u001B[0m     \u001B[38;5;28;01mreturn\u001B[39;00m parser\n",
      "File \u001B[0;32m~/anaconda3/envs/ml/lib/python3.11/site-packages/pandas/io/parsers/readers.py:1618\u001B[0m, in \u001B[0;36mTextFileReader.__init__\u001B[0;34m(self, f, engine, **kwds)\u001B[0m\n\u001B[1;32m   1615\u001B[0m     \u001B[38;5;28mself\u001B[39m\u001B[38;5;241m.\u001B[39moptions[\u001B[38;5;124m\"\u001B[39m\u001B[38;5;124mhas_index_names\u001B[39m\u001B[38;5;124m\"\u001B[39m] \u001B[38;5;241m=\u001B[39m kwds[\u001B[38;5;124m\"\u001B[39m\u001B[38;5;124mhas_index_names\u001B[39m\u001B[38;5;124m\"\u001B[39m]\n\u001B[1;32m   1617\u001B[0m \u001B[38;5;28mself\u001B[39m\u001B[38;5;241m.\u001B[39mhandles: IOHandles \u001B[38;5;241m|\u001B[39m \u001B[38;5;28;01mNone\u001B[39;00m \u001B[38;5;241m=\u001B[39m \u001B[38;5;28;01mNone\u001B[39;00m\n\u001B[0;32m-> 1618\u001B[0m \u001B[38;5;28mself\u001B[39m\u001B[38;5;241m.\u001B[39m_engine \u001B[38;5;241m=\u001B[39m \u001B[38;5;28;43mself\u001B[39;49m\u001B[38;5;241;43m.\u001B[39;49m\u001B[43m_make_engine\u001B[49m\u001B[43m(\u001B[49m\u001B[43mf\u001B[49m\u001B[43m,\u001B[49m\u001B[43m \u001B[49m\u001B[38;5;28;43mself\u001B[39;49m\u001B[38;5;241;43m.\u001B[39;49m\u001B[43mengine\u001B[49m\u001B[43m)\u001B[49m\n",
      "File \u001B[0;32m~/anaconda3/envs/ml/lib/python3.11/site-packages/pandas/io/parsers/readers.py:1878\u001B[0m, in \u001B[0;36mTextFileReader._make_engine\u001B[0;34m(self, f, engine)\u001B[0m\n\u001B[1;32m   1876\u001B[0m     \u001B[38;5;28;01mif\u001B[39;00m \u001B[38;5;124m\"\u001B[39m\u001B[38;5;124mb\u001B[39m\u001B[38;5;124m\"\u001B[39m \u001B[38;5;129;01mnot\u001B[39;00m \u001B[38;5;129;01min\u001B[39;00m mode:\n\u001B[1;32m   1877\u001B[0m         mode \u001B[38;5;241m+\u001B[39m\u001B[38;5;241m=\u001B[39m \u001B[38;5;124m\"\u001B[39m\u001B[38;5;124mb\u001B[39m\u001B[38;5;124m\"\u001B[39m\n\u001B[0;32m-> 1878\u001B[0m \u001B[38;5;28mself\u001B[39m\u001B[38;5;241m.\u001B[39mhandles \u001B[38;5;241m=\u001B[39m \u001B[43mget_handle\u001B[49m\u001B[43m(\u001B[49m\n\u001B[1;32m   1879\u001B[0m \u001B[43m    \u001B[49m\u001B[43mf\u001B[49m\u001B[43m,\u001B[49m\n\u001B[1;32m   1880\u001B[0m \u001B[43m    \u001B[49m\u001B[43mmode\u001B[49m\u001B[43m,\u001B[49m\n\u001B[1;32m   1881\u001B[0m \u001B[43m    \u001B[49m\u001B[43mencoding\u001B[49m\u001B[38;5;241;43m=\u001B[39;49m\u001B[38;5;28;43mself\u001B[39;49m\u001B[38;5;241;43m.\u001B[39;49m\u001B[43moptions\u001B[49m\u001B[38;5;241;43m.\u001B[39;49m\u001B[43mget\u001B[49m\u001B[43m(\u001B[49m\u001B[38;5;124;43m\"\u001B[39;49m\u001B[38;5;124;43mencoding\u001B[39;49m\u001B[38;5;124;43m\"\u001B[39;49m\u001B[43m,\u001B[49m\u001B[43m \u001B[49m\u001B[38;5;28;43;01mNone\u001B[39;49;00m\u001B[43m)\u001B[49m\u001B[43m,\u001B[49m\n\u001B[1;32m   1882\u001B[0m \u001B[43m    \u001B[49m\u001B[43mcompression\u001B[49m\u001B[38;5;241;43m=\u001B[39;49m\u001B[38;5;28;43mself\u001B[39;49m\u001B[38;5;241;43m.\u001B[39;49m\u001B[43moptions\u001B[49m\u001B[38;5;241;43m.\u001B[39;49m\u001B[43mget\u001B[49m\u001B[43m(\u001B[49m\u001B[38;5;124;43m\"\u001B[39;49m\u001B[38;5;124;43mcompression\u001B[39;49m\u001B[38;5;124;43m\"\u001B[39;49m\u001B[43m,\u001B[49m\u001B[43m \u001B[49m\u001B[38;5;28;43;01mNone\u001B[39;49;00m\u001B[43m)\u001B[49m\u001B[43m,\u001B[49m\n\u001B[1;32m   1883\u001B[0m \u001B[43m    \u001B[49m\u001B[43mmemory_map\u001B[49m\u001B[38;5;241;43m=\u001B[39;49m\u001B[38;5;28;43mself\u001B[39;49m\u001B[38;5;241;43m.\u001B[39;49m\u001B[43moptions\u001B[49m\u001B[38;5;241;43m.\u001B[39;49m\u001B[43mget\u001B[49m\u001B[43m(\u001B[49m\u001B[38;5;124;43m\"\u001B[39;49m\u001B[38;5;124;43mmemory_map\u001B[39;49m\u001B[38;5;124;43m\"\u001B[39;49m\u001B[43m,\u001B[49m\u001B[43m \u001B[49m\u001B[38;5;28;43;01mFalse\u001B[39;49;00m\u001B[43m)\u001B[49m\u001B[43m,\u001B[49m\n\u001B[1;32m   1884\u001B[0m \u001B[43m    \u001B[49m\u001B[43mis_text\u001B[49m\u001B[38;5;241;43m=\u001B[39;49m\u001B[43mis_text\u001B[49m\u001B[43m,\u001B[49m\n\u001B[1;32m   1885\u001B[0m \u001B[43m    \u001B[49m\u001B[43merrors\u001B[49m\u001B[38;5;241;43m=\u001B[39;49m\u001B[38;5;28;43mself\u001B[39;49m\u001B[38;5;241;43m.\u001B[39;49m\u001B[43moptions\u001B[49m\u001B[38;5;241;43m.\u001B[39;49m\u001B[43mget\u001B[49m\u001B[43m(\u001B[49m\u001B[38;5;124;43m\"\u001B[39;49m\u001B[38;5;124;43mencoding_errors\u001B[39;49m\u001B[38;5;124;43m\"\u001B[39;49m\u001B[43m,\u001B[49m\u001B[43m \u001B[49m\u001B[38;5;124;43m\"\u001B[39;49m\u001B[38;5;124;43mstrict\u001B[39;49m\u001B[38;5;124;43m\"\u001B[39;49m\u001B[43m)\u001B[49m\u001B[43m,\u001B[49m\n\u001B[1;32m   1886\u001B[0m \u001B[43m    \u001B[49m\u001B[43mstorage_options\u001B[49m\u001B[38;5;241;43m=\u001B[39;49m\u001B[38;5;28;43mself\u001B[39;49m\u001B[38;5;241;43m.\u001B[39;49m\u001B[43moptions\u001B[49m\u001B[38;5;241;43m.\u001B[39;49m\u001B[43mget\u001B[49m\u001B[43m(\u001B[49m\u001B[38;5;124;43m\"\u001B[39;49m\u001B[38;5;124;43mstorage_options\u001B[39;49m\u001B[38;5;124;43m\"\u001B[39;49m\u001B[43m,\u001B[49m\u001B[43m \u001B[49m\u001B[38;5;28;43;01mNone\u001B[39;49;00m\u001B[43m)\u001B[49m\u001B[43m,\u001B[49m\n\u001B[1;32m   1887\u001B[0m \u001B[43m\u001B[49m\u001B[43m)\u001B[49m\n\u001B[1;32m   1888\u001B[0m \u001B[38;5;28;01massert\u001B[39;00m \u001B[38;5;28mself\u001B[39m\u001B[38;5;241m.\u001B[39mhandles \u001B[38;5;129;01mis\u001B[39;00m \u001B[38;5;129;01mnot\u001B[39;00m \u001B[38;5;28;01mNone\u001B[39;00m\n\u001B[1;32m   1889\u001B[0m f \u001B[38;5;241m=\u001B[39m \u001B[38;5;28mself\u001B[39m\u001B[38;5;241m.\u001B[39mhandles\u001B[38;5;241m.\u001B[39mhandle\n",
      "File \u001B[0;32m~/anaconda3/envs/ml/lib/python3.11/site-packages/pandas/io/common.py:873\u001B[0m, in \u001B[0;36mget_handle\u001B[0;34m(path_or_buf, mode, encoding, compression, memory_map, is_text, errors, storage_options)\u001B[0m\n\u001B[1;32m    868\u001B[0m \u001B[38;5;28;01melif\u001B[39;00m \u001B[38;5;28misinstance\u001B[39m(handle, \u001B[38;5;28mstr\u001B[39m):\n\u001B[1;32m    869\u001B[0m     \u001B[38;5;66;03m# Check whether the filename is to be opened in binary mode.\u001B[39;00m\n\u001B[1;32m    870\u001B[0m     \u001B[38;5;66;03m# Binary mode does not support 'encoding' and 'newline'.\u001B[39;00m\n\u001B[1;32m    871\u001B[0m     \u001B[38;5;28;01mif\u001B[39;00m ioargs\u001B[38;5;241m.\u001B[39mencoding \u001B[38;5;129;01mand\u001B[39;00m \u001B[38;5;124m\"\u001B[39m\u001B[38;5;124mb\u001B[39m\u001B[38;5;124m\"\u001B[39m \u001B[38;5;129;01mnot\u001B[39;00m \u001B[38;5;129;01min\u001B[39;00m ioargs\u001B[38;5;241m.\u001B[39mmode:\n\u001B[1;32m    872\u001B[0m         \u001B[38;5;66;03m# Encoding\u001B[39;00m\n\u001B[0;32m--> 873\u001B[0m         handle \u001B[38;5;241m=\u001B[39m \u001B[38;5;28;43mopen\u001B[39;49m\u001B[43m(\u001B[49m\n\u001B[1;32m    874\u001B[0m \u001B[43m            \u001B[49m\u001B[43mhandle\u001B[49m\u001B[43m,\u001B[49m\n\u001B[1;32m    875\u001B[0m \u001B[43m            \u001B[49m\u001B[43mioargs\u001B[49m\u001B[38;5;241;43m.\u001B[39;49m\u001B[43mmode\u001B[49m\u001B[43m,\u001B[49m\n\u001B[1;32m    876\u001B[0m \u001B[43m            \u001B[49m\u001B[43mencoding\u001B[49m\u001B[38;5;241;43m=\u001B[39;49m\u001B[43mioargs\u001B[49m\u001B[38;5;241;43m.\u001B[39;49m\u001B[43mencoding\u001B[49m\u001B[43m,\u001B[49m\n\u001B[1;32m    877\u001B[0m \u001B[43m            \u001B[49m\u001B[43merrors\u001B[49m\u001B[38;5;241;43m=\u001B[39;49m\u001B[43merrors\u001B[49m\u001B[43m,\u001B[49m\n\u001B[1;32m    878\u001B[0m \u001B[43m            \u001B[49m\u001B[43mnewline\u001B[49m\u001B[38;5;241;43m=\u001B[39;49m\u001B[38;5;124;43m\"\u001B[39;49m\u001B[38;5;124;43m\"\u001B[39;49m\u001B[43m,\u001B[49m\n\u001B[1;32m    879\u001B[0m \u001B[43m        \u001B[49m\u001B[43m)\u001B[49m\n\u001B[1;32m    880\u001B[0m     \u001B[38;5;28;01melse\u001B[39;00m:\n\u001B[1;32m    881\u001B[0m         \u001B[38;5;66;03m# Binary mode\u001B[39;00m\n\u001B[1;32m    882\u001B[0m         handle \u001B[38;5;241m=\u001B[39m \u001B[38;5;28mopen\u001B[39m(handle, ioargs\u001B[38;5;241m.\u001B[39mmode)\n",
      "\u001B[0;31mFileNotFoundError\u001B[0m: [Errno 2] No such file or directory: 'Data/Raw-data/all_traffic_intersections.csv'"
     ]
    }
   ],
   "source": [
    "traffic_df = pd.read_csv(\"Data/Raw-data/all_traffic_intersections.csv\")"
   ],
   "metadata": {
    "collapsed": false,
    "ExecuteTime": {
     "end_time": "2024-04-11T13:25:35.034422Z",
     "start_time": "2024-04-11T13:25:34.891533Z"
    }
   },
   "id": "1b432f0eef7b98ff",
   "execution_count": 20
  },
  {
   "cell_type": "code",
   "outputs": [],
   "source": [
    "#Drop the first column\n",
    "traffic_df.drop(columns = ['Unnamed: 0'], inplace=True)"
   ],
   "metadata": {
    "collapsed": false
   },
   "id": "4564c71dcc8f235f",
   "execution_count": null
  },
  {
   "cell_type": "code",
   "outputs": [],
   "source": [
    "## Rename index and intersection number\n",
    "traffic_df.rename(columns = {'index':'Intersection'}, inplace=True)"
   ],
   "metadata": {
    "collapsed": false
   },
   "id": "f10a6be6a3b952a9",
   "execution_count": null
  },
  {
   "cell_type": "code",
   "outputs": [],
   "source": [
    "### Add an empty column for distance\n",
    "traffic_df['dist'] = 0\n",
    "traffic_df['dist'].astype(float)"
   ],
   "metadata": {
    "collapsed": false
   },
   "id": "6b39fc170b35e0d",
   "execution_count": null
  },
  {
   "cell_type": "markdown",
   "source": [
    "# Traffic Count Data "
   ],
   "metadata": {
    "collapsed": false
   },
   "id": "31c8f80bf167401f"
  },
  {
   "cell_type": "code",
   "outputs": [
    {
     "data": {
      "text/plain": "         End_Time Region  Site  Detector  Sum_Volume  Avg_Volume  \\\n0  20210101000000    IRE  6042         2          16           1   \n1  20210101000000    IRE  6042         3           5           0   \n2  20210101000000    IRE  6042         6          23           1   \n3  20210101000000    IRE  6042         7          29           2   \n4  20210101000000    IRE  6042         8          13           1   \n\n   Weighted_Avg  Weighted_Var  Weighted_Std_Dev  \n0           NaN           NaN               NaN  \n1           NaN           NaN               NaN  \n2           NaN           NaN               NaN  \n3           NaN           NaN               NaN  \n4           NaN           NaN               NaN  ",
      "text/html": "<div>\n<style scoped>\n    .dataframe tbody tr th:only-of-type {\n        vertical-align: middle;\n    }\n\n    .dataframe tbody tr th {\n        vertical-align: top;\n    }\n\n    .dataframe thead th {\n        text-align: right;\n    }\n</style>\n<table border=\"1\" class=\"dataframe\">\n  <thead>\n    <tr style=\"text-align: right;\">\n      <th></th>\n      <th>End_Time</th>\n      <th>Region</th>\n      <th>Site</th>\n      <th>Detector</th>\n      <th>Sum_Volume</th>\n      <th>Avg_Volume</th>\n      <th>Weighted_Avg</th>\n      <th>Weighted_Var</th>\n      <th>Weighted_Std_Dev</th>\n    </tr>\n  </thead>\n  <tbody>\n    <tr>\n      <th>0</th>\n      <td>20210101000000</td>\n      <td>IRE</td>\n      <td>6042</td>\n      <td>2</td>\n      <td>16</td>\n      <td>1</td>\n      <td>NaN</td>\n      <td>NaN</td>\n      <td>NaN</td>\n    </tr>\n    <tr>\n      <th>1</th>\n      <td>20210101000000</td>\n      <td>IRE</td>\n      <td>6042</td>\n      <td>3</td>\n      <td>5</td>\n      <td>0</td>\n      <td>NaN</td>\n      <td>NaN</td>\n      <td>NaN</td>\n    </tr>\n    <tr>\n      <th>2</th>\n      <td>20210101000000</td>\n      <td>IRE</td>\n      <td>6042</td>\n      <td>6</td>\n      <td>23</td>\n      <td>1</td>\n      <td>NaN</td>\n      <td>NaN</td>\n      <td>NaN</td>\n    </tr>\n    <tr>\n      <th>3</th>\n      <td>20210101000000</td>\n      <td>IRE</td>\n      <td>6042</td>\n      <td>7</td>\n      <td>29</td>\n      <td>2</td>\n      <td>NaN</td>\n      <td>NaN</td>\n      <td>NaN</td>\n    </tr>\n    <tr>\n      <th>4</th>\n      <td>20210101000000</td>\n      <td>IRE</td>\n      <td>6042</td>\n      <td>8</td>\n      <td>13</td>\n      <td>1</td>\n      <td>NaN</td>\n      <td>NaN</td>\n      <td>NaN</td>\n    </tr>\n  </tbody>\n</table>\n</div>"
     },
     "execution_count": 1,
     "metadata": {},
     "output_type": "execute_result"
    }
   ],
   "source": [
    "import pandas as pd\n",
    "traffic_counts = pd.read_csv(\"data/SCATSJanuary2021.csv\")\n",
    "\n",
    "# Display the first few rows of the dataframe\n",
    "traffic_counts.head()"
   ],
   "metadata": {
    "collapsed": false,
    "ExecuteTime": {
     "end_time": "2024-04-11T13:35:40.834757Z",
     "start_time": "2024-04-11T13:35:37.667592Z"
    }
   },
   "id": "31693adb64df1b3c",
   "execution_count": 1
  },
  {
   "cell_type": "code",
   "outputs": [
    {
     "data": {
      "text/plain": "     SiteID                    Site_Description_Cap  \\\n820     964               NORTH CIRCULAR ROAD @ TUD   \n821     965  HOLE IN THE WALL / MARSFIELD BELMAYNE    \n822     968                     BRIDE ST @ BRIDE RD   \n823     974              BLACKHORSE AVE @ NEPHIN RD   \n824    1002           HEUSTON STATION ACCESS (LUAS)   \n\n                     Site_Description_Lower  Region        Lat      Long  \\\n820               north circular road @ tud  WCITY1  53.357519 -6.286843   \n821  hole in the wall / marsfield belmayne     DCC1  53.408150 -6.161950   \n822                     bride st @ bride rd   SCITY  53.341474 -6.270088   \n823              blackhorse ave @ nephin rd  WCITY1  53.362728 -6.311709   \n824           heuston station access (luas)   CCITY  53.347053 -6.291793   \n\n      Site_Type  \n820  SCATS Site  \n821  SCATS Site  \n822  SCATS Site  \n823  SCATS Site  \n824  SCATS Site  ",
      "text/html": "<div>\n<style scoped>\n    .dataframe tbody tr th:only-of-type {\n        vertical-align: middle;\n    }\n\n    .dataframe tbody tr th {\n        vertical-align: top;\n    }\n\n    .dataframe thead th {\n        text-align: right;\n    }\n</style>\n<table border=\"1\" class=\"dataframe\">\n  <thead>\n    <tr style=\"text-align: right;\">\n      <th></th>\n      <th>SiteID</th>\n      <th>Site_Description_Cap</th>\n      <th>Site_Description_Lower</th>\n      <th>Region</th>\n      <th>Lat</th>\n      <th>Long</th>\n      <th>Site_Type</th>\n    </tr>\n  </thead>\n  <tbody>\n    <tr>\n      <th>820</th>\n      <td>964</td>\n      <td>NORTH CIRCULAR ROAD @ TUD</td>\n      <td>north circular road @ tud</td>\n      <td>WCITY1</td>\n      <td>53.357519</td>\n      <td>-6.286843</td>\n      <td>SCATS Site</td>\n    </tr>\n    <tr>\n      <th>821</th>\n      <td>965</td>\n      <td>HOLE IN THE WALL / MARSFIELD BELMAYNE</td>\n      <td>hole in the wall / marsfield belmayne</td>\n      <td>DCC1</td>\n      <td>53.408150</td>\n      <td>-6.161950</td>\n      <td>SCATS Site</td>\n    </tr>\n    <tr>\n      <th>822</th>\n      <td>968</td>\n      <td>BRIDE ST @ BRIDE RD</td>\n      <td>bride st @ bride rd</td>\n      <td>SCITY</td>\n      <td>53.341474</td>\n      <td>-6.270088</td>\n      <td>SCATS Site</td>\n    </tr>\n    <tr>\n      <th>823</th>\n      <td>974</td>\n      <td>BLACKHORSE AVE @ NEPHIN RD</td>\n      <td>blackhorse ave @ nephin rd</td>\n      <td>WCITY1</td>\n      <td>53.362728</td>\n      <td>-6.311709</td>\n      <td>SCATS Site</td>\n    </tr>\n    <tr>\n      <th>824</th>\n      <td>1002</td>\n      <td>HEUSTON STATION ACCESS (LUAS)</td>\n      <td>heuston station access (luas)</td>\n      <td>CCITY</td>\n      <td>53.347053</td>\n      <td>-6.291793</td>\n      <td>SCATS Site</td>\n    </tr>\n  </tbody>\n</table>\n</div>"
     },
     "execution_count": 3,
     "metadata": {},
     "output_type": "execute_result"
    }
   ],
   "source": [
    "# load traffic signals for location data\n",
    "traffic_sites = pd.read_csv(\"data/dcc_traffic_signals_20221130.csv\")\n",
    "\n",
    "# Display the first few rows of the dataframe\n",
    "traffic_sites.tail()"
   ],
   "metadata": {
    "collapsed": false,
    "ExecuteTime": {
     "end_time": "2024-04-11T13:43:22.453855Z",
     "start_time": "2024-04-11T13:43:22.443706Z"
    }
   },
   "id": "e876a6e37c1dd4d5",
   "execution_count": 3
  },
  {
   "cell_type": "code",
   "outputs": [],
   "source": [],
   "metadata": {
    "collapsed": false
   },
   "id": "379ee850bcf3a1af"
  }
 ],
 "metadata": {
  "kernelspec": {
   "display_name": "Python 3",
   "language": "python",
   "name": "python3"
  },
  "language_info": {
   "codemirror_mode": {
    "name": "ipython",
    "version": 2
   },
   "file_extension": ".py",
   "mimetype": "text/x-python",
   "name": "python",
   "nbconvert_exporter": "python",
   "pygments_lexer": "ipython2",
   "version": "2.7.6"
  }
 },
 "nbformat": 4,
 "nbformat_minor": 5
}

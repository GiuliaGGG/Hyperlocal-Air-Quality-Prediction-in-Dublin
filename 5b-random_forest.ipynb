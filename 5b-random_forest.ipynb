{
 "cells": [
  {
   "cell_type": "markdown",
   "id": "51af35e6",
   "metadata": {},
   "source": [
    "\n",
    "# Predicting Air Pollution Levels using Random Forest\n",
    "\n",
    "This notebook demonstrates the steps to use a Random Forest model to predict air pollution levels.\n"
   ]
  },
  {
   "cell_type": "code",
   "outputs": [
    {
     "name": "stderr",
     "output_type": "stream",
     "text": [
      "/var/folders/96/d0b81fgx57nf5q8xrlw36p1w0000gn/T/ipykernel_85414/1382441439.py:2: DeprecationWarning: \n",
      "Pyarrow will become a required dependency of pandas in the next major release of pandas (pandas 3.0),\n",
      "(to allow more performant data types, such as the Arrow string type, and better interoperability with other libraries)\n",
      "but was not found to be installed on your system.\n",
      "If this would cause problems for you,\n",
      "please provide us feedback at https://github.com/pandas-dev/pandas/issues/54466\n",
      "        \n",
      "  import pandas as pd\n"
     ]
    }
   ],
   "source": [
    "# import necessary libraries\n",
    "import pandas as pd\n",
    "import numpy as np\n",
    "from sklearn.ensemble import RandomForestRegressor\n",
    "from sklearn.metrics import mean_squared_error, r2_score\n",
    "import matplotlib.pyplot as plt"
   ],
   "metadata": {
    "collapsed": false,
    "ExecuteTime": {
     "end_time": "2024-05-06T17:12:23.218887Z",
     "start_time": "2024-05-06T17:12:21.543541Z"
    }
   },
   "id": "2d0a6c6da3abe231",
   "execution_count": 2
  },
  {
   "cell_type": "markdown",
   "source": [
    "\n",
    "## Load Data\n",
    "\n",
    "Load your training and testing data from CSV files.\n"
   ],
   "metadata": {
    "collapsed": false
   },
   "id": "b99fd991ec6bbd98"
  },
  {
   "cell_type": "code",
   "outputs": [],
   "source": [
    "# Load training data\n",
    "train_data = pd.read_csv('prepped_data/train_data.csv')\n",
    "\n",
    "# Load testing data\n",
    "test_data = pd.read_csv('prepped_data/test_data.csv')"
   ],
   "metadata": {
    "collapsed": false,
    "ExecuteTime": {
     "end_time": "2024-05-07T19:49:09.584013Z",
     "start_time": "2024-05-07T19:49:09.215780Z"
    }
   },
   "id": "c97702e7c1d42a78",
   "execution_count": 6
  },
  {
   "cell_type": "code",
   "outputs": [
    {
     "data": {
      "text/plain": "             date    NO_ugm3   NO2_ugm3    O3_ugm3   CO_mgm3    CO2_mgm3  \\\n0      2021-05-06 -16.485096   4.267365  70.815263  0.275750  786.544417   \n1      2021-05-06  42.372065  30.017355  54.062545  0.284226  812.418643   \n2      2021-05-06   9.866286  22.328920  62.542684  0.289449  800.817056   \n3      2021-05-06  12.882471  23.080419  60.164121  0.292954  802.091506   \n4      2021-05-06  24.053745  26.399404  52.199647  0.318830  802.504068   \n...           ...        ...        ...        ...       ...         ...   \n35382  2022-04-29 -13.018833  20.744500  56.517333  0.614667  792.976200   \n35383  2022-04-29  22.585729  24.308723  59.316882  0.355894  802.139021   \n35384  2022-04-29  64.062625  39.713778  44.604667  0.361111  786.006375   \n35385  2022-04-29  -4.928278   1.075500  70.017143  0.337611  776.157769   \n35386  2022-04-29 -20.429500  -0.729750  71.318000  0.317333  778.745000   \n\n       PM25_ugm3  SiteID        Lat      Long  ...  DCC-AQ52-pm4  DCC-AQ6-pm4  \\\n0       3.815981     325  53.327618 -6.309232  ...          3.89         6.13   \n1       3.748469     325  53.327618 -6.309232  ...          3.36         5.10   \n2       3.922340      96  53.325333 -6.309004  ...          3.89         6.13   \n3       3.476367     629  53.326740 -6.313319  ...          3.36         5.10   \n4       4.964429     587  53.317764 -6.332609  ...          3.36         5.10   \n...          ...     ...        ...       ...  ...           ...          ...   \n35382  16.048500     843  53.348227 -6.301325  ...         18.68        18.12   \n35383  18.535245     503  53.341829 -6.307583  ...         18.68        18.12   \n35384  18.134556     211  53.342251 -6.349336  ...         18.68        18.12   \n35385  17.647368     553  53.342390 -6.338905  ...         18.68        18.12   \n35386  17.490250     551  53.342325 -6.354235  ...         18.68        18.12   \n\n       DCC-AQ1-so2  DCC-AQ13-so2  DCC-AQ22-so2  TNO2161-tsp  TNO2162-tsp  \\\n0             2.22         -0.40          0.51         0.18         7.07   \n1             2.07         -0.49          0.64         0.20         7.27   \n2             2.22         -0.40          0.51         0.18         7.07   \n3             2.07         -0.49          0.64         0.20         7.27   \n4             2.07         -0.49          0.64         0.20         7.27   \n...            ...           ...           ...          ...          ...   \n35382        -0.54         -0.76          2.56         2.15        18.79   \n35383        -0.54         -0.76          2.56         2.15        18.79   \n35384        -0.54         -0.76          2.56         2.15        18.79   \n35385        -0.54         -0.76          2.56         2.15        18.79   \n35386        -0.54         -0.76          2.56         2.15        18.79   \n\n       TNO4435-tsp  TNT1088-tsp  hour_y  \n0              8.9         8.78      14  \n1             11.2         4.30      13  \n2              8.9         8.78      14  \n3             11.2         4.30      13  \n4             11.2         4.30      13  \n...            ...          ...     ...  \n35382          NaN         6.50      10  \n35383          NaN         6.50      10  \n35384          NaN         6.50      10  \n35385          NaN         6.50      10  \n35386          NaN         6.50      10  \n\n[35387 rows x 93 columns]",
      "text/html": "<div>\n<style scoped>\n    .dataframe tbody tr th:only-of-type {\n        vertical-align: middle;\n    }\n\n    .dataframe tbody tr th {\n        vertical-align: top;\n    }\n\n    .dataframe thead th {\n        text-align: right;\n    }\n</style>\n<table border=\"1\" class=\"dataframe\">\n  <thead>\n    <tr style=\"text-align: right;\">\n      <th></th>\n      <th>date</th>\n      <th>NO_ugm3</th>\n      <th>NO2_ugm3</th>\n      <th>O3_ugm3</th>\n      <th>CO_mgm3</th>\n      <th>CO2_mgm3</th>\n      <th>PM25_ugm3</th>\n      <th>SiteID</th>\n      <th>Lat</th>\n      <th>Long</th>\n      <th>...</th>\n      <th>DCC-AQ52-pm4</th>\n      <th>DCC-AQ6-pm4</th>\n      <th>DCC-AQ1-so2</th>\n      <th>DCC-AQ13-so2</th>\n      <th>DCC-AQ22-so2</th>\n      <th>TNO2161-tsp</th>\n      <th>TNO2162-tsp</th>\n      <th>TNO4435-tsp</th>\n      <th>TNT1088-tsp</th>\n      <th>hour_y</th>\n    </tr>\n  </thead>\n  <tbody>\n    <tr>\n      <th>0</th>\n      <td>2021-05-06</td>\n      <td>-16.485096</td>\n      <td>4.267365</td>\n      <td>70.815263</td>\n      <td>0.275750</td>\n      <td>786.544417</td>\n      <td>3.815981</td>\n      <td>325</td>\n      <td>53.327618</td>\n      <td>-6.309232</td>\n      <td>...</td>\n      <td>3.89</td>\n      <td>6.13</td>\n      <td>2.22</td>\n      <td>-0.40</td>\n      <td>0.51</td>\n      <td>0.18</td>\n      <td>7.07</td>\n      <td>8.9</td>\n      <td>8.78</td>\n      <td>14</td>\n    </tr>\n    <tr>\n      <th>1</th>\n      <td>2021-05-06</td>\n      <td>42.372065</td>\n      <td>30.017355</td>\n      <td>54.062545</td>\n      <td>0.284226</td>\n      <td>812.418643</td>\n      <td>3.748469</td>\n      <td>325</td>\n      <td>53.327618</td>\n      <td>-6.309232</td>\n      <td>...</td>\n      <td>3.36</td>\n      <td>5.10</td>\n      <td>2.07</td>\n      <td>-0.49</td>\n      <td>0.64</td>\n      <td>0.20</td>\n      <td>7.27</td>\n      <td>11.2</td>\n      <td>4.30</td>\n      <td>13</td>\n    </tr>\n    <tr>\n      <th>2</th>\n      <td>2021-05-06</td>\n      <td>9.866286</td>\n      <td>22.328920</td>\n      <td>62.542684</td>\n      <td>0.289449</td>\n      <td>800.817056</td>\n      <td>3.922340</td>\n      <td>96</td>\n      <td>53.325333</td>\n      <td>-6.309004</td>\n      <td>...</td>\n      <td>3.89</td>\n      <td>6.13</td>\n      <td>2.22</td>\n      <td>-0.40</td>\n      <td>0.51</td>\n      <td>0.18</td>\n      <td>7.07</td>\n      <td>8.9</td>\n      <td>8.78</td>\n      <td>14</td>\n    </tr>\n    <tr>\n      <th>3</th>\n      <td>2021-05-06</td>\n      <td>12.882471</td>\n      <td>23.080419</td>\n      <td>60.164121</td>\n      <td>0.292954</td>\n      <td>802.091506</td>\n      <td>3.476367</td>\n      <td>629</td>\n      <td>53.326740</td>\n      <td>-6.313319</td>\n      <td>...</td>\n      <td>3.36</td>\n      <td>5.10</td>\n      <td>2.07</td>\n      <td>-0.49</td>\n      <td>0.64</td>\n      <td>0.20</td>\n      <td>7.27</td>\n      <td>11.2</td>\n      <td>4.30</td>\n      <td>13</td>\n    </tr>\n    <tr>\n      <th>4</th>\n      <td>2021-05-06</td>\n      <td>24.053745</td>\n      <td>26.399404</td>\n      <td>52.199647</td>\n      <td>0.318830</td>\n      <td>802.504068</td>\n      <td>4.964429</td>\n      <td>587</td>\n      <td>53.317764</td>\n      <td>-6.332609</td>\n      <td>...</td>\n      <td>3.36</td>\n      <td>5.10</td>\n      <td>2.07</td>\n      <td>-0.49</td>\n      <td>0.64</td>\n      <td>0.20</td>\n      <td>7.27</td>\n      <td>11.2</td>\n      <td>4.30</td>\n      <td>13</td>\n    </tr>\n    <tr>\n      <th>...</th>\n      <td>...</td>\n      <td>...</td>\n      <td>...</td>\n      <td>...</td>\n      <td>...</td>\n      <td>...</td>\n      <td>...</td>\n      <td>...</td>\n      <td>...</td>\n      <td>...</td>\n      <td>...</td>\n      <td>...</td>\n      <td>...</td>\n      <td>...</td>\n      <td>...</td>\n      <td>...</td>\n      <td>...</td>\n      <td>...</td>\n      <td>...</td>\n      <td>...</td>\n      <td>...</td>\n    </tr>\n    <tr>\n      <th>35382</th>\n      <td>2022-04-29</td>\n      <td>-13.018833</td>\n      <td>20.744500</td>\n      <td>56.517333</td>\n      <td>0.614667</td>\n      <td>792.976200</td>\n      <td>16.048500</td>\n      <td>843</td>\n      <td>53.348227</td>\n      <td>-6.301325</td>\n      <td>...</td>\n      <td>18.68</td>\n      <td>18.12</td>\n      <td>-0.54</td>\n      <td>-0.76</td>\n      <td>2.56</td>\n      <td>2.15</td>\n      <td>18.79</td>\n      <td>NaN</td>\n      <td>6.50</td>\n      <td>10</td>\n    </tr>\n    <tr>\n      <th>35383</th>\n      <td>2022-04-29</td>\n      <td>22.585729</td>\n      <td>24.308723</td>\n      <td>59.316882</td>\n      <td>0.355894</td>\n      <td>802.139021</td>\n      <td>18.535245</td>\n      <td>503</td>\n      <td>53.341829</td>\n      <td>-6.307583</td>\n      <td>...</td>\n      <td>18.68</td>\n      <td>18.12</td>\n      <td>-0.54</td>\n      <td>-0.76</td>\n      <td>2.56</td>\n      <td>2.15</td>\n      <td>18.79</td>\n      <td>NaN</td>\n      <td>6.50</td>\n      <td>10</td>\n    </tr>\n    <tr>\n      <th>35384</th>\n      <td>2022-04-29</td>\n      <td>64.062625</td>\n      <td>39.713778</td>\n      <td>44.604667</td>\n      <td>0.361111</td>\n      <td>786.006375</td>\n      <td>18.134556</td>\n      <td>211</td>\n      <td>53.342251</td>\n      <td>-6.349336</td>\n      <td>...</td>\n      <td>18.68</td>\n      <td>18.12</td>\n      <td>-0.54</td>\n      <td>-0.76</td>\n      <td>2.56</td>\n      <td>2.15</td>\n      <td>18.79</td>\n      <td>NaN</td>\n      <td>6.50</td>\n      <td>10</td>\n    </tr>\n    <tr>\n      <th>35385</th>\n      <td>2022-04-29</td>\n      <td>-4.928278</td>\n      <td>1.075500</td>\n      <td>70.017143</td>\n      <td>0.337611</td>\n      <td>776.157769</td>\n      <td>17.647368</td>\n      <td>553</td>\n      <td>53.342390</td>\n      <td>-6.338905</td>\n      <td>...</td>\n      <td>18.68</td>\n      <td>18.12</td>\n      <td>-0.54</td>\n      <td>-0.76</td>\n      <td>2.56</td>\n      <td>2.15</td>\n      <td>18.79</td>\n      <td>NaN</td>\n      <td>6.50</td>\n      <td>10</td>\n    </tr>\n    <tr>\n      <th>35386</th>\n      <td>2022-04-29</td>\n      <td>-20.429500</td>\n      <td>-0.729750</td>\n      <td>71.318000</td>\n      <td>0.317333</td>\n      <td>778.745000</td>\n      <td>17.490250</td>\n      <td>551</td>\n      <td>53.342325</td>\n      <td>-6.354235</td>\n      <td>...</td>\n      <td>18.68</td>\n      <td>18.12</td>\n      <td>-0.54</td>\n      <td>-0.76</td>\n      <td>2.56</td>\n      <td>2.15</td>\n      <td>18.79</td>\n      <td>NaN</td>\n      <td>6.50</td>\n      <td>10</td>\n    </tr>\n  </tbody>\n</table>\n<p>35387 rows × 93 columns</p>\n</div>"
     },
     "execution_count": 7,
     "metadata": {},
     "output_type": "execute_result"
    }
   ],
   "source": [
    "# Display the first few rows of the training data\n",
    "train_data"
   ],
   "metadata": {
    "collapsed": false,
    "ExecuteTime": {
     "end_time": "2024-05-07T19:49:11.036693Z",
     "start_time": "2024-05-07T19:49:11.008017Z"
    }
   },
   "id": "3cb8b787827582db",
   "execution_count": 7
  },
  {
   "cell_type": "code",
   "outputs": [
    {
     "data": {
      "text/plain": "Index(['date', 'NO_ugm3', 'NO2_ugm3', 'O3_ugm3', 'CO_mgm3', 'CO2_mgm3',\n       'PM25_ugm3', 'SiteID', 'Lat', 'Long', 'month', 'day_of_week', 'hour_x',\n       'avgtempC', 'maxtempC', 'mintempC', 'sunHour', 'uvIndex', 'humidity',\n       'winddirDegree', 'windspeedKmph', 'cloudcover', 'precipMM', 'pressure',\n       'DCC-AQ1-co', 'DCC-AQ1-no', 'DCC-AQ10-no', 'DCC-AQ13-no', 'DCC-AQ5-no',\n       'DCC-AQ6-no', 'DCC-AQ1-no2', 'DCC-AQ10-no2', 'DCC-AQ13-no2',\n       'DCC-AQ22-no2', 'DCC-AQ5-no2', 'DCC-AQ6-no2', 'DCC-AQ69-no2',\n       'DCC-AQ22-o3', 'DCC-AQ69-o3', 'DCC-AQ10-pm1', 'DCC-AQ13-pm1',\n       'DCC-AQ2-pm1', 'DCC-AQ3-pm1', 'DCC-AQ4-pm1', 'DCC-AQ5-pm1',\n       'DCC-AQ52-pm1', 'DCC-AQ6-pm1', 'TNO2161-pm1', 'TNO2162-pm1',\n       'TNO4435-pm1', 'TNT1088-pm1', 'DCC-AQ10-pm10', 'DCC-AQ13-pm10',\n       'DCC-AQ2-pm10', 'DCC-AQ22-pm10', 'DCC-AQ3-pm10', 'DCC-AQ4-pm10',\n       'DCC-AQ5-pm10', 'DCC-AQ52-pm10', 'DCC-AQ6-pm10', 'TNO2161-pm10',\n       'TNO2162-pm10', 'TNO4435-pm10', 'TNT1088-pm10', 'DCC-AQ10-pm2_5',\n       'DCC-AQ13-pm2_5', 'DCC-AQ2-pm2_5', 'DCC-AQ22-pm2_5', 'DCC-AQ3-pm2_5',\n       'DCC-AQ4-pm2_5', 'DCC-AQ5-pm2_5', 'DCC-AQ52-pm2_5', 'DCC-AQ6-pm2_5',\n       'TNO2161-pm2_5', 'TNO2162-pm2_5', 'TNO4435-pm2_5', 'TNT1088-pm2_5',\n       'DCC-AQ10-pm4', 'DCC-AQ13-pm4', 'DCC-AQ2-pm4', 'DCC-AQ3-pm4',\n       'DCC-AQ4-pm4', 'DCC-AQ5-pm4', 'DCC-AQ52-pm4', 'DCC-AQ6-pm4',\n       'DCC-AQ1-so2', 'DCC-AQ13-so2', 'DCC-AQ22-so2', 'TNO2161-tsp',\n       'TNO2162-tsp', 'TNO4435-tsp', 'TNT1088-tsp', 'hour_y'],\n      dtype='object')"
     },
     "execution_count": 8,
     "metadata": {},
     "output_type": "execute_result"
    }
   ],
   "source": [
    "train_data.columns"
   ],
   "metadata": {
    "collapsed": false,
    "ExecuteTime": {
     "end_time": "2024-05-07T19:49:37.205472Z",
     "start_time": "2024-05-07T19:49:37.198139Z"
    }
   },
   "id": "374a84fcfb7c39d0",
   "execution_count": 8
  },
  {
   "cell_type": "code",
   "outputs": [
    {
     "data": {
      "text/plain": "date            object\nNO_ugm3        float64\nNO2_ugm3       float64\nO3_ugm3        float64\nCO_mgm3        float64\n                ...   \nTNO2161-tsp    float64\nTNO2162-tsp    float64\nTNO4435-tsp    float64\nTNT1088-tsp    float64\nhour_y           int64\nLength: 93, dtype: object"
     },
     "execution_count": 9,
     "metadata": {},
     "output_type": "execute_result"
    }
   ],
   "source": [
    "train_data.dtypes"
   ],
   "metadata": {
    "collapsed": false,
    "ExecuteTime": {
     "end_time": "2024-05-07T19:50:30.375349Z",
     "start_time": "2024-05-07T19:50:30.363410Z"
    }
   },
   "id": "bedbf29204d0d5d2",
   "execution_count": 9
  },
  {
   "cell_type": "markdown",
   "source": [
    "\n",
    "## Train the Random Forest Model\n",
    "\n",
    "Here we will configure and train our Random Forest model.\n"
   ],
   "metadata": {
    "collapsed": false
   },
   "id": "cd97a1430a6853d4"
  },
  {
   "cell_type": "code",
   "outputs": [],
   "source": [
    "# Features and target variable ('PM25_ugm3')\n",
    "X_train = train_data.drop('PM25_ugm3', axis=1)\n",
    "y_train = train_data['PM25_ugm3']"
   ],
   "metadata": {
    "collapsed": false,
    "ExecuteTime": {
     "end_time": "2024-04-29T16:49:13.793932Z",
     "start_time": "2024-04-29T16:49:13.726204Z"
    }
   },
   "id": "731136634a240d36",
   "execution_count": 4
  },
  {
   "cell_type": "code",
   "outputs": [
    {
     "ename": "ValueError",
     "evalue": "could not convert string to float: '2021-06-28'",
     "output_type": "error",
     "traceback": [
      "\u001B[0;31m---------------------------------------------------------------------------\u001B[0m",
      "\u001B[0;31mValueError\u001B[0m                                Traceback (most recent call last)",
      "\u001B[0;32m/var/folders/96/d0b81fgx57nf5q8xrlw36p1w0000gn/T/ipykernel_27293/2362331022.py\u001B[0m in \u001B[0;36m?\u001B[0;34m()\u001B[0m\n\u001B[1;32m      1\u001B[0m \u001B[0;31m# Initialize and train the Random Forest model\u001B[0m\u001B[0;34m\u001B[0m\u001B[0;34m\u001B[0m\u001B[0m\n\u001B[1;32m      2\u001B[0m \u001B[0mrf_model\u001B[0m \u001B[0;34m=\u001B[0m \u001B[0mRandomForestRegressor\u001B[0m\u001B[0;34m(\u001B[0m\u001B[0mn_estimators\u001B[0m\u001B[0;34m=\u001B[0m\u001B[0;36m100\u001B[0m\u001B[0;34m,\u001B[0m \u001B[0mrandom_state\u001B[0m\u001B[0;34m=\u001B[0m\u001B[0;36m3\u001B[0m\u001B[0;34m)\u001B[0m\u001B[0;34m\u001B[0m\u001B[0;34m\u001B[0m\u001B[0m\n\u001B[0;32m----> 3\u001B[0;31m \u001B[0mrf_model\u001B[0m\u001B[0;34m.\u001B[0m\u001B[0mfit\u001B[0m\u001B[0;34m(\u001B[0m\u001B[0mX_train\u001B[0m\u001B[0;34m,\u001B[0m \u001B[0my_train\u001B[0m\u001B[0;34m)\u001B[0m\u001B[0;34m\u001B[0m\u001B[0;34m\u001B[0m\u001B[0m\n\u001B[0m",
      "\u001B[0;32m~/anaconda3/envs/ml/lib/python3.11/site-packages/sklearn/base.py\u001B[0m in \u001B[0;36m?\u001B[0;34m(estimator, *args, **kwargs)\u001B[0m\n\u001B[1;32m   1347\u001B[0m                 skip_parameter_validation=(\n\u001B[1;32m   1348\u001B[0m                     \u001B[0mprefer_skip_nested_validation\u001B[0m \u001B[0;32mor\u001B[0m \u001B[0mglobal_skip_validation\u001B[0m\u001B[0;34m\u001B[0m\u001B[0;34m\u001B[0m\u001B[0m\n\u001B[1;32m   1349\u001B[0m                 )\n\u001B[1;32m   1350\u001B[0m             ):\n\u001B[0;32m-> 1351\u001B[0;31m                 \u001B[0;32mreturn\u001B[0m \u001B[0mfit_method\u001B[0m\u001B[0;34m(\u001B[0m\u001B[0mestimator\u001B[0m\u001B[0;34m,\u001B[0m \u001B[0;34m*\u001B[0m\u001B[0margs\u001B[0m\u001B[0;34m,\u001B[0m \u001B[0;34m**\u001B[0m\u001B[0mkwargs\u001B[0m\u001B[0;34m)\u001B[0m\u001B[0;34m\u001B[0m\u001B[0;34m\u001B[0m\u001B[0m\n\u001B[0m",
      "\u001B[0;32m~/anaconda3/envs/ml/lib/python3.11/site-packages/sklearn/ensemble/_forest.py\u001B[0m in \u001B[0;36m?\u001B[0;34m(self, X, y, sample_weight)\u001B[0m\n\u001B[1;32m    359\u001B[0m         \u001B[0;31m# Validate or convert input data\u001B[0m\u001B[0;34m\u001B[0m\u001B[0;34m\u001B[0m\u001B[0m\n\u001B[1;32m    360\u001B[0m         \u001B[0;32mif\u001B[0m \u001B[0missparse\u001B[0m\u001B[0;34m(\u001B[0m\u001B[0my\u001B[0m\u001B[0;34m)\u001B[0m\u001B[0;34m:\u001B[0m\u001B[0;34m\u001B[0m\u001B[0;34m\u001B[0m\u001B[0m\n\u001B[1;32m    361\u001B[0m             \u001B[0;32mraise\u001B[0m \u001B[0mValueError\u001B[0m\u001B[0;34m(\u001B[0m\u001B[0;34m\"sparse multilabel-indicator for y is not supported.\"\u001B[0m\u001B[0;34m)\u001B[0m\u001B[0;34m\u001B[0m\u001B[0;34m\u001B[0m\u001B[0m\n\u001B[1;32m    362\u001B[0m \u001B[0;34m\u001B[0m\u001B[0m\n\u001B[0;32m--> 363\u001B[0;31m         X, y = self._validate_data(\n\u001B[0m\u001B[1;32m    364\u001B[0m             \u001B[0mX\u001B[0m\u001B[0;34m,\u001B[0m\u001B[0;34m\u001B[0m\u001B[0;34m\u001B[0m\u001B[0m\n\u001B[1;32m    365\u001B[0m             \u001B[0my\u001B[0m\u001B[0;34m,\u001B[0m\u001B[0;34m\u001B[0m\u001B[0;34m\u001B[0m\u001B[0m\n\u001B[1;32m    366\u001B[0m             \u001B[0mmulti_output\u001B[0m\u001B[0;34m=\u001B[0m\u001B[0;32mTrue\u001B[0m\u001B[0;34m,\u001B[0m\u001B[0;34m\u001B[0m\u001B[0;34m\u001B[0m\u001B[0m\n",
      "\u001B[0;32m~/anaconda3/envs/ml/lib/python3.11/site-packages/sklearn/base.py\u001B[0m in \u001B[0;36m?\u001B[0;34m(self, X, y, reset, validate_separately, cast_to_ndarray, **check_params)\u001B[0m\n\u001B[1;32m    646\u001B[0m                 \u001B[0;32mif\u001B[0m \u001B[0;34m\"estimator\"\u001B[0m \u001B[0;32mnot\u001B[0m \u001B[0;32min\u001B[0m \u001B[0mcheck_y_params\u001B[0m\u001B[0;34m:\u001B[0m\u001B[0;34m\u001B[0m\u001B[0;34m\u001B[0m\u001B[0m\n\u001B[1;32m    647\u001B[0m                     \u001B[0mcheck_y_params\u001B[0m \u001B[0;34m=\u001B[0m \u001B[0;34m{\u001B[0m\u001B[0;34m**\u001B[0m\u001B[0mdefault_check_params\u001B[0m\u001B[0;34m,\u001B[0m \u001B[0;34m**\u001B[0m\u001B[0mcheck_y_params\u001B[0m\u001B[0;34m}\u001B[0m\u001B[0;34m\u001B[0m\u001B[0;34m\u001B[0m\u001B[0m\n\u001B[1;32m    648\u001B[0m                 \u001B[0my\u001B[0m \u001B[0;34m=\u001B[0m \u001B[0mcheck_array\u001B[0m\u001B[0;34m(\u001B[0m\u001B[0my\u001B[0m\u001B[0;34m,\u001B[0m \u001B[0minput_name\u001B[0m\u001B[0;34m=\u001B[0m\u001B[0;34m\"y\"\u001B[0m\u001B[0;34m,\u001B[0m \u001B[0;34m**\u001B[0m\u001B[0mcheck_y_params\u001B[0m\u001B[0;34m)\u001B[0m\u001B[0;34m\u001B[0m\u001B[0;34m\u001B[0m\u001B[0m\n\u001B[1;32m    649\u001B[0m             \u001B[0;32melse\u001B[0m\u001B[0;34m:\u001B[0m\u001B[0;34m\u001B[0m\u001B[0;34m\u001B[0m\u001B[0m\n\u001B[0;32m--> 650\u001B[0;31m                 \u001B[0mX\u001B[0m\u001B[0;34m,\u001B[0m \u001B[0my\u001B[0m \u001B[0;34m=\u001B[0m \u001B[0mcheck_X_y\u001B[0m\u001B[0;34m(\u001B[0m\u001B[0mX\u001B[0m\u001B[0;34m,\u001B[0m \u001B[0my\u001B[0m\u001B[0;34m,\u001B[0m \u001B[0;34m**\u001B[0m\u001B[0mcheck_params\u001B[0m\u001B[0;34m)\u001B[0m\u001B[0;34m\u001B[0m\u001B[0;34m\u001B[0m\u001B[0m\n\u001B[0m\u001B[1;32m    651\u001B[0m             \u001B[0mout\u001B[0m \u001B[0;34m=\u001B[0m \u001B[0mX\u001B[0m\u001B[0;34m,\u001B[0m \u001B[0my\u001B[0m\u001B[0;34m\u001B[0m\u001B[0;34m\u001B[0m\u001B[0m\n\u001B[1;32m    652\u001B[0m \u001B[0;34m\u001B[0m\u001B[0m\n\u001B[1;32m    653\u001B[0m         \u001B[0;32mif\u001B[0m \u001B[0;32mnot\u001B[0m \u001B[0mno_val_X\u001B[0m \u001B[0;32mand\u001B[0m \u001B[0mcheck_params\u001B[0m\u001B[0;34m.\u001B[0m\u001B[0mget\u001B[0m\u001B[0;34m(\u001B[0m\u001B[0;34m\"ensure_2d\"\u001B[0m\u001B[0;34m,\u001B[0m \u001B[0;32mTrue\u001B[0m\u001B[0;34m)\u001B[0m\u001B[0;34m:\u001B[0m\u001B[0;34m\u001B[0m\u001B[0;34m\u001B[0m\u001B[0m\n",
      "\u001B[0;32m~/anaconda3/envs/ml/lib/python3.11/site-packages/sklearn/utils/validation.py\u001B[0m in \u001B[0;36m?\u001B[0;34m(X, y, accept_sparse, accept_large_sparse, dtype, order, copy, force_all_finite, ensure_2d, allow_nd, multi_output, ensure_min_samples, ensure_min_features, y_numeric, estimator)\u001B[0m\n\u001B[1;32m   1188\u001B[0m         raise ValueError(\n\u001B[1;32m   1189\u001B[0m             \u001B[0;34mf\"{estimator_name} requires y to be passed, but the target y is None\"\u001B[0m\u001B[0;34m\u001B[0m\u001B[0;34m\u001B[0m\u001B[0m\n\u001B[1;32m   1190\u001B[0m         )\n\u001B[1;32m   1191\u001B[0m \u001B[0;34m\u001B[0m\u001B[0m\n\u001B[0;32m-> 1192\u001B[0;31m     X = check_array(\n\u001B[0m\u001B[1;32m   1193\u001B[0m         \u001B[0mX\u001B[0m\u001B[0;34m,\u001B[0m\u001B[0;34m\u001B[0m\u001B[0;34m\u001B[0m\u001B[0m\n\u001B[1;32m   1194\u001B[0m         \u001B[0maccept_sparse\u001B[0m\u001B[0;34m=\u001B[0m\u001B[0maccept_sparse\u001B[0m\u001B[0;34m,\u001B[0m\u001B[0;34m\u001B[0m\u001B[0;34m\u001B[0m\u001B[0m\n\u001B[1;32m   1195\u001B[0m         \u001B[0maccept_large_sparse\u001B[0m\u001B[0;34m=\u001B[0m\u001B[0maccept_large_sparse\u001B[0m\u001B[0;34m,\u001B[0m\u001B[0;34m\u001B[0m\u001B[0;34m\u001B[0m\u001B[0m\n",
      "\u001B[0;32m~/anaconda3/envs/ml/lib/python3.11/site-packages/sklearn/utils/validation.py\u001B[0m in \u001B[0;36m?\u001B[0;34m(array, accept_sparse, accept_large_sparse, dtype, order, copy, force_all_finite, ensure_2d, allow_nd, ensure_min_samples, ensure_min_features, estimator, input_name)\u001B[0m\n\u001B[1;32m    948\u001B[0m                         )\n\u001B[1;32m    949\u001B[0m                     \u001B[0marray\u001B[0m \u001B[0;34m=\u001B[0m \u001B[0mxp\u001B[0m\u001B[0;34m.\u001B[0m\u001B[0mastype\u001B[0m\u001B[0;34m(\u001B[0m\u001B[0marray\u001B[0m\u001B[0;34m,\u001B[0m \u001B[0mdtype\u001B[0m\u001B[0;34m,\u001B[0m \u001B[0mcopy\u001B[0m\u001B[0;34m=\u001B[0m\u001B[0;32mFalse\u001B[0m\u001B[0;34m)\u001B[0m\u001B[0;34m\u001B[0m\u001B[0;34m\u001B[0m\u001B[0m\n\u001B[1;32m    950\u001B[0m                 \u001B[0;32melse\u001B[0m\u001B[0;34m:\u001B[0m\u001B[0;34m\u001B[0m\u001B[0;34m\u001B[0m\u001B[0m\n\u001B[1;32m    951\u001B[0m                     \u001B[0marray\u001B[0m \u001B[0;34m=\u001B[0m \u001B[0m_asarray_with_order\u001B[0m\u001B[0;34m(\u001B[0m\u001B[0marray\u001B[0m\u001B[0;34m,\u001B[0m \u001B[0morder\u001B[0m\u001B[0;34m=\u001B[0m\u001B[0morder\u001B[0m\u001B[0;34m,\u001B[0m \u001B[0mdtype\u001B[0m\u001B[0;34m=\u001B[0m\u001B[0mdtype\u001B[0m\u001B[0;34m,\u001B[0m \u001B[0mxp\u001B[0m\u001B[0;34m=\u001B[0m\u001B[0mxp\u001B[0m\u001B[0;34m)\u001B[0m\u001B[0;34m\u001B[0m\u001B[0;34m\u001B[0m\u001B[0m\n\u001B[0;32m--> 952\u001B[0;31m             \u001B[0;32mexcept\u001B[0m \u001B[0mComplexWarning\u001B[0m \u001B[0;32mas\u001B[0m \u001B[0mcomplex_warning\u001B[0m\u001B[0;34m:\u001B[0m\u001B[0;34m\u001B[0m\u001B[0;34m\u001B[0m\u001B[0m\n\u001B[0m\u001B[1;32m    953\u001B[0m                 raise ValueError(\n\u001B[1;32m    954\u001B[0m                     \u001B[0;34m\"Complex data not supported\\n{}\\n\"\u001B[0m\u001B[0;34m.\u001B[0m\u001B[0mformat\u001B[0m\u001B[0;34m(\u001B[0m\u001B[0marray\u001B[0m\u001B[0;34m)\u001B[0m\u001B[0;34m\u001B[0m\u001B[0;34m\u001B[0m\u001B[0m\n\u001B[1;32m    955\u001B[0m                 ) from complex_warning\n",
      "\u001B[0;32m~/anaconda3/envs/ml/lib/python3.11/site-packages/sklearn/utils/_array_api.py\u001B[0m in \u001B[0;36m?\u001B[0;34m(array, dtype, order, copy, xp)\u001B[0m\n\u001B[1;32m    517\u001B[0m         \u001B[0;31m# Use NumPy API to support order\u001B[0m\u001B[0;34m\u001B[0m\u001B[0;34m\u001B[0m\u001B[0m\n\u001B[1;32m    518\u001B[0m         \u001B[0;32mif\u001B[0m \u001B[0mcopy\u001B[0m \u001B[0;32mis\u001B[0m \u001B[0;32mTrue\u001B[0m\u001B[0;34m:\u001B[0m\u001B[0;34m\u001B[0m\u001B[0;34m\u001B[0m\u001B[0m\n\u001B[1;32m    519\u001B[0m             \u001B[0marray\u001B[0m \u001B[0;34m=\u001B[0m \u001B[0mnumpy\u001B[0m\u001B[0;34m.\u001B[0m\u001B[0marray\u001B[0m\u001B[0;34m(\u001B[0m\u001B[0marray\u001B[0m\u001B[0;34m,\u001B[0m \u001B[0morder\u001B[0m\u001B[0;34m=\u001B[0m\u001B[0morder\u001B[0m\u001B[0;34m,\u001B[0m \u001B[0mdtype\u001B[0m\u001B[0;34m=\u001B[0m\u001B[0mdtype\u001B[0m\u001B[0;34m)\u001B[0m\u001B[0;34m\u001B[0m\u001B[0;34m\u001B[0m\u001B[0m\n\u001B[1;32m    520\u001B[0m         \u001B[0;32melse\u001B[0m\u001B[0;34m:\u001B[0m\u001B[0;34m\u001B[0m\u001B[0;34m\u001B[0m\u001B[0m\n\u001B[0;32m--> 521\u001B[0;31m             \u001B[0marray\u001B[0m \u001B[0;34m=\u001B[0m \u001B[0mnumpy\u001B[0m\u001B[0;34m.\u001B[0m\u001B[0masarray\u001B[0m\u001B[0;34m(\u001B[0m\u001B[0marray\u001B[0m\u001B[0;34m,\u001B[0m \u001B[0morder\u001B[0m\u001B[0;34m=\u001B[0m\u001B[0morder\u001B[0m\u001B[0;34m,\u001B[0m \u001B[0mdtype\u001B[0m\u001B[0;34m=\u001B[0m\u001B[0mdtype\u001B[0m\u001B[0;34m)\u001B[0m\u001B[0;34m\u001B[0m\u001B[0;34m\u001B[0m\u001B[0m\n\u001B[0m\u001B[1;32m    522\u001B[0m \u001B[0;34m\u001B[0m\u001B[0m\n\u001B[1;32m    523\u001B[0m         \u001B[0;31m# At this point array is a NumPy ndarray. We convert it to an array\u001B[0m\u001B[0;34m\u001B[0m\u001B[0;34m\u001B[0m\u001B[0m\n\u001B[1;32m    524\u001B[0m         \u001B[0;31m# container that is consistent with the input's namespace.\u001B[0m\u001B[0;34m\u001B[0m\u001B[0;34m\u001B[0m\u001B[0m\n",
      "\u001B[0;32m~/anaconda3/envs/ml/lib/python3.11/site-packages/pandas/core/generic.py\u001B[0m in \u001B[0;36m?\u001B[0;34m(self, dtype)\u001B[0m\n\u001B[1;32m   2148\u001B[0m     \u001B[0;32mdef\u001B[0m \u001B[0m__array__\u001B[0m\u001B[0;34m(\u001B[0m\u001B[0mself\u001B[0m\u001B[0;34m,\u001B[0m \u001B[0mdtype\u001B[0m\u001B[0;34m:\u001B[0m \u001B[0mnpt\u001B[0m\u001B[0;34m.\u001B[0m\u001B[0mDTypeLike\u001B[0m \u001B[0;34m|\u001B[0m \u001B[0;32mNone\u001B[0m \u001B[0;34m=\u001B[0m \u001B[0;32mNone\u001B[0m\u001B[0;34m)\u001B[0m \u001B[0;34m->\u001B[0m \u001B[0mnp\u001B[0m\u001B[0;34m.\u001B[0m\u001B[0mndarray\u001B[0m\u001B[0;34m:\u001B[0m\u001B[0;34m\u001B[0m\u001B[0;34m\u001B[0m\u001B[0m\n\u001B[1;32m   2149\u001B[0m         \u001B[0mvalues\u001B[0m \u001B[0;34m=\u001B[0m \u001B[0mself\u001B[0m\u001B[0;34m.\u001B[0m\u001B[0m_values\u001B[0m\u001B[0;34m\u001B[0m\u001B[0;34m\u001B[0m\u001B[0m\n\u001B[0;32m-> 2150\u001B[0;31m         \u001B[0marr\u001B[0m \u001B[0;34m=\u001B[0m \u001B[0mnp\u001B[0m\u001B[0;34m.\u001B[0m\u001B[0masarray\u001B[0m\u001B[0;34m(\u001B[0m\u001B[0mvalues\u001B[0m\u001B[0;34m,\u001B[0m \u001B[0mdtype\u001B[0m\u001B[0;34m=\u001B[0m\u001B[0mdtype\u001B[0m\u001B[0;34m)\u001B[0m\u001B[0;34m\u001B[0m\u001B[0;34m\u001B[0m\u001B[0m\n\u001B[0m\u001B[1;32m   2151\u001B[0m         if (\n\u001B[1;32m   2152\u001B[0m             \u001B[0mastype_is_view\u001B[0m\u001B[0;34m(\u001B[0m\u001B[0mvalues\u001B[0m\u001B[0;34m.\u001B[0m\u001B[0mdtype\u001B[0m\u001B[0;34m,\u001B[0m \u001B[0marr\u001B[0m\u001B[0;34m.\u001B[0m\u001B[0mdtype\u001B[0m\u001B[0;34m)\u001B[0m\u001B[0;34m\u001B[0m\u001B[0;34m\u001B[0m\u001B[0m\n\u001B[1;32m   2153\u001B[0m             \u001B[0;32mand\u001B[0m \u001B[0musing_copy_on_write\u001B[0m\u001B[0;34m(\u001B[0m\u001B[0;34m)\u001B[0m\u001B[0;34m\u001B[0m\u001B[0;34m\u001B[0m\u001B[0m\n",
      "\u001B[0;31mValueError\u001B[0m: could not convert string to float: '2021-06-28'"
     ]
    }
   ],
   "source": [
    "# Initialize and train the Random Forest model\n",
    "rf_model = RandomForestRegressor(n_estimators=100, random_state=3)\n",
    "rf_model.fit(X_train, y_train)"
   ],
   "metadata": {
    "collapsed": false,
    "ExecuteTime": {
     "end_time": "2024-04-29T16:49:20.646739Z",
     "start_time": "2024-04-29T16:49:20.212986Z"
    }
   },
   "id": "825af98cc5de31e1",
   "execution_count": 5
  },
  {
   "cell_type": "markdown",
   "source": [
    "\n",
    "## Predict and Evaluate the Model\n",
    "\n",
    "Now, let's make predictions on the test set and evaluate the model.\n"
   ],
   "metadata": {
    "collapsed": false
   },
   "id": "b4b04f87f713064f"
  },
  {
   "cell_type": "code",
   "outputs": [],
   "source": [
    "\n",
    "# Prepare test data\n",
    "X_test = test_data.drop('target', axis=1)\n",
    "y_test = test_data['target']\n",
    "\n",
    "# Make predictions\n",
    "predictions = rf_model.predict(X_test)\n",
    "\n",
    "# Evaluate the model\n",
    "mse = mean_squared_error(y_test, predictions)\n",
    "r2 = r2_score(y_test, predictions)\n",
    "\n",
    "f'Mean Squared Error: {mse}, R² Score: {r2}'\n"
   ],
   "metadata": {
    "collapsed": false
   },
   "id": "13d656a37db01837"
  },
  {
   "cell_type": "markdown",
   "source": [
    "\n",
    "## Feature Importance\n",
    "\n",
    "Visualize the importance of each feature in making predictions.\n"
   ],
   "metadata": {
    "collapsed": false
   },
   "id": "f4a738445de539f"
  },
  {
   "cell_type": "code",
   "outputs": [],
   "source": [
    "\n",
    "# Get feature importances\n",
    "importances = rf_model.feature_importances_\n",
    "\n",
    "# Sort the feature importances in descending order and plot them\n",
    "indices = np.argsort(importances)[::-1]\n",
    "plt.figure(figsize=(10, 6))\n",
    "plt.title('Feature Importances')\n",
    "plt.bar(range(X_train.shape[1]), importances[indices], align='center')\n",
    "plt.xticks(range(X_train.shape[1]), X_train.columns[indices], rotation=90)\n",
    "plt.tight_layout()\n",
    "plt.show()\n"
   ],
   "metadata": {
    "collapsed": false
   },
   "id": "8ae87b5b234628d2"
  }
 ],
 "metadata": {
  "kernelspec": {
   "name": "python3",
   "language": "python",
   "display_name": "Python 3 (ipykernel)"
  }
 },
 "nbformat": 4,
 "nbformat_minor": 5
}

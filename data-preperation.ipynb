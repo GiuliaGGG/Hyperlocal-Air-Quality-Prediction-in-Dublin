{
 "cells": [
  {
   "cell_type": "markdown",
   "source": [
    "## Data Preperation Dublin"
   ],
   "metadata": {
    "collapsed": false
   },
   "id": "ae8dc3bcacc65a81"
  },
  {
   "cell_type": "code",
   "outputs": [
    {
     "name": "stderr",
     "output_type": "stream",
     "text": [
      "/var/folders/96/d0b81fgx57nf5q8xrlw36p1w0000gn/T/ipykernel_99738/2537370279.py:1: DeprecationWarning: \n",
      "Pyarrow will become a required dependency of pandas in the next major release of pandas (pandas 3.0),\n",
      "(to allow more performant data types, such as the Arrow string type, and better interoperability with other libraries)\n",
      "but was not found to be installed on your system.\n",
      "If this would cause problems for you,\n",
      "please provide us feedback at https://github.com/pandas-dev/pandas/issues/54466\n",
      "        \n",
      "  import pandas as pd\n"
     ]
    }
   ],
   "source": [
    "import pandas as pd\n",
    "dublin_air = pd.read_csv(\"data/AirView_DublinCity_Measurements_ugm3.csv\")"
   ],
   "metadata": {
    "collapsed": false,
    "ExecuteTime": {
     "end_time": "2024-04-04T10:46:05.651771Z",
     "start_time": "2024-04-04T10:45:59.096376Z"
    }
   },
   "id": "b7ea3f23537ae40",
   "execution_count": 1
  },
  {
   "cell_type": "code",
   "outputs": [
    {
     "data": {
      "text/plain": "             gps_timestamp   latitude  longitude  NO_ugm3  NO2_ugm3  O3_ugm3  \\\n0  2022-04-07 14:56:36 UTC  53.346434  -6.263997  -13.526    11.724      NaN   \n1  2022-04-07 14:56:37 UTC  53.346434  -6.263997  -29.957     4.441      NaN   \n2  2022-04-07 14:56:38 UTC  53.346434  -6.263997   -9.260     8.725   59.109   \n3  2022-04-07 14:56:39 UTC  53.346434  -6.263997  -22.847     7.023      NaN   \n4  2022-04-07 14:56:40 UTC  53.346434  -6.263997   -9.225    15.591      NaN   \n\n   CO_mgm3  CO2_mgm3  PMch1_perL  PMch2_perL  PMch3_perL  PMch4_perL  \\\n0    0.293   765.328      6240.0      1860.0      1380.0       480.0   \n1    0.291       NaN      4800.0      1380.0      1020.0       240.0   \n2    0.299       NaN      6300.0      1800.0      1140.0       600.0   \n3    0.295       NaN      5040.0      1800.0      1080.0       300.0   \n4    0.296   763.271      5580.0      1920.0      1260.0       480.0   \n\n   PMch5_perL  PMch6_perL  PM25_ugm3  \n0        60.0       120.0      4.927  \n1       240.0        60.0      4.240  \n2        60.0        60.0      4.204  \n3        60.0        60.0      3.410  \n4        60.0        60.0      4.003  ",
      "text/html": "<div>\n<style scoped>\n    .dataframe tbody tr th:only-of-type {\n        vertical-align: middle;\n    }\n\n    .dataframe tbody tr th {\n        vertical-align: top;\n    }\n\n    .dataframe thead th {\n        text-align: right;\n    }\n</style>\n<table border=\"1\" class=\"dataframe\">\n  <thead>\n    <tr style=\"text-align: right;\">\n      <th></th>\n      <th>gps_timestamp</th>\n      <th>latitude</th>\n      <th>longitude</th>\n      <th>NO_ugm3</th>\n      <th>NO2_ugm3</th>\n      <th>O3_ugm3</th>\n      <th>CO_mgm3</th>\n      <th>CO2_mgm3</th>\n      <th>PMch1_perL</th>\n      <th>PMch2_perL</th>\n      <th>PMch3_perL</th>\n      <th>PMch4_perL</th>\n      <th>PMch5_perL</th>\n      <th>PMch6_perL</th>\n      <th>PM25_ugm3</th>\n    </tr>\n  </thead>\n  <tbody>\n    <tr>\n      <th>0</th>\n      <td>2022-04-07 14:56:36 UTC</td>\n      <td>53.346434</td>\n      <td>-6.263997</td>\n      <td>-13.526</td>\n      <td>11.724</td>\n      <td>NaN</td>\n      <td>0.293</td>\n      <td>765.328</td>\n      <td>6240.0</td>\n      <td>1860.0</td>\n      <td>1380.0</td>\n      <td>480.0</td>\n      <td>60.0</td>\n      <td>120.0</td>\n      <td>4.927</td>\n    </tr>\n    <tr>\n      <th>1</th>\n      <td>2022-04-07 14:56:37 UTC</td>\n      <td>53.346434</td>\n      <td>-6.263997</td>\n      <td>-29.957</td>\n      <td>4.441</td>\n      <td>NaN</td>\n      <td>0.291</td>\n      <td>NaN</td>\n      <td>4800.0</td>\n      <td>1380.0</td>\n      <td>1020.0</td>\n      <td>240.0</td>\n      <td>240.0</td>\n      <td>60.0</td>\n      <td>4.240</td>\n    </tr>\n    <tr>\n      <th>2</th>\n      <td>2022-04-07 14:56:38 UTC</td>\n      <td>53.346434</td>\n      <td>-6.263997</td>\n      <td>-9.260</td>\n      <td>8.725</td>\n      <td>59.109</td>\n      <td>0.299</td>\n      <td>NaN</td>\n      <td>6300.0</td>\n      <td>1800.0</td>\n      <td>1140.0</td>\n      <td>600.0</td>\n      <td>60.0</td>\n      <td>60.0</td>\n      <td>4.204</td>\n    </tr>\n    <tr>\n      <th>3</th>\n      <td>2022-04-07 14:56:39 UTC</td>\n      <td>53.346434</td>\n      <td>-6.263997</td>\n      <td>-22.847</td>\n      <td>7.023</td>\n      <td>NaN</td>\n      <td>0.295</td>\n      <td>NaN</td>\n      <td>5040.0</td>\n      <td>1800.0</td>\n      <td>1080.0</td>\n      <td>300.0</td>\n      <td>60.0</td>\n      <td>60.0</td>\n      <td>3.410</td>\n    </tr>\n    <tr>\n      <th>4</th>\n      <td>2022-04-07 14:56:40 UTC</td>\n      <td>53.346434</td>\n      <td>-6.263997</td>\n      <td>-9.225</td>\n      <td>15.591</td>\n      <td>NaN</td>\n      <td>0.296</td>\n      <td>763.271</td>\n      <td>5580.0</td>\n      <td>1920.0</td>\n      <td>1260.0</td>\n      <td>480.0</td>\n      <td>60.0</td>\n      <td>60.0</td>\n      <td>4.003</td>\n    </tr>\n  </tbody>\n</table>\n</div>"
     },
     "execution_count": 2,
     "metadata": {},
     "output_type": "execute_result"
    }
   ],
   "source": [
    "dublin_air.head()"
   ],
   "metadata": {
    "collapsed": false,
    "ExecuteTime": {
     "end_time": "2024-04-04T10:46:05.688065Z",
     "start_time": "2024-04-04T10:46:05.653982Z"
    }
   },
   "id": "ad70eada8583da5a",
   "execution_count": 2
  },
  {
   "cell_type": "code",
   "outputs": [
    {
     "data": {
      "text/plain": "gps_timestamp          0\nlatitude               0\nlongitude              0\nNO_ugm3           418699\nNO2_ugm3         1165108\nO3_ugm3          3582771\nCO_mgm3           321269\nCO2_mgm3          898496\nPMch1_perL         89877\nPMch2_perL         89877\nPMch3_perL         89877\nPMch4_perL         89877\nPMch5_perL         89877\nPMch6_perL         89877\nPM25_ugm3          89877\ndtype: int64"
     },
     "execution_count": 3,
     "metadata": {},
     "output_type": "execute_result"
    }
   ],
   "source": [
    "# count na values in each column\n",
    "dublin_air.isna().sum()"
   ],
   "metadata": {
    "collapsed": false,
    "ExecuteTime": {
     "end_time": "2024-04-04T10:46:06.260871Z",
     "start_time": "2024-04-04T10:46:05.690253Z"
    }
   },
   "id": "4c9e9fddf29e48b7",
   "execution_count": 3
  },
  {
   "cell_type": "code",
   "outputs": [],
   "source": [
    "# drop columns by index\n",
    "dublin_air.drop(dublin_air.columns[8:14], axis=1, inplace=True)"
   ],
   "metadata": {
    "collapsed": false,
    "ExecuteTime": {
     "end_time": "2024-04-04T10:46:06.579250Z",
     "start_time": "2024-04-04T10:46:06.263502Z"
    }
   },
   "id": "fac650cc5b3be61a",
   "execution_count": 4
  },
  {
   "cell_type": "code",
   "outputs": [
    {
     "data": {
      "text/plain": "             gps_timestamp   latitude  longitude  NO_ugm3  NO2_ugm3  O3_ugm3  \\\n0  2022-04-07 14:56:36 UTC  53.346434  -6.263997  -13.526    11.724      NaN   \n1  2022-04-07 14:56:37 UTC  53.346434  -6.263997  -29.957     4.441      NaN   \n2  2022-04-07 14:56:38 UTC  53.346434  -6.263997   -9.260     8.725   59.109   \n3  2022-04-07 14:56:39 UTC  53.346434  -6.263997  -22.847     7.023      NaN   \n4  2022-04-07 14:56:40 UTC  53.346434  -6.263997   -9.225    15.591      NaN   \n\n   CO_mgm3  CO2_mgm3  PM25_ugm3  \n0    0.293   765.328      4.927  \n1    0.291       NaN      4.240  \n2    0.299       NaN      4.204  \n3    0.295       NaN      3.410  \n4    0.296   763.271      4.003  ",
      "text/html": "<div>\n<style scoped>\n    .dataframe tbody tr th:only-of-type {\n        vertical-align: middle;\n    }\n\n    .dataframe tbody tr th {\n        vertical-align: top;\n    }\n\n    .dataframe thead th {\n        text-align: right;\n    }\n</style>\n<table border=\"1\" class=\"dataframe\">\n  <thead>\n    <tr style=\"text-align: right;\">\n      <th></th>\n      <th>gps_timestamp</th>\n      <th>latitude</th>\n      <th>longitude</th>\n      <th>NO_ugm3</th>\n      <th>NO2_ugm3</th>\n      <th>O3_ugm3</th>\n      <th>CO_mgm3</th>\n      <th>CO2_mgm3</th>\n      <th>PM25_ugm3</th>\n    </tr>\n  </thead>\n  <tbody>\n    <tr>\n      <th>0</th>\n      <td>2022-04-07 14:56:36 UTC</td>\n      <td>53.346434</td>\n      <td>-6.263997</td>\n      <td>-13.526</td>\n      <td>11.724</td>\n      <td>NaN</td>\n      <td>0.293</td>\n      <td>765.328</td>\n      <td>4.927</td>\n    </tr>\n    <tr>\n      <th>1</th>\n      <td>2022-04-07 14:56:37 UTC</td>\n      <td>53.346434</td>\n      <td>-6.263997</td>\n      <td>-29.957</td>\n      <td>4.441</td>\n      <td>NaN</td>\n      <td>0.291</td>\n      <td>NaN</td>\n      <td>4.240</td>\n    </tr>\n    <tr>\n      <th>2</th>\n      <td>2022-04-07 14:56:38 UTC</td>\n      <td>53.346434</td>\n      <td>-6.263997</td>\n      <td>-9.260</td>\n      <td>8.725</td>\n      <td>59.109</td>\n      <td>0.299</td>\n      <td>NaN</td>\n      <td>4.204</td>\n    </tr>\n    <tr>\n      <th>3</th>\n      <td>2022-04-07 14:56:39 UTC</td>\n      <td>53.346434</td>\n      <td>-6.263997</td>\n      <td>-22.847</td>\n      <td>7.023</td>\n      <td>NaN</td>\n      <td>0.295</td>\n      <td>NaN</td>\n      <td>3.410</td>\n    </tr>\n    <tr>\n      <th>4</th>\n      <td>2022-04-07 14:56:40 UTC</td>\n      <td>53.346434</td>\n      <td>-6.263997</td>\n      <td>-9.225</td>\n      <td>15.591</td>\n      <td>NaN</td>\n      <td>0.296</td>\n      <td>763.271</td>\n      <td>4.003</td>\n    </tr>\n  </tbody>\n</table>\n</div>"
     },
     "execution_count": 5,
     "metadata": {},
     "output_type": "execute_result"
    }
   ],
   "source": [
    "dublin_air.head()"
   ],
   "metadata": {
    "collapsed": false,
    "ExecuteTime": {
     "end_time": "2024-04-04T10:46:06.594722Z",
     "start_time": "2024-04-04T10:46:06.583755Z"
    }
   },
   "id": "f1d2c013c9f9c574",
   "execution_count": 5
  },
  {
   "cell_type": "code",
   "outputs": [
    {
     "data": {
      "text/plain": "gps_timestamp     object\nlatitude         float64\nlongitude        float64\nNO_ugm3          float64\nNO2_ugm3         float64\nO3_ugm3          float64\nCO_mgm3          float64\nCO2_mgm3         float64\nPM25_ugm3        float64\ndtype: object"
     },
     "execution_count": 6,
     "metadata": {},
     "output_type": "execute_result"
    }
   ],
   "source": [
    "dublin_air.dtypes"
   ],
   "metadata": {
    "collapsed": false,
    "ExecuteTime": {
     "end_time": "2024-04-04T10:46:06.601582Z",
     "start_time": "2024-04-04T10:46:06.596633Z"
    }
   },
   "id": "1e27203b5aeaeb28",
   "execution_count": 6
  },
  {
   "cell_type": "code",
   "outputs": [],
   "source": [
    "# Convert 'gps_timestamp' to datetime\n",
    "dublin_air['gps_timestamp'] = pd.to_datetime(dublin_air['gps_timestamp'])\n",
    "\n",
    "# Extract the date from 'gps_timestamp'\n",
    "dublin_air['date'] = dublin_air['gps_timestamp'].dt.date\n",
    "\n",
    "# Drop the 'gps_timestamp' column as it's no longer needed\n",
    "dublin_air= dublin_air.drop(columns='gps_timestamp')\n",
    "\n",
    "# Group by 'date', 'latitude', and 'longitude' and calculate the mean\n",
    "daily_average = dublin_air.groupby(['date', 'latitude', 'longitude']).mean().reset_index()"
   ],
   "metadata": {
    "collapsed": false,
    "ExecuteTime": {
     "end_time": "2024-04-04T10:46:48.007379Z",
     "start_time": "2024-04-04T10:46:06.602616Z"
    }
   },
   "id": "a73b9de12f88a33c",
   "execution_count": 7
  },
  {
   "cell_type": "code",
   "outputs": [
    {
     "data": {
      "text/plain": "         date   latitude  longitude  NO_ugm3  NO2_ugm3  O3_ugm3  CO_mgm3  \\\n0  2021-05-06  53.301941  -6.297264   -3.915     4.311      NaN    0.540   \n1  2021-05-06  53.301961  -6.297326  -23.507     2.268   73.538    0.526   \n2  2021-05-06  53.301979  -6.297364  -17.819     7.120      NaN    0.543   \n3  2021-05-06  53.301982  -6.297372  -33.715     9.264      NaN    0.604   \n4  2021-05-06  53.301983  -6.297372  -22.023     8.941      NaN    0.583   \n\n   CO2_mgm3  PM25_ugm3  \n0   799.317      1.915  \n1   803.419      4.428  \n2   807.597      6.649  \n3   869.329      5.103  \n4   840.557      4.223  ",
      "text/html": "<div>\n<style scoped>\n    .dataframe tbody tr th:only-of-type {\n        vertical-align: middle;\n    }\n\n    .dataframe tbody tr th {\n        vertical-align: top;\n    }\n\n    .dataframe thead th {\n        text-align: right;\n    }\n</style>\n<table border=\"1\" class=\"dataframe\">\n  <thead>\n    <tr style=\"text-align: right;\">\n      <th></th>\n      <th>date</th>\n      <th>latitude</th>\n      <th>longitude</th>\n      <th>NO_ugm3</th>\n      <th>NO2_ugm3</th>\n      <th>O3_ugm3</th>\n      <th>CO_mgm3</th>\n      <th>CO2_mgm3</th>\n      <th>PM25_ugm3</th>\n    </tr>\n  </thead>\n  <tbody>\n    <tr>\n      <th>0</th>\n      <td>2021-05-06</td>\n      <td>53.301941</td>\n      <td>-6.297264</td>\n      <td>-3.915</td>\n      <td>4.311</td>\n      <td>NaN</td>\n      <td>0.540</td>\n      <td>799.317</td>\n      <td>1.915</td>\n    </tr>\n    <tr>\n      <th>1</th>\n      <td>2021-05-06</td>\n      <td>53.301961</td>\n      <td>-6.297326</td>\n      <td>-23.507</td>\n      <td>2.268</td>\n      <td>73.538</td>\n      <td>0.526</td>\n      <td>803.419</td>\n      <td>4.428</td>\n    </tr>\n    <tr>\n      <th>2</th>\n      <td>2021-05-06</td>\n      <td>53.301979</td>\n      <td>-6.297364</td>\n      <td>-17.819</td>\n      <td>7.120</td>\n      <td>NaN</td>\n      <td>0.543</td>\n      <td>807.597</td>\n      <td>6.649</td>\n    </tr>\n    <tr>\n      <th>3</th>\n      <td>2021-05-06</td>\n      <td>53.301982</td>\n      <td>-6.297372</td>\n      <td>-33.715</td>\n      <td>9.264</td>\n      <td>NaN</td>\n      <td>0.604</td>\n      <td>869.329</td>\n      <td>5.103</td>\n    </tr>\n    <tr>\n      <th>4</th>\n      <td>2021-05-06</td>\n      <td>53.301983</td>\n      <td>-6.297372</td>\n      <td>-22.023</td>\n      <td>8.941</td>\n      <td>NaN</td>\n      <td>0.583</td>\n      <td>840.557</td>\n      <td>4.223</td>\n    </tr>\n  </tbody>\n</table>\n</div>"
     },
     "execution_count": 8,
     "metadata": {},
     "output_type": "execute_result"
    }
   ],
   "source": [
    "daily_average.head()"
   ],
   "metadata": {
    "collapsed": false,
    "ExecuteTime": {
     "end_time": "2024-04-04T10:46:48.023176Z",
     "start_time": "2024-04-04T10:46:48.010521Z"
    }
   },
   "id": "1e229a0f82d7e551",
   "execution_count": 8
  }
 ],
 "metadata": {
  "kernelspec": {
   "display_name": "Python 3",
   "language": "python",
   "name": "python3"
  },
  "language_info": {
   "codemirror_mode": {
    "name": "ipython",
    "version": 2
   },
   "file_extension": ".py",
   "mimetype": "text/x-python",
   "name": "python",
   "nbconvert_exporter": "python",
   "pygments_lexer": "ipython2",
   "version": "2.7.6"
  }
 },
 "nbformat": 4,
 "nbformat_minor": 5
}
